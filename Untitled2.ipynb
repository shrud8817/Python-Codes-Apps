{
  "nbformat": 4,
  "nbformat_minor": 0,
  "metadata": {
    "colab": {
      "name": "Untitled2.ipynb",
      "provenance": [],
      "collapsed_sections": [],
      "authorship_tag": "ABX9TyMG+QQV/MUTkrbCwE+vPbzx",
      "include_colab_link": true
    },
    "kernelspec": {
      "name": "python3",
      "display_name": "Python 3"
    }
  },
  "cells": [
    {
      "cell_type": "markdown",
      "metadata": {
        "id": "view-in-github",
        "colab_type": "text"
      },
      "source": [
        "<a href=\"https://colab.research.google.com/github/shrud8817/Python-Codes-Apps/blob/master/Untitled2.ipynb\" target=\"_parent\"><img src=\"https://colab.research.google.com/assets/colab-badge.svg\" alt=\"Open In Colab\"/></a>"
      ]
    },
    {
      "cell_type": "code",
      "metadata": {
        "colab": {
          "base_uri": "https://localhost:8080/"
        },
        "id": "GRd6iy1t5GOV",
        "outputId": "e1b5fa0e-fdfd-4549-8215-683ca4d74602"
      },
      "source": [
        "if not 1 in [10, 20] and 1 < 2:\n",
        "    print(1)\n",
        "else:\n",
        "    print(2)"
      ],
      "execution_count": 1,
      "outputs": [
        {
          "output_type": "stream",
          "text": [
            "1\n"
          ],
          "name": "stdout"
        }
      ]
    },
    {
      "cell_type": "code",
      "metadata": {
        "colab": {
          "base_uri": "https://localhost:8080/"
        },
        "id": "sCKtL4Bg5UPI",
        "outputId": "751e0982-8544-440b-d83e-4a3891a20c9c"
      },
      "source": [
        "list(range(2,5))"
      ],
      "execution_count": 2,
      "outputs": [
        {
          "output_type": "execute_result",
          "data": {
            "text/plain": [
              "[2, 3, 4]"
            ]
          },
          "metadata": {
            "tags": []
          },
          "execution_count": 2
        }
      ]
    },
    {
      "cell_type": "code",
      "metadata": {
        "colab": {
          "base_uri": "https://localhost:8080/",
          "height": 35
        },
        "id": "X-PPsyYs5ZDp",
        "outputId": "dd16091e-b788-4a6e-ee8d-0b23c41f08a2"
      },
      "source": [
        "mylist = [['abc'], ['def', 'ghi']]\n",
        "mylist[-1][-1][-1]"
      ],
      "execution_count": 3,
      "outputs": [
        {
          "output_type": "execute_result",
          "data": {
            "application/vnd.google.colaboratory.intrinsic+json": {
              "type": "string"
            },
            "text/plain": [
              "'i'"
            ]
          },
          "metadata": {
            "tags": []
          },
          "execution_count": 3
        }
      ]
    },
    {
      "cell_type": "code",
      "metadata": {
        "colab": {
          "base_uri": "https://localhost:8080/"
        },
        "id": "kzylxYIV5fXO",
        "outputId": "9da1b2d8-3a11-4cb4-8331-11e80a28c8a6"
      },
      "source": [
        "d = {\n",
        "    \"food\": {\n",
        "        \"rice\":\n",
        "            {\n",
        "                \"weight\": 30.1,\n",
        "                \"taste\": \"good\",\n",
        "                \"forms\": [\"boiled\"]\n",
        "            },\n",
        "        \"banana\":\n",
        "            {\n",
        "                \"weight\": 19,\n",
        "                \"taste\": \"excellent\",\n",
        "            }\n",
        "        }\n",
        "}\n",
        " \n",
        "print(d['food']['banana']['taste'])"
      ],
      "execution_count": 4,
      "outputs": [
        {
          "output_type": "stream",
          "text": [
            "excellent\n"
          ],
          "name": "stdout"
        }
      ]
    },
    {
      "cell_type": "code",
      "metadata": {
        "colab": {
          "base_uri": "https://localhost:8080/"
        },
        "id": "0unKFMG-5mPk",
        "outputId": "6b919f31-551b-47c3-ce84-5c73fd81b7f1"
      },
      "source": [
        "def eur_to_usd(euros, rate=0.8):\n",
        "    return euros * rate\n",
        "print(eur_to_usd(10))"
      ],
      "execution_count": 5,
      "outputs": [
        {
          "output_type": "stream",
          "text": [
            "8.0\n"
          ],
          "name": "stdout"
        }
      ]
    },
    {
      "cell_type": "code",
      "metadata": {
        "colab": {
          "base_uri": "https://localhost:8080/"
        },
        "id": "5HF1yAVR5tNS",
        "outputId": "10cabf91-09f8-45b0-d72b-d796d4e093c6"
      },
      "source": [
        "x = 10.0\n",
        " \n",
        "if type(x) == float:\n",
        "    print(int(x))\n",
        "else:\n",
        "    print(x)"
      ],
      "execution_count": 6,
      "outputs": [
        {
          "output_type": "stream",
          "text": [
            "10\n"
          ],
          "name": "stdout"
        }
      ]
    },
    {
      "cell_type": "code",
      "metadata": {
        "colab": {
          "base_uri": "https://localhost:8080/"
        },
        "id": "FhiYCDqM5xA-",
        "outputId": "f00b6bff-b4b0-476f-edd6-ada554d74e76"
      },
      "source": [
        "items = ['adapter', 'cable', 'keyboard']\n",
        " \n",
        "choice = input(\"Item\")\n",
        "if choice in items:\n",
        "    print(\"Item is available!\")"
      ],
      "execution_count": 7,
      "outputs": [
        {
          "output_type": "stream",
          "text": [
            "Itemcable\n",
            "Item is available!\n"
          ],
          "name": "stdout"
        }
      ]
    },
    {
      "cell_type": "code",
      "metadata": {
        "colab": {
          "base_uri": "https://localhost:8080/"
        },
        "id": "zoZb6MSz54Y_",
        "outputId": "72402136-53f1-4d31-c6cc-4147295cc000"
      },
      "source": [
        "weight = input(\"How many kg?\")\n",
        "price = float(weight) * 2.5\n",
        "print(price)\n"
      ],
      "execution_count": 9,
      "outputs": [
        {
          "output_type": "stream",
          "text": [
            "How many kg?5\n",
            "12.5\n"
          ],
          "name": "stdout"
        }
      ]
    },
    {
      "cell_type": "code",
      "metadata": {
        "colab": {
          "base_uri": "https://localhost:8080/"
        },
        "id": "yyyBKVnw6B3S",
        "outputId": "ade4a81b-5c3f-49d8-c4bd-4b1b34af31c4"
      },
      "source": [
        "weight = float(input(\"How many kg?\"))\n",
        "price = weight * 2.5\n",
        "print(f'Price is {price}')"
      ],
      "execution_count": 11,
      "outputs": [
        {
          "output_type": "stream",
          "text": [
            "How many kg?10\n",
            "Price is 25.0\n"
          ],
          "name": "stdout"
        }
      ]
    },
    {
      "cell_type": "code",
      "metadata": {
        "colab": {
          "base_uri": "https://localhost:8080/"
        },
        "id": "8A_mHtWT7hBU",
        "outputId": "75f8c630-ca52-4e45-8ab4-2d80ab8961e9"
      },
      "source": [
        "for item in [[1, 2, 3], [4, 5, 6]]:\n",
        "    print(item[0])"
      ],
      "execution_count": 15,
      "outputs": [
        {
          "output_type": "stream",
          "text": [
            "1\n",
            "4\n"
          ],
          "name": "stdout"
        }
      ]
    },
    {
      "cell_type": "code",
      "metadata": {
        "colab": {
          "base_uri": "https://localhost:8080/"
        },
        "id": "U3oacxo27n7Q",
        "outputId": "a1456027-58e7-4f20-b9ef-5ac68d8e24f9"
      },
      "source": [
        "[len(item) for item in ('abc','def','ghi')]"
      ],
      "execution_count": 13,
      "outputs": [
        {
          "output_type": "execute_result",
          "data": {
            "text/plain": [
              "[3, 3, 3]"
            ]
          },
          "metadata": {
            "tags": []
          },
          "execution_count": 13
        }
      ]
    },
    {
      "cell_type": "code",
      "metadata": {
        "colab": {
          "base_uri": "https://localhost:8080/"
        },
        "id": "ybCWtwfq75yz",
        "outputId": "1a957ffb-19e7-486c-b87b-6706e25c16c8"
      },
      "source": [
        "[i * 2 if i>0 else 0 for i in  [1, -2, 10]]"
      ],
      "execution_count": 16,
      "outputs": [
        {
          "output_type": "execute_result",
          "data": {
            "text/plain": [
              "[2, 0, 20]"
            ]
          },
          "metadata": {
            "tags": []
          },
          "execution_count": 16
        }
      ]
    },
    {
      "cell_type": "code",
      "metadata": {
        "colab": {
          "base_uri": "https://localhost:8080/"
        },
        "id": "qumyeh6F8RPj",
        "outputId": "511250cc-a59d-4dee-910e-9bea359c0406"
      },
      "source": [
        "# same as above code\n",
        "y = []\n",
        "\n",
        "for i in [1, -2, 10]:\n",
        "    if i > 0:\n",
        "        y.append(i * 2)\n",
        "    else:\n",
        "        y.append(0)\n",
        "print(y)"
      ],
      "execution_count": 18,
      "outputs": [
        {
          "output_type": "stream",
          "text": [
            "[2, 0, 20]\n"
          ],
          "name": "stdout"
        }
      ]
    },
    {
      "cell_type": "code",
      "metadata": {
        "colab": {
          "base_uri": "https://localhost:8080/"
        },
        "id": "HAsUtIDr8cuW",
        "outputId": "ab8679af-c85f-48e2-f96c-862d4b8afe52"
      },
      "source": [
        "# *args is a special parameter. It means the function can practically take an infinite number of arguments. \n",
        "# The arguments will be added to the args tuple. The above function returns the length of that tuple. \n",
        "# The length is three since three arguments were passed in the function call. \n",
        "\n",
        "def foo(*args):\n",
        "    return len(args)\n",
        "print(foo(1, 2, 4))"
      ],
      "execution_count": 19,
      "outputs": [
        {
          "output_type": "stream",
          "text": [
            "3\n"
          ],
          "name": "stdout"
        }
      ]
    },
    {
      "cell_type": "code",
      "metadata": {
        "colab": {
          "base_uri": "https://localhost:8080/"
        },
        "id": "sGL0m4C18ynY",
        "outputId": "0f6053d3-5310-4cfa-8f81-de332e566b77"
      },
      "source": [
        "def foo(a = 1, b = 2):\n",
        "    return a + b\n",
        "price = foo(b = 4)\n",
        "print(price)"
      ],
      "execution_count": 20,
      "outputs": [
        {
          "output_type": "stream",
          "text": [
            "5\n"
          ],
          "name": "stdout"
        }
      ]
    },
    {
      "cell_type": "code",
      "metadata": {
        "colab": {
          "base_uri": "https://localhost:8080/"
        },
        "id": "tBnpBxal9FEA",
        "outputId": "33a76f25-502d-40f4-a954-149921fe450d"
      },
      "source": [
        "# create a text file\n",
        "with open('temp.txt','w') as file:\n",
        "  file.write(\"Hello\")   # file is closed\n",
        "\n",
        "# read the file\n",
        "print(open(\"temp.txt\", \"r\").read())"
      ],
      "execution_count": 35,
      "outputs": [
        {
          "output_type": "stream",
          "text": [
            "Hello\n"
          ],
          "name": "stdout"
        }
      ]
    },
    {
      "cell_type": "code",
      "metadata": {
        "colab": {
          "base_uri": "https://localhost:8080/"
        },
        "id": "Mm6Hzgjt-j2v",
        "outputId": "d96e0483-dbe0-4a37-981d-758aace40bab"
      },
      "source": [
        "# code same as above\n",
        "file=open(\"temp.txt\",'w')\n",
        "file.write('Hello')\n",
        "file.close()\n",
        "\n",
        "# read the file\n",
        "print(open(\"temp.txt\", \"r\").read())"
      ],
      "execution_count": 37,
      "outputs": [
        {
          "output_type": "stream",
          "text": [
            "Hello\n"
          ],
          "name": "stdout"
        }
      ]
    },
    {
      "cell_type": "code",
      "metadata": {
        "colab": {
          "base_uri": "https://localhost:8080/"
        },
        "id": "nrBXPm0F-4Gm",
        "outputId": "4652ecc1-02df-47a7-e8a3-c1387d3e17a6"
      },
      "source": [
        "with open('articles.txt', 'w') as file:\n",
        "        file.write('wiki_telephones')\n",
        " \n",
        "with open('articles.txt', 'w') as file:\n",
        "        file.write('wikipedia_telephones')\n",
        "\n",
        "print(open(\"articles.txt\", \"r\").read())\n",
        "\n",
        "# the file is overwritten"
      ],
      "execution_count": 40,
      "outputs": [
        {
          "output_type": "stream",
          "text": [
            "wikipedia_telephones\n"
          ],
          "name": "stdout"
        }
      ]
    }
  ]
}