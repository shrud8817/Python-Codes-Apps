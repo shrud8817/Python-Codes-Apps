{
  "nbformat": 4,
  "nbformat_minor": 0,
  "metadata": {
    "colab": {
      "name": "py_playground.ipynb",
      "provenance": [],
      "collapsed_sections": [],
      "authorship_tag": "ABX9TyOcHSXMLge3unQo+fSrwl7/",
      "include_colab_link": true
    },
    "kernelspec": {
      "name": "python3",
      "display_name": "Python 3"
    }
  },
  "cells": [
    {
      "cell_type": "markdown",
      "metadata": {
        "id": "view-in-github",
        "colab_type": "text"
      },
      "source": [
        "<a href=\"https://colab.research.google.com/github/shrud8817/Python-Codes-Apps/blob/master/py_playground.ipynb\" target=\"_parent\"><img src=\"https://colab.research.google.com/assets/colab-badge.svg\" alt=\"Open In Colab\"/></a>"
      ]
    },
    {
      "cell_type": "code",
      "metadata": {
        "id": "2COM9nnQIuln"
      },
      "source": [
        "import numpy as np\n",
        "height = np.round(np.random.normal(1.75, 0.20, 5000), 2)\n",
        "weight = np.round(np.random.normal(60.32, 15, 5000), 2)"
      ],
      "execution_count": 4,
      "outputs": []
    },
    {
      "cell_type": "code",
      "metadata": {
        "id": "JXonHNdOIydm"
      },
      "source": [
        "np_city = np.column_stack((height, weight))"
      ],
      "execution_count": 6,
      "outputs": []
    },
    {
      "cell_type": "code",
      "metadata": {
        "id": "JzmgNaR-JArO",
        "outputId": "17218016-4c14-4311-d4b7-eb1d46bd7dda",
        "colab": {
          "base_uri": "https://localhost:8080/",
          "height": 139
        }
      },
      "source": [
        "print(np_city)"
      ],
      "execution_count": 7,
      "outputs": [
        {
          "output_type": "stream",
          "text": [
            "[[ 1.77 46.07]\n",
            " [ 1.78 30.73]\n",
            " [ 1.59 74.82]\n",
            " ...\n",
            " [ 1.99 47.76]\n",
            " [ 1.76 48.07]\n",
            " [ 1.85 53.72]]\n"
          ],
          "name": "stdout"
        }
      ]
    },
    {
      "cell_type": "code",
      "metadata": {
        "id": "2CBzuzmgJtbw",
        "outputId": "3b50b55a-e643-4e4e-ce4a-8be51414b196",
        "colab": {
          "base_uri": "https://localhost:8080/",
          "height": 121
        }
      },
      "source": [
        "# Addition, subtraction\n",
        "print(5 + 5)\n",
        "print(5 - 5)\n",
        "\n",
        "# Multiplication, division, modulo, and exponentiation\n",
        "print(3 * 5)\n",
        "print(10 / 2)\n",
        "print(18 % 7)\n",
        "print(4 ** 2)"
      ],
      "execution_count": 10,
      "outputs": [
        {
          "output_type": "stream",
          "text": [
            "10\n",
            "0\n",
            "15\n",
            "5.0\n",
            "4\n",
            "16\n"
          ],
          "name": "stdout"
        }
      ]
    },
    {
      "cell_type": "code",
      "metadata": {
        "id": "LzYtYby4Ke9f",
        "outputId": "4e68ab54-7ecb-49e6-89b2-0d1f589a3187",
        "colab": {
          "base_uri": "https://localhost:8080/",
          "height": 52
        }
      },
      "source": [
        "# Create lists first and second\n",
        "first = [11.25, 18.0, 20.0]\n",
        "second = [10.75, 9.50]\n",
        "\n",
        "# Paste together first and second: full\n",
        "full=first+second\n",
        "\n",
        "# Sort full in descending order: full_sorted\n",
        "\n",
        "full_sorted=sorted(full,reverse=True)   # sorting lists\n",
        "# Print out full_sorted\n",
        "print(full)\n",
        "print(full_sorted)"
      ],
      "execution_count": 12,
      "outputs": [
        {
          "output_type": "stream",
          "text": [
            "[11.25, 18.0, 20.0, 10.75, 9.5]\n",
            "[20.0, 18.0, 11.25, 10.75, 9.5]\n"
          ],
          "name": "stdout"
        }
      ]
    },
    {
      "cell_type": "code",
      "metadata": {
        "id": "mpUjJASoK6Bi",
        "outputId": "2d7a635c-2c13-4c4f-bc96-bdae83e833e7",
        "colab": {
          "base_uri": "https://localhost:8080/",
          "height": 69
        }
      },
      "source": [
        "# string to experiment with: place\n",
        "place = \"poolhouse\"\n",
        "\n",
        "# Use upper() on place: place_up\n",
        "place_up=place.upper()\n",
        "\n",
        "# Print out place and place_up\n",
        "print(place)\n",
        "print(place_up)\n",
        "\n",
        "# Print out the number of o's in place\n",
        "print(place.count('o'))"
      ],
      "execution_count": 13,
      "outputs": [
        {
          "output_type": "stream",
          "text": [
            "poolhouse\n",
            "POOLHOUSE\n",
            "3\n"
          ],
          "name": "stdout"
        }
      ]
    },
    {
      "cell_type": "code",
      "metadata": {
        "id": "gxc0blHlK_ey",
        "outputId": "a341f501-9ab2-42ea-d656-120bcfe555d8",
        "colab": {
          "base_uri": "https://localhost:8080/",
          "height": 52
        }
      },
      "source": [
        "# Create list areas\n",
        "areas = [11.25, 18.0, 20.0, 10.75, 9.50]\n",
        "\n",
        "# Print out the index of the element 20.0\n",
        "print(areas.index(20.0))\n",
        "\n",
        "# Print out how often 9.50 appears in areas\n",
        "\n",
        "print(areas.count(9.50))"
      ],
      "execution_count": 14,
      "outputs": [
        {
          "output_type": "stream",
          "text": [
            "2\n",
            "1\n"
          ],
          "name": "stdout"
        }
      ]
    },
    {
      "cell_type": "code",
      "metadata": {
        "id": "PTCj2IWOLTP0",
        "outputId": "3672d81b-5b10-4ea1-b194-45f7cab16707",
        "colab": {
          "base_uri": "https://localhost:8080/",
          "height": 52
        }
      },
      "source": [
        "areas.append(24.5)\n",
        "areas.append(15.45)\n",
        "\n",
        "# Print out areas\n",
        "print(areas)\n",
        "\n",
        "# Reverse the orders of the elements in areas\n",
        "areas.reverse()\n",
        "\n",
        "# Print out areas\n",
        "print(areas)"
      ],
      "execution_count": 15,
      "outputs": [
        {
          "output_type": "stream",
          "text": [
            "[11.25, 18.0, 20.0, 10.75, 9.5, 24.5, 15.45]\n",
            "[15.45, 24.5, 9.5, 10.75, 20.0, 18.0, 11.25]\n"
          ],
          "name": "stdout"
        }
      ]
    },
    {
      "cell_type": "code",
      "metadata": {
        "id": "PR86wyiRQ2Dg",
        "outputId": "2bf6e210-40de-43d6-d9ba-ddf22851ff4c",
        "colab": {
          "base_uri": "https://localhost:8080/",
          "height": 121
        }
      },
      "source": [
        "np_height = np.array([1.73, 1.68, 1.71, 1.89, 1.79])\n",
        "np_weight = np.array([65.4, 59.2, 63.6, 88.4, 68.7])\n",
        "bmi = np_weight / np_height ** 2\n",
        "print(bmi)\n",
        "\n",
        "for val in bmi :\n",
        "  print(val)"
      ],
      "execution_count": 17,
      "outputs": [
        {
          "output_type": "stream",
          "text": [
            "[21.85171573 20.97505669 21.75028214 24.7473475  21.44127836]\n",
            "21.85171572722109\n",
            "20.97505668934241\n",
            "21.750282138093777\n",
            "24.74734749867025\n",
            "21.44127836209856\n"
          ],
          "name": "stdout"
        }
      ]
    },
    {
      "cell_type": "code",
      "metadata": {
        "id": "ZEVSaDtzRGPX",
        "outputId": "85a9dadc-1708-4ab3-e02c-4ee512308114",
        "colab": {
          "base_uri": "https://localhost:8080/",
          "height": 52
        }
      },
      "source": [
        "np_height = np.array([1.73, 1.68, 1.71, 1.89, 1.79])\n",
        "np_weight = np.array([65.4, 59.2, 63.6, 88.4, 68.7])\n",
        "meas = np.array([np_height, np_weight])\n",
        "for val in meas :\n",
        "  print(val)"
      ],
      "execution_count": 19,
      "outputs": [
        {
          "output_type": "stream",
          "text": [
            "[1.73 1.68 1.71 1.89 1.79]\n",
            "[65.4 59.2 63.6 88.4 68.7]\n"
          ],
          "name": "stdout"
        }
      ]
    },
    {
      "cell_type": "code",
      "metadata": {
        "id": "fz5gj2dXRTP-",
        "outputId": "8c55c460-0153-4023-aded-4ca8eed526b0",
        "colab": {
          "base_uri": "https://localhost:8080/",
          "height": 191
        }
      },
      "source": [
        "for val in np.nditer(meas) :   # 2d numpy arrays\n",
        "  print(val)"
      ],
      "execution_count": 20,
      "outputs": [
        {
          "output_type": "stream",
          "text": [
            "1.73\n",
            "1.68\n",
            "1.71\n",
            "1.89\n",
            "1.79\n",
            "65.4\n",
            "59.2\n",
            "63.6\n",
            "88.4\n",
            "68.7\n"
          ],
          "name": "stdout"
        }
      ]
    },
    {
      "cell_type": "code",
      "metadata": {
        "id": "FZlt9TRFSw-j",
        "outputId": "b448eeec-e616-4187-e2cb-285a5bbd50df",
        "colab": {
          "base_uri": "https://localhost:8080/",
          "height": 121
        }
      },
      "source": [
        "import pandas as pd\n",
        "brics=pd.read_csv(\"brics.csv\", index_col=0)\n",
        "print(brics)"
      ],
      "execution_count": 34,
      "outputs": [
        {
          "output_type": "stream",
          "text": [
            "         country    capital    area  population\n",
            "BR        Brazil   Brasilia   8.516      200.40\n",
            "RU        Russia     Moscow  17.100      143.50\n",
            "IN         India  New Delhi   3.286     1252.00\n",
            "CH         China    Beijing   9.597     1357.00\n",
            "SA  South Africa   Pretoria   1.221       52.98\n"
          ],
          "name": "stdout"
        }
      ]
    },
    {
      "cell_type": "code",
      "metadata": {
        "id": "zXnCoXKBS8lI",
        "outputId": "e907634e-bafb-441a-b709-42d5a79f4506",
        "colab": {
          "base_uri": "https://localhost:8080/",
          "height": 537
        }
      },
      "source": [
        "for lab,row in brics.iterrows():\n",
        "  print(lab)\n",
        "  print(row)"
      ],
      "execution_count": 35,
      "outputs": [
        {
          "output_type": "stream",
          "text": [
            "BR\n",
            "country         Brazil\n",
            "capital       Brasilia\n",
            "area             8.516\n",
            "population       200.4\n",
            "Name: BR, dtype: object\n",
            "RU\n",
            "country       Russia\n",
            "capital       Moscow\n",
            "area            17.1\n",
            "population     143.5\n",
            "Name: RU, dtype: object\n",
            "IN\n",
            "country           India\n",
            "capital       New Delhi\n",
            "area              3.286\n",
            "population         1252\n",
            "Name: IN, dtype: object\n",
            "CH\n",
            "country         China\n",
            "capital       Beijing\n",
            "area            9.597\n",
            "population       1357\n",
            "Name: CH, dtype: object\n",
            "SA\n",
            "country       South Africa\n",
            "capital           Pretoria\n",
            "area                 1.221\n",
            "population           52.98\n",
            "Name: SA, dtype: object\n"
          ],
          "name": "stdout"
        }
      ]
    },
    {
      "cell_type": "code",
      "metadata": {
        "id": "ideUpxClTJ6A",
        "outputId": "a4dcc01a-27d4-40df-8e95-d15c18202559",
        "colab": {
          "base_uri": "https://localhost:8080/",
          "height": 104
        }
      },
      "source": [
        "for lab, row in brics.iterrows():\n",
        "  print(lab + \": \" + row[\"capital\"])"
      ],
      "execution_count": 36,
      "outputs": [
        {
          "output_type": "stream",
          "text": [
            "BR: Brasilia\n",
            "RU: Moscow\n",
            "IN: New Delhi\n",
            "CH: Beijing\n",
            "SA: Pretoria\n"
          ],
          "name": "stdout"
        }
      ]
    },
    {
      "cell_type": "code",
      "metadata": {
        "id": "sj_zIZ1-TO3R",
        "outputId": "18e2a7b9-da5b-4ba9-de3e-b4335c26bd52",
        "colab": {
          "base_uri": "https://localhost:8080/",
          "height": 537
        }
      },
      "source": [
        "# add column\n",
        "for lab, row in brics.iterrows() :\n",
        "# - Creating Series on every iteration\n",
        "  brics.loc[lab, \"name_length\"] = len(row[\"country\"])\n",
        "  print(brics)"
      ],
      "execution_count": 37,
      "outputs": [
        {
          "output_type": "stream",
          "text": [
            "         country    capital    area  population  name_length\n",
            "BR        Brazil   Brasilia   8.516      200.40          6.0\n",
            "RU        Russia     Moscow  17.100      143.50          NaN\n",
            "IN         India  New Delhi   3.286     1252.00          NaN\n",
            "CH         China    Beijing   9.597     1357.00          NaN\n",
            "SA  South Africa   Pretoria   1.221       52.98          NaN\n",
            "         country    capital    area  population  name_length\n",
            "BR        Brazil   Brasilia   8.516      200.40          6.0\n",
            "RU        Russia     Moscow  17.100      143.50          6.0\n",
            "IN         India  New Delhi   3.286     1252.00          NaN\n",
            "CH         China    Beijing   9.597     1357.00          NaN\n",
            "SA  South Africa   Pretoria   1.221       52.98          NaN\n",
            "         country    capital    area  population  name_length\n",
            "BR        Brazil   Brasilia   8.516      200.40          6.0\n",
            "RU        Russia     Moscow  17.100      143.50          6.0\n",
            "IN         India  New Delhi   3.286     1252.00          5.0\n",
            "CH         China    Beijing   9.597     1357.00          NaN\n",
            "SA  South Africa   Pretoria   1.221       52.98          NaN\n",
            "         country    capital    area  population  name_length\n",
            "BR        Brazil   Brasilia   8.516      200.40          6.0\n",
            "RU        Russia     Moscow  17.100      143.50          6.0\n",
            "IN         India  New Delhi   3.286     1252.00          5.0\n",
            "CH         China    Beijing   9.597     1357.00          5.0\n",
            "SA  South Africa   Pretoria   1.221       52.98          NaN\n",
            "         country    capital    area  population  name_length\n",
            "BR        Brazil   Brasilia   8.516      200.40          6.0\n",
            "RU        Russia     Moscow  17.100      143.50          6.0\n",
            "IN         India  New Delhi   3.286     1252.00          5.0\n",
            "CH         China    Beijing   9.597     1357.00          5.0\n",
            "SA  South Africa   Pretoria   1.221       52.98         12.0\n"
          ],
          "name": "stdout"
        }
      ]
    },
    {
      "cell_type": "code",
      "metadata": {
        "id": "ckKrTcvjWiv4"
      },
      "source": [
        ""
      ],
      "execution_count": null,
      "outputs": []
    }
  ]
}