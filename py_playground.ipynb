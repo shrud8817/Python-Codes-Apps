{
  "nbformat": 4,
  "nbformat_minor": 0,
  "metadata": {
    "colab": {
      "name": "py_playground.ipynb",
      "provenance": [],
      "collapsed_sections": [],
      "authorship_tag": "ABX9TyOGRAyjPgGQ6bvxX6hogck3",
      "include_colab_link": true
    },
    "kernelspec": {
      "name": "python3",
      "display_name": "Python 3"
    }
  },
  "cells": [
    {
      "cell_type": "markdown",
      "metadata": {
        "id": "view-in-github",
        "colab_type": "text"
      },
      "source": [
        "<a href=\"https://colab.research.google.com/github/shrud8817/Python-Codes-Apps/blob/master/py_playground.ipynb\" target=\"_parent\"><img src=\"https://colab.research.google.com/assets/colab-badge.svg\" alt=\"Open In Colab\"/></a>"
      ]
    },
    {
      "cell_type": "code",
      "metadata": {
        "id": "2COM9nnQIuln"
      },
      "source": [
        "import numpy as np\n",
        "height = np.round(np.random.normal(1.75, 0.20, 5000), 2)\n",
        "weight = np.round(np.random.normal(60.32, 15, 5000), 2)"
      ],
      "execution_count": 4,
      "outputs": []
    },
    {
      "cell_type": "code",
      "metadata": {
        "id": "JXonHNdOIydm"
      },
      "source": [
        "np_city = np.column_stack((height, weight))"
      ],
      "execution_count": 6,
      "outputs": []
    },
    {
      "cell_type": "code",
      "metadata": {
        "id": "JzmgNaR-JArO",
        "outputId": "17218016-4c14-4311-d4b7-eb1d46bd7dda",
        "colab": {
          "base_uri": "https://localhost:8080/",
          "height": 139
        }
      },
      "source": [
        "print(np_city)"
      ],
      "execution_count": 7,
      "outputs": [
        {
          "output_type": "stream",
          "text": [
            "[[ 1.77 46.07]\n",
            " [ 1.78 30.73]\n",
            " [ 1.59 74.82]\n",
            " ...\n",
            " [ 1.99 47.76]\n",
            " [ 1.76 48.07]\n",
            " [ 1.85 53.72]]\n"
          ],
          "name": "stdout"
        }
      ]
    },
    {
      "cell_type": "code",
      "metadata": {
        "id": "2CBzuzmgJtbw",
        "outputId": "3b50b55a-e643-4e4e-ce4a-8be51414b196",
        "colab": {
          "base_uri": "https://localhost:8080/",
          "height": 121
        }
      },
      "source": [
        "# Addition, subtraction\n",
        "print(5 + 5)\n",
        "print(5 - 5)\n",
        "\n",
        "# Multiplication, division, modulo, and exponentiation\n",
        "print(3 * 5)\n",
        "print(10 / 2)\n",
        "print(18 % 7)\n",
        "print(4 ** 2)"
      ],
      "execution_count": 10,
      "outputs": [
        {
          "output_type": "stream",
          "text": [
            "10\n",
            "0\n",
            "15\n",
            "5.0\n",
            "4\n",
            "16\n"
          ],
          "name": "stdout"
        }
      ]
    },
    {
      "cell_type": "code",
      "metadata": {
        "id": "LzYtYby4Ke9f",
        "outputId": "4e68ab54-7ecb-49e6-89b2-0d1f589a3187",
        "colab": {
          "base_uri": "https://localhost:8080/",
          "height": 52
        }
      },
      "source": [
        "# Create lists first and second\n",
        "first = [11.25, 18.0, 20.0]\n",
        "second = [10.75, 9.50]\n",
        "\n",
        "# Paste together first and second: full\n",
        "full=first+second\n",
        "\n",
        "# Sort full in descending order: full_sorted\n",
        "\n",
        "full_sorted=sorted(full,reverse=True)   # sorting lists\n",
        "# Print out full_sorted\n",
        "print(full)\n",
        "print(full_sorted)"
      ],
      "execution_count": 12,
      "outputs": [
        {
          "output_type": "stream",
          "text": [
            "[11.25, 18.0, 20.0, 10.75, 9.5]\n",
            "[20.0, 18.0, 11.25, 10.75, 9.5]\n"
          ],
          "name": "stdout"
        }
      ]
    }
  ]
}