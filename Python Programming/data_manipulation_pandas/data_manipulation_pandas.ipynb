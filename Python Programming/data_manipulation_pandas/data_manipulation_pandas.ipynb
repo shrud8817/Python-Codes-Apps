{
 "cells": [
  {
   "cell_type": "markdown",
   "metadata": {},
   "source": [
    "# Data Manipulation with Pandas"
   ]
  },
  {
   "cell_type": "code",
   "execution_count": 5,
   "metadata": {},
   "outputs": [],
   "source": [
    "# unpickle homelessness data\n",
    "import pickle\n",
    "filename = 'homeless_data.pkl'\n",
    "infile = open(filename,'rb')\n",
    "homelessness = pickle.load(infile)\n",
    "infile.close()"
   ]
  },
  {
   "cell_type": "code",
   "execution_count": 6,
   "metadata": {},
   "outputs": [
    {
     "data": {
      "text/plain": [
       "pandas.core.frame.DataFrame"
      ]
     },
     "execution_count": 6,
     "metadata": {},
     "output_type": "execute_result"
    }
   ],
   "source": [
    "type(homelessness)"
   ]
  },
  {
   "cell_type": "code",
   "execution_count": 8,
   "metadata": {},
   "outputs": [
    {
     "data": {
      "text/html": [
       "<div>\n",
       "<style scoped>\n",
       "    .dataframe tbody tr th:only-of-type {\n",
       "        vertical-align: middle;\n",
       "    }\n",
       "\n",
       "    .dataframe tbody tr th {\n",
       "        vertical-align: top;\n",
       "    }\n",
       "\n",
       "    .dataframe thead th {\n",
       "        text-align: right;\n",
       "    }\n",
       "</style>\n",
       "<table border=\"1\" class=\"dataframe\">\n",
       "  <thead>\n",
       "    <tr style=\"text-align: right;\">\n",
       "      <th></th>\n",
       "      <th>region</th>\n",
       "      <th>state</th>\n",
       "      <th>individuals</th>\n",
       "      <th>family_members</th>\n",
       "      <th>state_pop</th>\n",
       "    </tr>\n",
       "  </thead>\n",
       "  <tbody>\n",
       "    <tr>\n",
       "      <th>0</th>\n",
       "      <td>East South Central</td>\n",
       "      <td>Alabama</td>\n",
       "      <td>2570.0</td>\n",
       "      <td>864.0</td>\n",
       "      <td>4887681</td>\n",
       "    </tr>\n",
       "    <tr>\n",
       "      <th>1</th>\n",
       "      <td>Pacific</td>\n",
       "      <td>Alaska</td>\n",
       "      <td>1434.0</td>\n",
       "      <td>582.0</td>\n",
       "      <td>735139</td>\n",
       "    </tr>\n",
       "    <tr>\n",
       "      <th>2</th>\n",
       "      <td>Mountain</td>\n",
       "      <td>Arizona</td>\n",
       "      <td>7259.0</td>\n",
       "      <td>2606.0</td>\n",
       "      <td>7158024</td>\n",
       "    </tr>\n",
       "    <tr>\n",
       "      <th>3</th>\n",
       "      <td>West South Central</td>\n",
       "      <td>Arkansas</td>\n",
       "      <td>2280.0</td>\n",
       "      <td>432.0</td>\n",
       "      <td>3009733</td>\n",
       "    </tr>\n",
       "    <tr>\n",
       "      <th>4</th>\n",
       "      <td>Pacific</td>\n",
       "      <td>California</td>\n",
       "      <td>109008.0</td>\n",
       "      <td>20964.0</td>\n",
       "      <td>39461588</td>\n",
       "    </tr>\n",
       "  </tbody>\n",
       "</table>\n",
       "</div>"
      ],
      "text/plain": [
       "               region       state  individuals  family_members  state_pop\n",
       "0  East South Central     Alabama       2570.0           864.0    4887681\n",
       "1             Pacific      Alaska       1434.0           582.0     735139\n",
       "2            Mountain     Arizona       7259.0          2606.0    7158024\n",
       "3  West South Central    Arkansas       2280.0           432.0    3009733\n",
       "4             Pacific  California     109008.0         20964.0   39461588"
      ]
     },
     "execution_count": 8,
     "metadata": {},
     "output_type": "execute_result"
    }
   ],
   "source": [
    "# exploring homlessness dataframe\n",
    "homelessness.head()"
   ]
  },
  {
   "cell_type": "code",
   "execution_count": 9,
   "metadata": {},
   "outputs": [
    {
     "name": "stdout",
     "output_type": "stream",
     "text": [
      "<class 'pandas.core.frame.DataFrame'>\n",
      "Int64Index: 51 entries, 0 to 50\n",
      "Data columns (total 5 columns):\n",
      " #   Column          Non-Null Count  Dtype  \n",
      "---  ------          --------------  -----  \n",
      " 0   region          51 non-null     object \n",
      " 1   state           51 non-null     object \n",
      " 2   individuals     51 non-null     float64\n",
      " 3   family_members  51 non-null     float64\n",
      " 4   state_pop       51 non-null     int64  \n",
      "dtypes: float64(2), int64(1), object(2)\n",
      "memory usage: 2.4+ KB\n"
     ]
    }
   ],
   "source": [
    "homelessness.info()"
   ]
  },
  {
   "cell_type": "code",
   "execution_count": 11,
   "metadata": {},
   "outputs": [
    {
     "data": {
      "text/plain": [
       "(51, 5)"
      ]
     },
     "execution_count": 11,
     "metadata": {},
     "output_type": "execute_result"
    }
   ],
   "source": [
    "homelessness.shape"
   ]
  },
  {
   "cell_type": "code",
   "execution_count": 16,
   "metadata": {},
   "outputs": [
    {
     "data": {
      "text/html": [
       "<div>\n",
       "<style scoped>\n",
       "    .dataframe tbody tr th:only-of-type {\n",
       "        vertical-align: middle;\n",
       "    }\n",
       "\n",
       "    .dataframe tbody tr th {\n",
       "        vertical-align: top;\n",
       "    }\n",
       "\n",
       "    .dataframe thead th {\n",
       "        text-align: right;\n",
       "    }\n",
       "</style>\n",
       "<table border=\"1\" class=\"dataframe\">\n",
       "  <thead>\n",
       "    <tr style=\"text-align: right;\">\n",
       "      <th></th>\n",
       "      <th>individuals</th>\n",
       "      <th>family_members</th>\n",
       "      <th>state_pop</th>\n",
       "    </tr>\n",
       "  </thead>\n",
       "  <tbody>\n",
       "    <tr>\n",
       "      <th>count</th>\n",
       "      <td>51.000000</td>\n",
       "      <td>51.000000</td>\n",
       "      <td>5.100000e+01</td>\n",
       "    </tr>\n",
       "    <tr>\n",
       "      <th>mean</th>\n",
       "      <td>7225.784314</td>\n",
       "      <td>3504.882353</td>\n",
       "      <td>6.405637e+06</td>\n",
       "    </tr>\n",
       "    <tr>\n",
       "      <th>std</th>\n",
       "      <td>15991.025083</td>\n",
       "      <td>7805.411811</td>\n",
       "      <td>7.327258e+06</td>\n",
       "    </tr>\n",
       "    <tr>\n",
       "      <th>min</th>\n",
       "      <td>434.000000</td>\n",
       "      <td>75.000000</td>\n",
       "      <td>5.776010e+05</td>\n",
       "    </tr>\n",
       "    <tr>\n",
       "      <th>25%</th>\n",
       "      <td>1446.500000</td>\n",
       "      <td>592.000000</td>\n",
       "      <td>1.777414e+06</td>\n",
       "    </tr>\n",
       "    <tr>\n",
       "      <th>50%</th>\n",
       "      <td>3082.000000</td>\n",
       "      <td>1482.000000</td>\n",
       "      <td>4.461153e+06</td>\n",
       "    </tr>\n",
       "    <tr>\n",
       "      <th>75%</th>\n",
       "      <td>6781.500000</td>\n",
       "      <td>3196.000000</td>\n",
       "      <td>7.340946e+06</td>\n",
       "    </tr>\n",
       "    <tr>\n",
       "      <th>max</th>\n",
       "      <td>109008.000000</td>\n",
       "      <td>52070.000000</td>\n",
       "      <td>3.946159e+07</td>\n",
       "    </tr>\n",
       "  </tbody>\n",
       "</table>\n",
       "</div>"
      ],
      "text/plain": [
       "         individuals  family_members     state_pop\n",
       "count      51.000000       51.000000  5.100000e+01\n",
       "mean     7225.784314     3504.882353  6.405637e+06\n",
       "std     15991.025083     7805.411811  7.327258e+06\n",
       "min       434.000000       75.000000  5.776010e+05\n",
       "25%      1446.500000      592.000000  1.777414e+06\n",
       "50%      3082.000000     1482.000000  4.461153e+06\n",
       "75%      6781.500000     3196.000000  7.340946e+06\n",
       "max    109008.000000    52070.000000  3.946159e+07"
      ]
     },
     "execution_count": 16,
     "metadata": {},
     "output_type": "execute_result"
    }
   ],
   "source": [
    "homelessness.describe()"
   ]
  },
  {
   "cell_type": "code",
   "execution_count": 17,
   "metadata": {},
   "outputs": [
    {
     "data": {
      "text/plain": [
       "array([['East South Central', 'Alabama', 2570.0, 864.0, 4887681],\n",
       "       ['Pacific', 'Alaska', 1434.0, 582.0, 735139],\n",
       "       ['Mountain', 'Arizona', 7259.0, 2606.0, 7158024],\n",
       "       ['West South Central', 'Arkansas', 2280.0, 432.0, 3009733],\n",
       "       ['Pacific', 'California', 109008.0, 20964.0, 39461588],\n",
       "       ['Mountain', 'Colorado', 7607.0, 3250.0, 5691287],\n",
       "       ['New England', 'Connecticut', 2280.0, 1696.0, 3571520],\n",
       "       ['South Atlantic', 'Delaware', 708.0, 374.0, 965479],\n",
       "       ['South Atlantic', 'District of Columbia', 3770.0, 3134.0, 701547],\n",
       "       ['South Atlantic', 'Florida', 21443.0, 9587.0, 21244317],\n",
       "       ['South Atlantic', 'Georgia', 6943.0, 2556.0, 10511131],\n",
       "       ['Pacific', 'Hawaii', 4131.0, 2399.0, 1420593],\n",
       "       ['Mountain', 'Idaho', 1297.0, 715.0, 1750536],\n",
       "       ['East North Central', 'Illinois', 6752.0, 3891.0, 12723071],\n",
       "       ['East North Central', 'Indiana', 3776.0, 1482.0, 6695497],\n",
       "       ['West North Central', 'Iowa', 1711.0, 1038.0, 3148618],\n",
       "       ['West North Central', 'Kansas', 1443.0, 773.0, 2911359],\n",
       "       ['East South Central', 'Kentucky', 2735.0, 953.0, 4461153],\n",
       "       ['West South Central', 'Louisiana', 2540.0, 519.0, 4659690],\n",
       "       ['New England', 'Maine', 1450.0, 1066.0, 1339057],\n",
       "       ['South Atlantic', 'Maryland', 4914.0, 2230.0, 6035802],\n",
       "       ['New England', 'Massachusetts', 6811.0, 13257.0, 6882635],\n",
       "       ['East North Central', 'Michigan', 5209.0, 3142.0, 9984072],\n",
       "       ['West North Central', 'Minnesota', 3993.0, 3250.0, 5606249],\n",
       "       ['East South Central', 'Mississippi', 1024.0, 328.0, 2981020],\n",
       "       ['West North Central', 'Missouri', 3776.0, 2107.0, 6121623],\n",
       "       ['Mountain', 'Montana', 983.0, 422.0, 1060665],\n",
       "       ['West North Central', 'Nebraska', 1745.0, 676.0, 1925614],\n",
       "       ['Mountain', 'Nevada', 7058.0, 486.0, 3027341],\n",
       "       ['New England', 'New Hampshire', 835.0, 615.0, 1353465],\n",
       "       ['Mid-Atlantic', 'New Jersey', 6048.0, 3350.0, 8886025],\n",
       "       ['Mountain', 'New Mexico', 1949.0, 602.0, 2092741],\n",
       "       ['Mid-Atlantic', 'New York', 39827.0, 52070.0, 19530351],\n",
       "       ['South Atlantic', 'North Carolina', 6451.0, 2817.0, 10381615],\n",
       "       ['West North Central', 'North Dakota', 467.0, 75.0, 758080],\n",
       "       ['East North Central', 'Ohio', 6929.0, 3320.0, 11676341],\n",
       "       ['West South Central', 'Oklahoma', 2823.0, 1048.0, 3940235],\n",
       "       ['Pacific', 'Oregon', 11139.0, 3337.0, 4181886],\n",
       "       ['Mid-Atlantic', 'Pennsylvania', 8163.0, 5349.0, 12800922],\n",
       "       ['New England', 'Rhode Island', 747.0, 354.0, 1058287],\n",
       "       ['South Atlantic', 'South Carolina', 3082.0, 851.0, 5084156],\n",
       "       ['West North Central', 'South Dakota', 836.0, 323.0, 878698],\n",
       "       ['East South Central', 'Tennessee', 6139.0, 1744.0, 6771631],\n",
       "       ['West South Central', 'Texas', 19199.0, 6111.0, 28628666],\n",
       "       ['Mountain', 'Utah', 1904.0, 972.0, 3153550],\n",
       "       ['New England', 'Vermont', 780.0, 511.0, 624358],\n",
       "       ['South Atlantic', 'Virginia', 3928.0, 2047.0, 8501286],\n",
       "       ['Pacific', 'Washington', 16424.0, 5880.0, 7523869],\n",
       "       ['South Atlantic', 'West Virginia', 1021.0, 222.0, 1804291],\n",
       "       ['East North Central', 'Wisconsin', 2740.0, 2167.0, 5807406],\n",
       "       ['Mountain', 'Wyoming', 434.0, 205.0, 577601]], dtype=object)"
      ]
     },
     "execution_count": 17,
     "metadata": {},
     "output_type": "execute_result"
    }
   ],
   "source": [
    "#Components of dataframes\n",
    "homelessness.values"
   ]
  },
  {
   "cell_type": "code",
   "execution_count": 18,
   "metadata": {},
   "outputs": [
    {
     "data": {
      "text/plain": [
       "Index(['region', 'state', 'individuals', 'family_members', 'state_pop'], dtype='object')"
      ]
     },
     "execution_count": 18,
     "metadata": {},
     "output_type": "execute_result"
    }
   ],
   "source": [
    "homelessness.columns"
   ]
  },
  {
   "cell_type": "code",
   "execution_count": 19,
   "metadata": {
    "scrolled": true
   },
   "outputs": [
    {
     "data": {
      "text/plain": [
       "Int64Index([ 0,  1,  2,  3,  4,  5,  6,  7,  8,  9, 10, 11, 12, 13, 14, 15, 16,\n",
       "            17, 18, 19, 20, 21, 22, 23, 24, 25, 26, 27, 28, 29, 30, 31, 32, 33,\n",
       "            34, 35, 36, 37, 38, 39, 40, 41, 42, 43, 44, 45, 46, 47, 48, 49,\n",
       "            50],\n",
       "           dtype='int64')"
      ]
     },
     "execution_count": 19,
     "metadata": {},
     "output_type": "execute_result"
    }
   ],
   "source": [
    "homelessness.index"
   ]
  },
  {
   "cell_type": "markdown",
   "metadata": {},
   "source": [
    "# Transforming Data"
   ]
  },
  {
   "cell_type": "code",
   "execution_count": 20,
   "metadata": {},
   "outputs": [
    {
     "name": "stdout",
     "output_type": "stream",
     "text": [
      "                region         state  individuals  family_members  state_pop\n",
      "50            Mountain       Wyoming        434.0           205.0     577601\n",
      "34  West North Central  North Dakota        467.0            75.0     758080\n",
      "7       South Atlantic      Delaware        708.0           374.0     965479\n",
      "39         New England  Rhode Island        747.0           354.0    1058287\n",
      "45         New England       Vermont        780.0           511.0     624358\n"
     ]
    }
   ],
   "source": [
    "# Sorting \n",
    "# Sort homelessness by individual\n",
    "homelessness_ind = homelessness.sort_values('individuals')\n",
    "\n",
    "# Print the top few rows\n",
    "print(homelessness_ind.head())"
   ]
  },
  {
   "cell_type": "code",
   "execution_count": 21,
   "metadata": {},
   "outputs": [
    {
     "name": "stdout",
     "output_type": "stream",
     "text": [
      "                region          state  individuals  family_members  state_pop\n",
      "32        Mid-Atlantic       New York      39827.0         52070.0   19530351\n",
      "4              Pacific     California     109008.0         20964.0   39461588\n",
      "21         New England  Massachusetts       6811.0         13257.0    6882635\n",
      "9       South Atlantic        Florida      21443.0          9587.0   21244317\n",
      "43  West South Central          Texas      19199.0          6111.0   28628666\n"
     ]
    }
   ],
   "source": [
    "# Sort homelessness by descending family members\n",
    "homelessness_fam = homelessness.sort_values('family_members',ascending=False)\n",
    "\n",
    "# Print the top few rows\n",
    "print(homelessness_fam.head())"
   ]
  },
  {
   "cell_type": "code",
   "execution_count": 24,
   "metadata": {},
   "outputs": [
    {
     "name": "stdout",
     "output_type": "stream",
     "text": [
      "                region         state  individuals  family_members  state_pop\n",
      "13  East North Central      Illinois       6752.0          3891.0   12723071\n",
      "35  East North Central          Ohio       6929.0          3320.0   11676341\n",
      "22  East North Central      Michigan       5209.0          3142.0    9984072\n",
      "49  East North Central     Wisconsin       2740.0          2167.0    5807406\n",
      "14  East North Central       Indiana       3776.0          1482.0    6695497\n",
      "42  East South Central     Tennessee       6139.0          1744.0    6771631\n",
      "17  East South Central      Kentucky       2735.0           953.0    4461153\n",
      "0   East South Central       Alabama       2570.0           864.0    4887681\n",
      "24  East South Central   Mississippi       1024.0           328.0    2981020\n",
      "32        Mid-Atlantic      New York      39827.0         52070.0   19530351\n",
      "38        Mid-Atlantic  Pennsylvania       8163.0          5349.0   12800922\n",
      "30        Mid-Atlantic    New Jersey       6048.0          3350.0    8886025\n"
     ]
    }
   ],
   "source": [
    "# Sort homelessness by region, then descending family members\n",
    "homelessness_reg_fam = homelessness.sort_values(['region','family_members'],ascending=[True,False])\n",
    "\n",
    "# Print the top few rows\n",
    "print(homelessness_reg_fam.head(12))"
   ]
  },
  {
   "cell_type": "code",
   "execution_count": 32,
   "metadata": {},
   "outputs": [],
   "source": [
    "# subsetting by columns\n",
    "# Select the individuals column\n",
    "individuals_series = homelessness['individuals']\n",
    "individuals_df = homelessness[['individuals']]"
   ]
  },
  {
   "cell_type": "code",
   "execution_count": 33,
   "metadata": {},
   "outputs": [
    {
     "name": "stdout",
     "output_type": "stream",
     "text": [
      "<class 'pandas.core.series.Series'>\n",
      "<class 'pandas.core.frame.DataFrame'>\n"
     ]
    }
   ],
   "source": [
    "print(type(individuals_series))\n",
    "print(type(individuals_df))   "
   ]
  },
  {
   "cell_type": "code",
   "execution_count": 34,
   "metadata": {},
   "outputs": [
    {
     "name": "stdout",
     "output_type": "stream",
     "text": [
      "        state  family_members\n",
      "0     Alabama           864.0\n",
      "1      Alaska           582.0\n",
      "2     Arizona          2606.0\n",
      "3    Arkansas           432.0\n",
      "4  California         20964.0\n"
     ]
    }
   ],
   "source": [
    "# Select the state and family_members columns\n",
    "state_fam = homelessness[['state','family_members']]\n",
    "\n",
    "# Print the head of the result\n",
    "print(state_fam.head())"
   ]
  },
  {
   "cell_type": "code",
   "execution_count": 35,
   "metadata": {},
   "outputs": [
    {
     "name": "stdout",
     "output_type": "stream",
     "text": [
      "   individuals       state\n",
      "0       2570.0     Alabama\n",
      "1       1434.0      Alaska\n",
      "2       7259.0     Arizona\n",
      "3       2280.0    Arkansas\n",
      "4     109008.0  California\n"
     ]
    }
   ],
   "source": [
    "# Select only the individuals and state columns, in that order\n",
    "ind_state = homelessness[['individuals','state']]\n",
    "\n",
    "# Print the head of the result\n",
    "print(ind_state.head())"
   ]
  },
  {
   "cell_type": "code",
   "execution_count": 36,
   "metadata": {},
   "outputs": [
    {
     "name": "stdout",
     "output_type": "stream",
     "text": [
      "                region       state  individuals  family_members  state_pop\n",
      "4              Pacific  California     109008.0         20964.0   39461588\n",
      "9       South Atlantic     Florida      21443.0          9587.0   21244317\n",
      "32        Mid-Atlantic    New York      39827.0         52070.0   19530351\n",
      "37             Pacific      Oregon      11139.0          3337.0    4181886\n",
      "43  West South Central       Texas      19199.0          6111.0   28628666\n",
      "47             Pacific  Washington      16424.0          5880.0    7523869\n"
     ]
    }
   ],
   "source": [
    "# subsetting by rows\n",
    "# Filter for rows where individuals is greater than 10000\n",
    "ind_gt_10k = homelessness[homelessness['individuals']>10000]\n",
    "\n",
    "# See the result\n",
    "print(ind_gt_10k)"
   ]
  },
  {
   "cell_type": "code",
   "execution_count": 37,
   "metadata": {},
   "outputs": [
    {
     "name": "stdout",
     "output_type": "stream",
     "text": [
      "      region       state  individuals  family_members  state_pop\n",
      "2   Mountain     Arizona       7259.0          2606.0    7158024\n",
      "5   Mountain    Colorado       7607.0          3250.0    5691287\n",
      "12  Mountain       Idaho       1297.0           715.0    1750536\n",
      "26  Mountain     Montana        983.0           422.0    1060665\n",
      "28  Mountain      Nevada       7058.0           486.0    3027341\n",
      "31  Mountain  New Mexico       1949.0           602.0    2092741\n",
      "44  Mountain        Utah       1904.0           972.0    3153550\n",
      "50  Mountain     Wyoming        434.0           205.0     577601\n"
     ]
    }
   ],
   "source": [
    "# Filter for rows where region is Mountain\n",
    "mountain_reg = homelessness[homelessness['region']=='Mountain']\n",
    "\n",
    "# See the result\n",
    "print(mountain_reg)"
   ]
  },
  {
   "cell_type": "code",
   "execution_count": 38,
   "metadata": {},
   "outputs": [
    {
     "name": "stdout",
     "output_type": "stream",
     "text": [
      "    region   state  individuals  family_members  state_pop\n",
      "1  Pacific  Alaska       1434.0           582.0     735139\n"
     ]
    }
   ],
   "source": [
    "# Filter for rows where family_members is less than 1000 \n",
    "# and region is Pacific\n",
    "fam_lt_1k_pac = homelessness[(homelessness['family_members']<1000) & (homelessness['region']=='Pacific')]\n",
    "\n",
    "# See the result\n",
    "print(fam_lt_1k_pac)"
   ]
  },
  {
   "cell_type": "code",
   "execution_count": 39,
   "metadata": {},
   "outputs": [
    {
     "name": "stdout",
     "output_type": "stream",
     "text": [
      "            region                 state  individuals  family_members  \\\n",
      "7   South Atlantic              Delaware        708.0           374.0   \n",
      "8   South Atlantic  District of Columbia       3770.0          3134.0   \n",
      "9   South Atlantic               Florida      21443.0          9587.0   \n",
      "10  South Atlantic               Georgia       6943.0          2556.0   \n",
      "20  South Atlantic              Maryland       4914.0          2230.0   \n",
      "30    Mid-Atlantic            New Jersey       6048.0          3350.0   \n",
      "32    Mid-Atlantic              New York      39827.0         52070.0   \n",
      "33  South Atlantic        North Carolina       6451.0          2817.0   \n",
      "38    Mid-Atlantic          Pennsylvania       8163.0          5349.0   \n",
      "40  South Atlantic        South Carolina       3082.0           851.0   \n",
      "46  South Atlantic              Virginia       3928.0          2047.0   \n",
      "48  South Atlantic         West Virginia       1021.0           222.0   \n",
      "\n",
      "    state_pop  \n",
      "7      965479  \n",
      "8      701547  \n",
      "9    21244317  \n",
      "10   10511131  \n",
      "20    6035802  \n",
      "30    8886025  \n",
      "32   19530351  \n",
      "33   10381615  \n",
      "38   12800922  \n",
      "40    5084156  \n",
      "46    8501286  \n",
      "48    1804291  \n"
     ]
    }
   ],
   "source": [
    "#Subsetting rows by categorical variables - using isin\n",
    "# Subset for rows in South Atlantic or Mid-Atlantic regions\n",
    "south_mid_atlantic = homelessness[homelessness['region'].isin(['South Atlantic','Mid-Atlantic'])]\n",
    "# See the result\n",
    "print(south_mid_atlantic)"
   ]
  },
  {
   "cell_type": "code",
   "execution_count": 40,
   "metadata": {},
   "outputs": [
    {
     "name": "stdout",
     "output_type": "stream",
     "text": [
      "      region       state  individuals  family_members  state_pop\n",
      "2   Mountain     Arizona       7259.0          2606.0    7158024\n",
      "4    Pacific  California     109008.0         20964.0   39461588\n",
      "28  Mountain      Nevada       7058.0           486.0    3027341\n",
      "44  Mountain        Utah       1904.0           972.0    3153550\n"
     ]
    }
   ],
   "source": [
    "# The Mojave Desert states\n",
    "canu = [\"California\", \"Arizona\", \"Nevada\", \"Utah\"]\n",
    "\n",
    "# Filter for rows in the Mojave Desert states\n",
    "mojave_homelessness =homelessness[homelessness['state'].isin(canu)]\n",
    "\n",
    "# See the result\n",
    "print(mojave_homelessness)"
   ]
  },
  {
   "cell_type": "code",
   "execution_count": 41,
   "metadata": {},
   "outputs": [
    {
     "name": "stdout",
     "output_type": "stream",
     "text": [
      "               region       state  individuals  family_members  state_pop  \\\n",
      "0  East South Central     Alabama       2570.0           864.0    4887681   \n",
      "1             Pacific      Alaska       1434.0           582.0     735139   \n",
      "2            Mountain     Arizona       7259.0          2606.0    7158024   \n",
      "3  West South Central    Arkansas       2280.0           432.0    3009733   \n",
      "4             Pacific  California     109008.0         20964.0   39461588   \n",
      "\n",
      "      total  p_individuals  \n",
      "0    3434.0       0.748398  \n",
      "1    2016.0       0.711310  \n",
      "2    9865.0       0.735834  \n",
      "3    2712.0       0.840708  \n",
      "4  129972.0       0.838704  \n"
     ]
    }
   ],
   "source": [
    "# adding new columns\n",
    "homelessness['total']=homelessness['individuals']+homelessness['family_members']\n",
    "# Add p_individuals col as proportion of individuals\n",
    "homelessness['p_individuals']=homelessness['individuals']/homelessness['total']\n",
    "\n",
    "# See the result\n",
    "print(homelessness.head())"
   ]
  },
  {
   "cell_type": "code",
   "execution_count": 42,
   "metadata": {},
   "outputs": [
    {
     "name": "stdout",
     "output_type": "stream",
     "text": [
      "                   state  indiv_per_10k\n",
      "8   District of Columbia      53.738381\n",
      "11                Hawaii      29.079406\n",
      "4             California      27.623825\n",
      "37                Oregon      26.636307\n",
      "28                Nevada      23.314189\n",
      "47            Washington      21.829195\n",
      "32              New York      20.392363\n"
     ]
    }
   ],
   "source": [
    "# Create indiv_per_10k col as homeless individuals per 10k state pop\n",
    "homelessness[\"indiv_per_10k\"] = 10000 * homelessness['individuals']/homelessness['state_pop'] \n",
    "\n",
    "# Subset rows for indiv_per_10k greater than 20\n",
    "high_homelessness = homelessness[homelessness['indiv_per_10k']>20]\n",
    "\n",
    "# Sort high_homelessness by descending indiv_per_10k\n",
    "high_homelessness_srt = high_homelessness.sort_values('indiv_per_10k',ascending=False)\n",
    "\n",
    "# From high_homelessness_srt, select the state and indiv_per_10k cols\n",
    "result = high_homelessness_srt[['state','indiv_per_10k']]\n",
    "\n",
    "# See the result\n",
    "print(result)\n",
    "\n"
   ]
  },
  {
   "cell_type": "raw",
   "metadata": {},
   "source": [
    "Washington D.C. has the highest number of homeless individuals - almost 54 per ten thousand people. This is almost double the number of the next-highest state, Hawaii."
   ]
  },
  {
   "cell_type": "markdown",
   "metadata": {},
   "source": [
    "# Aggregating Data"
   ]
  },
  {
   "cell_type": "code",
   "execution_count": 45,
   "metadata": {},
   "outputs": [],
   "source": [
    "# Summary Statistics\n",
    "# uncompress and unpickle walmart sales data\n",
    "import pickle\n",
    "import bz2\n",
    "filename = 'walmart_sales.pkl.bz2'\n",
    "infile = bz2.open(filename,'rb')\n",
    "sales = pickle.load(infile)\n",
    "infile.close()"
   ]
  },
  {
   "cell_type": "code",
   "execution_count": 46,
   "metadata": {},
   "outputs": [
    {
     "data": {
      "text/plain": [
       "pandas.core.frame.DataFrame"
      ]
     },
     "execution_count": 46,
     "metadata": {},
     "output_type": "execute_result"
    }
   ],
   "source": [
    "type(sales)"
   ]
  },
  {
   "cell_type": "code",
   "execution_count": 47,
   "metadata": {},
   "outputs": [
    {
     "name": "stdout",
     "output_type": "stream",
     "text": [
      "   store type  department       date  weekly_sales  is_holiday  temperature_c  \\\n",
      "0      1    A           1 2010-02-05      24924.50       False       5.727778   \n",
      "1      1    A           2 2010-02-05      50605.27       False       5.727778   \n",
      "2      1    A           3 2010-02-05      13740.12       False       5.727778   \n",
      "3      1    A           4 2010-02-05      39954.04       False       5.727778   \n",
      "4      1    A           5 2010-02-05      32229.38       False       5.727778   \n",
      "\n",
      "   fuel_price_usd_per_l  unemployment  \n",
      "0              0.679451         8.106  \n",
      "1              0.679451         8.106  \n",
      "2              0.679451         8.106  \n",
      "3              0.679451         8.106  \n",
      "4              0.679451         8.106  \n"
     ]
    }
   ],
   "source": [
    "# Print the head of the sales DataFrame\n",
    "print(sales.head())"
   ]
  },
  {
   "cell_type": "code",
   "execution_count": 48,
   "metadata": {},
   "outputs": [
    {
     "name": "stdout",
     "output_type": "stream",
     "text": [
      "<class 'pandas.core.frame.DataFrame'>\n",
      "Int64Index: 413119 entries, 0 to 413118\n",
      "Data columns (total 9 columns):\n",
      " #   Column                Non-Null Count   Dtype         \n",
      "---  ------                --------------   -----         \n",
      " 0   store                 413119 non-null  int64         \n",
      " 1   type                  413119 non-null  object        \n",
      " 2   department            413119 non-null  int32         \n",
      " 3   date                  413119 non-null  datetime64[ns]\n",
      " 4   weekly_sales          413119 non-null  float64       \n",
      " 5   is_holiday            413119 non-null  bool          \n",
      " 6   temperature_c         413119 non-null  float64       \n",
      " 7   fuel_price_usd_per_l  413119 non-null  float64       \n",
      " 8   unemployment          413119 non-null  float64       \n",
      "dtypes: bool(1), datetime64[ns](1), float64(4), int32(1), int64(1), object(1)\n",
      "memory usage: 27.2+ MB\n",
      "None\n"
     ]
    }
   ],
   "source": [
    "# Print the info about the sales DataFrame\n",
    "print(sales.info())"
   ]
  },
  {
   "cell_type": "code",
   "execution_count": 49,
   "metadata": {},
   "outputs": [
    {
     "name": "stdout",
     "output_type": "stream",
     "text": [
      "16094.726811185497\n",
      "7682.47\n"
     ]
    }
   ],
   "source": [
    "# Print the mean of weekly_sales\n",
    "print(sales['weekly_sales'].mean())\n",
    "\n",
    "# Print the median of weekly_sales\n",
    "print(sales['weekly_sales'].median())"
   ]
  },
  {
   "cell_type": "code",
   "execution_count": 50,
   "metadata": {},
   "outputs": [
    {
     "name": "stdout",
     "output_type": "stream",
     "text": [
      "2012-10-26 00:00:00\n",
      "2010-02-05 00:00:00\n"
     ]
    }
   ],
   "source": [
    "# Print the maximum of the date column\n",
    "print(sales['date'].max())\n",
    "# Print the minimum of the date column\n",
    "print(sales['date'].min())"
   ]
  },
  {
   "cell_type": "code",
   "execution_count": 52,
   "metadata": {},
   "outputs": [],
   "source": [
    "# .agg()\n",
    "# A custom IQR function\n",
    "def iqr(column):\n",
    "    return column.quantile(0.75) - column.quantile(0.25)"
   ]
  },
  {
   "cell_type": "code",
   "execution_count": 53,
   "metadata": {},
   "outputs": [
    {
     "data": {
      "text/plain": [
       "15.299999999999994"
      ]
     },
     "execution_count": 53,
     "metadata": {},
     "output_type": "execute_result"
    }
   ],
   "source": [
    "# Print IQR of the temperature_c column\n",
    "sales['temperature_c'].agg(iqr)"
   ]
  },
  {
   "cell_type": "code",
   "execution_count": 56,
   "metadata": {},
   "outputs": [
    {
     "data": {
      "text/plain": [
       "temperature_c           15.300000\n",
       "fuel_price_usd_per_l     0.211866\n",
       "unemployment             1.672000\n",
       "dtype: float64"
      ]
     },
     "execution_count": 56,
     "metadata": {},
     "output_type": "execute_result"
    }
   ],
   "source": [
    "# Print IQR of temperature_c, fuel_price_usd_per_l, & unemployment\n",
    "sales[[\"temperature_c\",\"fuel_price_usd_per_l\",\"unemployment\"]].agg(iqr)"
   ]
  },
  {
   "cell_type": "code",
   "execution_count": 59,
   "metadata": {},
   "outputs": [
    {
     "data": {
      "text/html": [
       "<div>\n",
       "<style scoped>\n",
       "    .dataframe tbody tr th:only-of-type {\n",
       "        vertical-align: middle;\n",
       "    }\n",
       "\n",
       "    .dataframe tbody tr th {\n",
       "        vertical-align: top;\n",
       "    }\n",
       "\n",
       "    .dataframe thead th {\n",
       "        text-align: right;\n",
       "    }\n",
       "</style>\n",
       "<table border=\"1\" class=\"dataframe\">\n",
       "  <thead>\n",
       "    <tr style=\"text-align: right;\">\n",
       "      <th></th>\n",
       "      <th>temperature_c</th>\n",
       "      <th>fuel_price_usd_per_l</th>\n",
       "      <th>unemployment</th>\n",
       "    </tr>\n",
       "  </thead>\n",
       "  <tbody>\n",
       "    <tr>\n",
       "      <th>iqr</th>\n",
       "      <td>15.30</td>\n",
       "      <td>0.211866</td>\n",
       "      <td>1.672</td>\n",
       "    </tr>\n",
       "    <tr>\n",
       "      <th>median</th>\n",
       "      <td>16.75</td>\n",
       "      <td>0.911922</td>\n",
       "      <td>7.852</td>\n",
       "    </tr>\n",
       "  </tbody>\n",
       "</table>\n",
       "</div>"
      ],
      "text/plain": [
       "        temperature_c  fuel_price_usd_per_l  unemployment\n",
       "iqr             15.30              0.211866         1.672\n",
       "median          16.75              0.911922         7.852"
      ]
     },
     "execution_count": 59,
     "metadata": {},
     "output_type": "execute_result"
    }
   ],
   "source": [
    "# print IQR and median of temperature_c, fuel_price_usd_per_l, & unemployment\n",
    "import numpy as np\n",
    "sales[[\"temperature_c\", \"fuel_price_usd_per_l\", \"unemployment\"]].agg([iqr,np.median])"
   ]
  },
  {
   "cell_type": "code",
   "execution_count": 65,
   "metadata": {},
   "outputs": [
    {
     "data": {
      "text/html": [
       "<div>\n",
       "<style scoped>\n",
       "    .dataframe tbody tr th:only-of-type {\n",
       "        vertical-align: middle;\n",
       "    }\n",
       "\n",
       "    .dataframe tbody tr th {\n",
       "        vertical-align: top;\n",
       "    }\n",
       "\n",
       "    .dataframe thead th {\n",
       "        text-align: right;\n",
       "    }\n",
       "</style>\n",
       "<table border=\"1\" class=\"dataframe\">\n",
       "  <thead>\n",
       "    <tr style=\"text-align: right;\">\n",
       "      <th></th>\n",
       "      <th>store</th>\n",
       "      <th>type</th>\n",
       "      <th>department</th>\n",
       "      <th>date</th>\n",
       "      <th>weekly_sales</th>\n",
       "      <th>is_holiday</th>\n",
       "      <th>temperature_c</th>\n",
       "      <th>fuel_price_usd_per_l</th>\n",
       "      <th>unemployment</th>\n",
       "    </tr>\n",
       "  </thead>\n",
       "  <tbody>\n",
       "    <tr>\n",
       "      <th>0</th>\n",
       "      <td>1</td>\n",
       "      <td>A</td>\n",
       "      <td>1</td>\n",
       "      <td>2010-02-05</td>\n",
       "      <td>24924.50</td>\n",
       "      <td>False</td>\n",
       "      <td>5.727778</td>\n",
       "      <td>0.679451</td>\n",
       "      <td>8.106</td>\n",
       "    </tr>\n",
       "    <tr>\n",
       "      <th>1</th>\n",
       "      <td>1</td>\n",
       "      <td>A</td>\n",
       "      <td>2</td>\n",
       "      <td>2010-02-05</td>\n",
       "      <td>50605.27</td>\n",
       "      <td>False</td>\n",
       "      <td>5.727778</td>\n",
       "      <td>0.679451</td>\n",
       "      <td>8.106</td>\n",
       "    </tr>\n",
       "    <tr>\n",
       "      <th>2</th>\n",
       "      <td>1</td>\n",
       "      <td>A</td>\n",
       "      <td>3</td>\n",
       "      <td>2010-02-05</td>\n",
       "      <td>13740.12</td>\n",
       "      <td>False</td>\n",
       "      <td>5.727778</td>\n",
       "      <td>0.679451</td>\n",
       "      <td>8.106</td>\n",
       "    </tr>\n",
       "    <tr>\n",
       "      <th>3</th>\n",
       "      <td>1</td>\n",
       "      <td>A</td>\n",
       "      <td>4</td>\n",
       "      <td>2010-02-05</td>\n",
       "      <td>39954.04</td>\n",
       "      <td>False</td>\n",
       "      <td>5.727778</td>\n",
       "      <td>0.679451</td>\n",
       "      <td>8.106</td>\n",
       "    </tr>\n",
       "    <tr>\n",
       "      <th>4</th>\n",
       "      <td>1</td>\n",
       "      <td>A</td>\n",
       "      <td>5</td>\n",
       "      <td>2010-02-05</td>\n",
       "      <td>32229.38</td>\n",
       "      <td>False</td>\n",
       "      <td>5.727778</td>\n",
       "      <td>0.679451</td>\n",
       "      <td>8.106</td>\n",
       "    </tr>\n",
       "  </tbody>\n",
       "</table>\n",
       "</div>"
      ],
      "text/plain": [
       "   store type  department       date  weekly_sales  is_holiday  temperature_c  \\\n",
       "0      1    A           1 2010-02-05      24924.50       False       5.727778   \n",
       "1      1    A           2 2010-02-05      50605.27       False       5.727778   \n",
       "2      1    A           3 2010-02-05      13740.12       False       5.727778   \n",
       "3      1    A           4 2010-02-05      39954.04       False       5.727778   \n",
       "4      1    A           5 2010-02-05      32229.38       False       5.727778   \n",
       "\n",
       "   fuel_price_usd_per_l  unemployment  \n",
       "0              0.679451         8.106  \n",
       "1              0.679451         8.106  \n",
       "2              0.679451         8.106  \n",
       "3              0.679451         8.106  \n",
       "4              0.679451         8.106  "
      ]
     },
     "execution_count": 65,
     "metadata": {},
     "output_type": "execute_result"
    }
   ],
   "source": [
    "# cumulative statistics\n",
    "# create sales_1_1 dataframe which contains the sales data for department 1 of store 1\n",
    "sales_1=sales[sales[\"store\"]==1]\n",
    "sales_1.head()"
   ]
  },
  {
   "cell_type": "code",
   "execution_count": 66,
   "metadata": {},
   "outputs": [
    {
     "data": {
      "text/html": [
       "<div>\n",
       "<style scoped>\n",
       "    .dataframe tbody tr th:only-of-type {\n",
       "        vertical-align: middle;\n",
       "    }\n",
       "\n",
       "    .dataframe tbody tr th {\n",
       "        vertical-align: top;\n",
       "    }\n",
       "\n",
       "    .dataframe thead th {\n",
       "        text-align: right;\n",
       "    }\n",
       "</style>\n",
       "<table border=\"1\" class=\"dataframe\">\n",
       "  <thead>\n",
       "    <tr style=\"text-align: right;\">\n",
       "      <th></th>\n",
       "      <th>store</th>\n",
       "      <th>type</th>\n",
       "      <th>department</th>\n",
       "      <th>date</th>\n",
       "      <th>weekly_sales</th>\n",
       "      <th>is_holiday</th>\n",
       "      <th>temperature_c</th>\n",
       "      <th>fuel_price_usd_per_l</th>\n",
       "      <th>unemployment</th>\n",
       "    </tr>\n",
       "  </thead>\n",
       "  <tbody>\n",
       "    <tr>\n",
       "      <th>0</th>\n",
       "      <td>1</td>\n",
       "      <td>A</td>\n",
       "      <td>1</td>\n",
       "      <td>2010-02-05</td>\n",
       "      <td>24924.50</td>\n",
       "      <td>False</td>\n",
       "      <td>5.727778</td>\n",
       "      <td>0.679451</td>\n",
       "      <td>8.106</td>\n",
       "    </tr>\n",
       "    <tr>\n",
       "      <th>73</th>\n",
       "      <td>1</td>\n",
       "      <td>A</td>\n",
       "      <td>1</td>\n",
       "      <td>2010-02-12</td>\n",
       "      <td>46039.49</td>\n",
       "      <td>True</td>\n",
       "      <td>3.616667</td>\n",
       "      <td>0.673111</td>\n",
       "      <td>8.106</td>\n",
       "    </tr>\n",
       "    <tr>\n",
       "      <th>145</th>\n",
       "      <td>1</td>\n",
       "      <td>A</td>\n",
       "      <td>1</td>\n",
       "      <td>2010-02-19</td>\n",
       "      <td>41595.55</td>\n",
       "      <td>False</td>\n",
       "      <td>4.405556</td>\n",
       "      <td>0.664129</td>\n",
       "      <td>8.106</td>\n",
       "    </tr>\n",
       "    <tr>\n",
       "      <th>218</th>\n",
       "      <td>1</td>\n",
       "      <td>A</td>\n",
       "      <td>1</td>\n",
       "      <td>2010-02-26</td>\n",
       "      <td>19403.54</td>\n",
       "      <td>False</td>\n",
       "      <td>8.127778</td>\n",
       "      <td>0.676545</td>\n",
       "      <td>8.106</td>\n",
       "    </tr>\n",
       "    <tr>\n",
       "      <th>290</th>\n",
       "      <td>1</td>\n",
       "      <td>A</td>\n",
       "      <td>1</td>\n",
       "      <td>2010-03-05</td>\n",
       "      <td>21827.90</td>\n",
       "      <td>False</td>\n",
       "      <td>8.055556</td>\n",
       "      <td>0.693452</td>\n",
       "      <td>8.106</td>\n",
       "    </tr>\n",
       "  </tbody>\n",
       "</table>\n",
       "</div>"
      ],
      "text/plain": [
       "     store type  department       date  weekly_sales  is_holiday  \\\n",
       "0        1    A           1 2010-02-05      24924.50       False   \n",
       "73       1    A           1 2010-02-12      46039.49        True   \n",
       "145      1    A           1 2010-02-19      41595.55       False   \n",
       "218      1    A           1 2010-02-26      19403.54       False   \n",
       "290      1    A           1 2010-03-05      21827.90       False   \n",
       "\n",
       "     temperature_c  fuel_price_usd_per_l  unemployment  \n",
       "0         5.727778              0.679451         8.106  \n",
       "73        3.616667              0.673111         8.106  \n",
       "145       4.405556              0.664129         8.106  \n",
       "218       8.127778              0.676545         8.106  \n",
       "290       8.055556              0.693452         8.106  "
      ]
     },
     "execution_count": 66,
     "metadata": {},
     "output_type": "execute_result"
    }
   ],
   "source": [
    "sales_1_1= sales_1[sales_1[\"department\"]==1]\n",
    "sales_1_1.head()"
   ]
  },
  {
   "cell_type": "code",
   "execution_count": 67,
   "metadata": {},
   "outputs": [],
   "source": [
    "# Sort sales_1_1 by date\n",
    "sales_1_1 = sales_1_1.sort_values('date')"
   ]
  },
  {
   "cell_type": "code",
   "execution_count": 69,
   "metadata": {},
   "outputs": [],
   "source": [
    "# Get the cumulative sum of weekly_sales, add as cum_weekly_sales col\n",
    "sales_1_1['cum_weekly_sales'] = sales['weekly_sales'].cumsum()"
   ]
  },
  {
   "cell_type": "code",
   "execution_count": 70,
   "metadata": {},
   "outputs": [],
   "source": [
    "# Get the cumulative max of weekly_sales, add as cum_max_sales col\n",
    "sales_1_1['cum_max_sales']=sales_1_1['weekly_sales'].cummax()"
   ]
  },
  {
   "cell_type": "code",
   "execution_count": 71,
   "metadata": {},
   "outputs": [
    {
     "data": {
      "text/html": [
       "<div>\n",
       "<style scoped>\n",
       "    .dataframe tbody tr th:only-of-type {\n",
       "        vertical-align: middle;\n",
       "    }\n",
       "\n",
       "    .dataframe tbody tr th {\n",
       "        vertical-align: top;\n",
       "    }\n",
       "\n",
       "    .dataframe thead th {\n",
       "        text-align: right;\n",
       "    }\n",
       "</style>\n",
       "<table border=\"1\" class=\"dataframe\">\n",
       "  <thead>\n",
       "    <tr style=\"text-align: right;\">\n",
       "      <th></th>\n",
       "      <th>date</th>\n",
       "      <th>weekly_sales</th>\n",
       "      <th>cum_weekly_sales</th>\n",
       "      <th>cum_max_sales</th>\n",
       "    </tr>\n",
       "  </thead>\n",
       "  <tbody>\n",
       "    <tr>\n",
       "      <th>0</th>\n",
       "      <td>2010-02-05</td>\n",
       "      <td>24924.50</td>\n",
       "      <td>2.492450e+04</td>\n",
       "      <td>24924.50</td>\n",
       "    </tr>\n",
       "    <tr>\n",
       "      <th>73</th>\n",
       "      <td>2010-02-12</td>\n",
       "      <td>46039.49</td>\n",
       "      <td>1.689730e+06</td>\n",
       "      <td>46039.49</td>\n",
       "    </tr>\n",
       "    <tr>\n",
       "      <th>145</th>\n",
       "      <td>2010-02-19</td>\n",
       "      <td>41595.55</td>\n",
       "      <td>3.327244e+06</td>\n",
       "      <td>46039.49</td>\n",
       "    </tr>\n",
       "    <tr>\n",
       "      <th>218</th>\n",
       "      <td>2010-02-26</td>\n",
       "      <td>19403.54</td>\n",
       "      <td>4.917020e+06</td>\n",
       "      <td>46039.49</td>\n",
       "    </tr>\n",
       "    <tr>\n",
       "      <th>290</th>\n",
       "      <td>2010-03-05</td>\n",
       "      <td>21827.90</td>\n",
       "      <td>6.329172e+06</td>\n",
       "      <td>46039.49</td>\n",
       "    </tr>\n",
       "    <tr>\n",
       "      <th>...</th>\n",
       "      <td>...</td>\n",
       "      <td>...</td>\n",
       "      <td>...</td>\n",
       "      <td>...</td>\n",
       "    </tr>\n",
       "    <tr>\n",
       "      <th>9883</th>\n",
       "      <td>2012-09-28</td>\n",
       "      <td>18947.81</td>\n",
       "      <td>2.147391e+08</td>\n",
       "      <td>57592.12</td>\n",
       "    </tr>\n",
       "    <tr>\n",
       "      <th>9956</th>\n",
       "      <td>2012-10-05</td>\n",
       "      <td>21904.47</td>\n",
       "      <td>2.161791e+08</td>\n",
       "      <td>57592.12</td>\n",
       "    </tr>\n",
       "    <tr>\n",
       "      <th>10028</th>\n",
       "      <td>2012-10-12</td>\n",
       "      <td>22764.01</td>\n",
       "      <td>2.178508e+08</td>\n",
       "      <td>57592.12</td>\n",
       "    </tr>\n",
       "    <tr>\n",
       "      <th>10101</th>\n",
       "      <td>2012-10-19</td>\n",
       "      <td>24185.27</td>\n",
       "      <td>2.194253e+08</td>\n",
       "      <td>57592.12</td>\n",
       "    </tr>\n",
       "    <tr>\n",
       "      <th>10172</th>\n",
       "      <td>2012-10-26</td>\n",
       "      <td>27390.81</td>\n",
       "      <td>2.209365e+08</td>\n",
       "      <td>57592.12</td>\n",
       "    </tr>\n",
       "  </tbody>\n",
       "</table>\n",
       "<p>143 rows × 4 columns</p>\n",
       "</div>"
      ],
      "text/plain": [
       "            date  weekly_sales  cum_weekly_sales  cum_max_sales\n",
       "0     2010-02-05      24924.50      2.492450e+04       24924.50\n",
       "73    2010-02-12      46039.49      1.689730e+06       46039.49\n",
       "145   2010-02-19      41595.55      3.327244e+06       46039.49\n",
       "218   2010-02-26      19403.54      4.917020e+06       46039.49\n",
       "290   2010-03-05      21827.90      6.329172e+06       46039.49\n",
       "...          ...           ...               ...            ...\n",
       "9883  2012-09-28      18947.81      2.147391e+08       57592.12\n",
       "9956  2012-10-05      21904.47      2.161791e+08       57592.12\n",
       "10028 2012-10-12      22764.01      2.178508e+08       57592.12\n",
       "10101 2012-10-19      24185.27      2.194253e+08       57592.12\n",
       "10172 2012-10-26      27390.81      2.209365e+08       57592.12\n",
       "\n",
       "[143 rows x 4 columns]"
      ]
     },
     "execution_count": 71,
     "metadata": {},
     "output_type": "execute_result"
    }
   ],
   "source": [
    "# See the columns you calculated\n",
    "sales_1_1[[\"date\", \"weekly_sales\", \"cum_weekly_sales\", \"cum_max_sales\"]]"
   ]
  },
  {
   "cell_type": "code",
   "execution_count": null,
   "metadata": {},
   "outputs": [],
   "source": [
    "# Counting"
   ]
  },
  {
   "cell_type": "code",
   "execution_count": 72,
   "metadata": {},
   "outputs": [
    {
     "data": {
      "text/html": [
       "<div>\n",
       "<style scoped>\n",
       "    .dataframe tbody tr th:only-of-type {\n",
       "        vertical-align: middle;\n",
       "    }\n",
       "\n",
       "    .dataframe tbody tr th {\n",
       "        vertical-align: top;\n",
       "    }\n",
       "\n",
       "    .dataframe thead th {\n",
       "        text-align: right;\n",
       "    }\n",
       "</style>\n",
       "<table border=\"1\" class=\"dataframe\">\n",
       "  <thead>\n",
       "    <tr style=\"text-align: right;\">\n",
       "      <th></th>\n",
       "      <th>store</th>\n",
       "      <th>type</th>\n",
       "      <th>department</th>\n",
       "      <th>date</th>\n",
       "      <th>weekly_sales</th>\n",
       "      <th>is_holiday</th>\n",
       "      <th>temperature_c</th>\n",
       "      <th>fuel_price_usd_per_l</th>\n",
       "      <th>unemployment</th>\n",
       "    </tr>\n",
       "  </thead>\n",
       "  <tbody>\n",
       "    <tr>\n",
       "      <th>0</th>\n",
       "      <td>1</td>\n",
       "      <td>A</td>\n",
       "      <td>1</td>\n",
       "      <td>2010-02-05</td>\n",
       "      <td>24924.50</td>\n",
       "      <td>False</td>\n",
       "      <td>5.727778</td>\n",
       "      <td>0.679451</td>\n",
       "      <td>8.106</td>\n",
       "    </tr>\n",
       "    <tr>\n",
       "      <th>10244</th>\n",
       "      <td>2</td>\n",
       "      <td>A</td>\n",
       "      <td>1</td>\n",
       "      <td>2010-02-05</td>\n",
       "      <td>35034.06</td>\n",
       "      <td>False</td>\n",
       "      <td>4.550000</td>\n",
       "      <td>0.679451</td>\n",
       "      <td>8.324</td>\n",
       "    </tr>\n",
       "    <tr>\n",
       "      <th>20482</th>\n",
       "      <td>3</td>\n",
       "      <td>B</td>\n",
       "      <td>1</td>\n",
       "      <td>2010-02-05</td>\n",
       "      <td>6453.58</td>\n",
       "      <td>False</td>\n",
       "      <td>7.616667</td>\n",
       "      <td>0.679451</td>\n",
       "      <td>7.368</td>\n",
       "    </tr>\n",
       "    <tr>\n",
       "      <th>29518</th>\n",
       "      <td>4</td>\n",
       "      <td>A</td>\n",
       "      <td>1</td>\n",
       "      <td>2010-02-05</td>\n",
       "      <td>38724.42</td>\n",
       "      <td>False</td>\n",
       "      <td>6.533333</td>\n",
       "      <td>0.686319</td>\n",
       "      <td>8.623</td>\n",
       "    </tr>\n",
       "    <tr>\n",
       "      <th>39790</th>\n",
       "      <td>5</td>\n",
       "      <td>B</td>\n",
       "      <td>1</td>\n",
       "      <td>2010-02-05</td>\n",
       "      <td>9323.89</td>\n",
       "      <td>False</td>\n",
       "      <td>4.277778</td>\n",
       "      <td>0.679451</td>\n",
       "      <td>6.566</td>\n",
       "    </tr>\n",
       "  </tbody>\n",
       "</table>\n",
       "</div>"
      ],
      "text/plain": [
       "       store type  department       date  weekly_sales  is_holiday  \\\n",
       "0          1    A           1 2010-02-05      24924.50       False   \n",
       "10244      2    A           1 2010-02-05      35034.06       False   \n",
       "20482      3    B           1 2010-02-05       6453.58       False   \n",
       "29518      4    A           1 2010-02-05      38724.42       False   \n",
       "39790      5    B           1 2010-02-05       9323.89       False   \n",
       "\n",
       "       temperature_c  fuel_price_usd_per_l  unemployment  \n",
       "0           5.727778              0.679451         8.106  \n",
       "10244       4.550000              0.679451         8.324  \n",
       "20482       7.616667              0.679451         7.368  \n",
       "29518       6.533333              0.686319         8.623  \n",
       "39790       4.277778              0.679451         6.566  "
      ]
     },
     "execution_count": 72,
     "metadata": {},
     "output_type": "execute_result"
    }
   ],
   "source": [
    "# dropping duplicates\n",
    "# Drop duplicate store/type combinations\n",
    "store_types = sales.drop_duplicates(subset=['store','type'])\n",
    "store_types.head()"
   ]
  },
  {
   "cell_type": "code",
   "execution_count": 73,
   "metadata": {},
   "outputs": [
    {
     "data": {
      "text/html": [
       "<div>\n",
       "<style scoped>\n",
       "    .dataframe tbody tr th:only-of-type {\n",
       "        vertical-align: middle;\n",
       "    }\n",
       "\n",
       "    .dataframe tbody tr th {\n",
       "        vertical-align: top;\n",
       "    }\n",
       "\n",
       "    .dataframe thead th {\n",
       "        text-align: right;\n",
       "    }\n",
       "</style>\n",
       "<table border=\"1\" class=\"dataframe\">\n",
       "  <thead>\n",
       "    <tr style=\"text-align: right;\">\n",
       "      <th></th>\n",
       "      <th>store</th>\n",
       "      <th>type</th>\n",
       "      <th>department</th>\n",
       "      <th>date</th>\n",
       "      <th>weekly_sales</th>\n",
       "      <th>is_holiday</th>\n",
       "      <th>temperature_c</th>\n",
       "      <th>fuel_price_usd_per_l</th>\n",
       "      <th>unemployment</th>\n",
       "    </tr>\n",
       "  </thead>\n",
       "  <tbody>\n",
       "    <tr>\n",
       "      <th>0</th>\n",
       "      <td>1</td>\n",
       "      <td>A</td>\n",
       "      <td>1</td>\n",
       "      <td>2010-02-05</td>\n",
       "      <td>24924.50</td>\n",
       "      <td>False</td>\n",
       "      <td>5.727778</td>\n",
       "      <td>0.679451</td>\n",
       "      <td>8.106</td>\n",
       "    </tr>\n",
       "    <tr>\n",
       "      <th>1</th>\n",
       "      <td>1</td>\n",
       "      <td>A</td>\n",
       "      <td>2</td>\n",
       "      <td>2010-02-05</td>\n",
       "      <td>50605.27</td>\n",
       "      <td>False</td>\n",
       "      <td>5.727778</td>\n",
       "      <td>0.679451</td>\n",
       "      <td>8.106</td>\n",
       "    </tr>\n",
       "    <tr>\n",
       "      <th>2</th>\n",
       "      <td>1</td>\n",
       "      <td>A</td>\n",
       "      <td>3</td>\n",
       "      <td>2010-02-05</td>\n",
       "      <td>13740.12</td>\n",
       "      <td>False</td>\n",
       "      <td>5.727778</td>\n",
       "      <td>0.679451</td>\n",
       "      <td>8.106</td>\n",
       "    </tr>\n",
       "    <tr>\n",
       "      <th>3</th>\n",
       "      <td>1</td>\n",
       "      <td>A</td>\n",
       "      <td>4</td>\n",
       "      <td>2010-02-05</td>\n",
       "      <td>39954.04</td>\n",
       "      <td>False</td>\n",
       "      <td>5.727778</td>\n",
       "      <td>0.679451</td>\n",
       "      <td>8.106</td>\n",
       "    </tr>\n",
       "    <tr>\n",
       "      <th>4</th>\n",
       "      <td>1</td>\n",
       "      <td>A</td>\n",
       "      <td>5</td>\n",
       "      <td>2010-02-05</td>\n",
       "      <td>32229.38</td>\n",
       "      <td>False</td>\n",
       "      <td>5.727778</td>\n",
       "      <td>0.679451</td>\n",
       "      <td>8.106</td>\n",
       "    </tr>\n",
       "  </tbody>\n",
       "</table>\n",
       "</div>"
      ],
      "text/plain": [
       "   store type  department       date  weekly_sales  is_holiday  temperature_c  \\\n",
       "0      1    A           1 2010-02-05      24924.50       False       5.727778   \n",
       "1      1    A           2 2010-02-05      50605.27       False       5.727778   \n",
       "2      1    A           3 2010-02-05      13740.12       False       5.727778   \n",
       "3      1    A           4 2010-02-05      39954.04       False       5.727778   \n",
       "4      1    A           5 2010-02-05      32229.38       False       5.727778   \n",
       "\n",
       "   fuel_price_usd_per_l  unemployment  \n",
       "0              0.679451         8.106  \n",
       "1              0.679451         8.106  \n",
       "2              0.679451         8.106  \n",
       "3              0.679451         8.106  \n",
       "4              0.679451         8.106  "
      ]
     },
     "execution_count": 73,
     "metadata": {},
     "output_type": "execute_result"
    }
   ],
   "source": [
    "# Drop duplicate store/department combinations\n",
    "store_depts = sales.drop_duplicates(subset=['store','department'])\n",
    "store_depts.head()"
   ]
  },
  {
   "cell_type": "code",
   "execution_count": 74,
   "metadata": {},
   "outputs": [
    {
     "data": {
      "text/plain": [
       "A    22\n",
       "B    17\n",
       "C     6\n",
       "Name: type, dtype: int64"
      ]
     },
     "execution_count": 74,
     "metadata": {},
     "output_type": "execute_result"
    }
   ],
   "source": [
    "# Count the number of stores of each type\n",
    "store_counts = store_types['type'].value_counts()\n",
    "store_counts"
   ]
  },
  {
   "cell_type": "code",
   "execution_count": 75,
   "metadata": {},
   "outputs": [
    {
     "data": {
      "text/plain": [
       "A    0.488889\n",
       "B    0.377778\n",
       "C    0.133333\n",
       "Name: type, dtype: float64"
      ]
     },
     "execution_count": 75,
     "metadata": {},
     "output_type": "execute_result"
    }
   ],
   "source": [
    "# Get the proportion of stores of each type\n",
    "store_props = store_types['type'].value_counts(normalize=True)\n",
    "store_props"
   ]
  },
  {
   "cell_type": "markdown",
   "metadata": {},
   "source": [
    "# Grouped summary statistics"
   ]
  },
  {
   "cell_type": "code",
   "execution_count": 78,
   "metadata": {},
   "outputs": [
    {
     "data": {
      "text/plain": [
       "6649037445.509999"
      ]
     },
     "execution_count": 78,
     "metadata": {},
     "output_type": "execute_result"
    }
   ],
   "source": [
    "# What percent of sales occurred at each store type?\n",
    "# without groupby\n",
    "\n",
    "# Calc total weekly sales\n",
    "sales_all=sales[\"weekly_sales\"].sum()\n",
    "sales_all"
   ]
  },
  {
   "cell_type": "code",
   "execution_count": 84,
   "metadata": {},
   "outputs": [
    {
     "name": "stdout",
     "output_type": "stream",
     "text": [
      "4331014722.749999\n",
      "1912519195.2199998\n",
      "405503527.53999996\n"
     ]
    }
   ],
   "source": [
    "# Subset for type A stores, calc total weekly sales\n",
    "sales_A = sales[sales[\"type\"]==\"A\"][\"weekly_sales\"].sum()\n",
    "print(sales_A)\n",
    "\n",
    "# Subset for type B stores, calc total weekly sales\n",
    "sales_B = sales[sales[\"type\"]==\"B\"][\"weekly_sales\"].sum()\n",
    "print(sales_B)\n",
    "\n",
    "\n",
    "# Subset for type C stores, calc total weekly sales\n",
    "sales_C = sales[sales[\"type\"] == \"C\"][\"weekly_sales\"].sum()\n",
    "print(sales_C)"
   ]
  },
  {
   "cell_type": "code",
   "execution_count": 85,
   "metadata": {},
   "outputs": [
    {
     "name": "stdout",
     "output_type": "stream",
     "text": [
      "[0.65137469 0.28763851 0.0609868 ]\n"
     ]
    }
   ],
   "source": [
    "# Get proportion for each type\n",
    "sales_propn_by_type = [sales_A,sales_B,sales_C] /sales_all\n",
    "print(sales_propn_by_type)"
   ]
  },
  {
   "cell_type": "code",
   "execution_count": 86,
   "metadata": {},
   "outputs": [
    {
     "data": {
      "text/plain": [
       "type\n",
       "A    4.331015e+09\n",
       "B    1.912519e+09\n",
       "C    4.055035e+08\n",
       "Name: weekly_sales, dtype: float64"
      ]
     },
     "execution_count": 86,
     "metadata": {},
     "output_type": "execute_result"
    }
   ],
   "source": [
    "# using groupby\n",
    "# Group by type; calc total weekly sales\n",
    "sales_by_type = sales.groupby(\"type\")[\"weekly_sales\"].sum()\n",
    "sales_by_type"
   ]
  },
  {
   "cell_type": "code",
   "execution_count": 87,
   "metadata": {},
   "outputs": [
    {
     "data": {
      "text/plain": [
       "type\n",
       "A    0.651375\n",
       "B    0.287639\n",
       "C    0.060987\n",
       "Name: weekly_sales, dtype: float64"
      ]
     },
     "execution_count": 87,
     "metadata": {},
     "output_type": "execute_result"
    }
   ],
   "source": [
    "# Get proportion for each type\n",
    "sales_propn_by_type = sales.groupby(\"type\")[\"weekly_sales\"].sum()/sum(sales_by_type)\n",
    "sales_propn_by_type"
   ]
  },
  {
   "cell_type": "code",
   "execution_count": 88,
   "metadata": {},
   "outputs": [
    {
     "name": "stdout",
     "output_type": "stream",
     "text": [
      "type  is_holiday\n",
      "A     False         4.007612e+09\n",
      "      True          3.234028e+08\n",
      "B     False         1.765411e+09\n",
      "      True          1.471081e+08\n",
      "C     False         3.772478e+08\n",
      "      True          2.825570e+07\n",
      "Name: weekly_sales, dtype: float64\n"
     ]
    }
   ],
   "source": [
    "# Group by type and is_holiday; calc total weekly sales\n",
    "sales_by_type_is_holiday = sales.groupby([\"type\",\"is_holiday\"])[\"weekly_sales\"].sum()\n",
    "print(sales_by_type_is_holiday)"
   ]
  },
  {
   "cell_type": "code",
   "execution_count": 92,
   "metadata": {},
   "outputs": [
    {
     "name": "stdout",
     "output_type": "stream",
     "text": [
      "         amin       amax          mean    median\n",
      "type                                            \n",
      "A    -4988.94  474330.10  20099.568043  10105.17\n",
      "B    -3924.00  693099.36  12335.331875   6269.02\n",
      "C     -379.00  112152.35   9519.532538   1149.67\n",
      "     unemployment                          fuel_price_usd_per_l            \\\n",
      "             amin    amax      mean median                 amin      amax   \n",
      "type                                                                        \n",
      "A           3.879  14.313  7.791595  7.818             0.653034  1.180321   \n",
      "B           4.125  14.313  7.889666  7.806             0.664129  1.180321   \n",
      "C           5.217  14.313  8.934350  8.300             0.664129  1.180321   \n",
      "\n",
      "                          \n",
      "          mean    median  \n",
      "type                      \n",
      "A     0.883391  0.902676  \n",
      "B     0.892997  0.922225  \n",
      "C     0.888848  0.902676  \n"
     ]
    },
    {
     "name": "stderr",
     "output_type": "stream",
     "text": [
      "C:\\Users\\shrut\\anaconda3\\lib\\site-packages\\ipykernel_launcher.py:12: FutureWarning: Indexing with multiple keys (implicitly converted to a tuple of keys) will be deprecated, use a list instead.\n",
      "  if sys.path[0] == '':\n"
     ]
    }
   ],
   "source": [
    "# Multiple grouped summaries\n",
    "# Import NumPy with the alias np\n",
    "import numpy as np\n",
    "\n",
    "# For each store type, aggregate weekly_sales: get min, max, mean, and median\n",
    "sales_stats = sales.groupby(\"type\")[\"weekly_sales\"].agg([np.min,np.max,np.mean,np.median])\n",
    "\n",
    "# Print sales_stats\n",
    "print(sales_stats)\n",
    "\n",
    "# For each store type, aggregate unemployment and fuel_price_usd_per_l: get min, max, mean, and median\n",
    "unemp_fuel_stats = sales.groupby([\"type\"])[\"unemployment\",\"fuel_price_usd_per_l\"].agg([np.min,np.max,np.mean,np.median])\n",
    "\n",
    "# Print unemp_fuel_stats\n",
    "print(unemp_fuel_stats)"
   ]
  },
  {
   "cell_type": "raw",
   "metadata": {},
   "source": [
    "Notice that the minimum weekly_sales is negative because some stores had more returns than sales."
   ]
  },
  {
   "cell_type": "code",
   "execution_count": null,
   "metadata": {},
   "outputs": [],
   "source": [
    "# Pivot tables"
   ]
  },
  {
   "cell_type": "code",
   "execution_count": 94,
   "metadata": {},
   "outputs": [
    {
     "name": "stdout",
     "output_type": "stream",
     "text": [
      "      weekly_sales\n",
      "type              \n",
      "A     20099.568043\n",
      "B     12335.331875\n",
      "C      9519.532538\n"
     ]
    }
   ],
   "source": [
    "# Pivoting on one variable\n",
    "# Pivot for mean weekly_sales for each store type\n",
    "mean_sales_by_type = sales.pivot_table(values=\"weekly_sales\", index=\"type\")\n",
    "\n",
    "# Print mean_sales_by_type\n",
    "print(mean_sales_by_type)"
   ]
  },
  {
   "cell_type": "code",
   "execution_count": 95,
   "metadata": {},
   "outputs": [
    {
     "name": "stdout",
     "output_type": "stream",
     "text": [
      "              mean       median\n",
      "      weekly_sales weekly_sales\n",
      "type                           \n",
      "A     20099.568043     10105.17\n",
      "B     12335.331875      6269.02\n",
      "C      9519.532538      1149.67\n"
     ]
    }
   ],
   "source": [
    "# Import NumPy as np\n",
    "import numpy as np\n",
    "\n",
    "# Pivot for mean and median weekly_sales for each store type\n",
    "mean_med_sales_by_type = sales.pivot_table(values=\"weekly_sales\", index=\"type\", aggfunc=[np.mean,np.median])\n",
    "\n",
    "# Print mean_med_sales_by_type\n",
    "print(mean_med_sales_by_type)"
   ]
  },
  {
   "cell_type": "code",
   "execution_count": 96,
   "metadata": {},
   "outputs": [
    {
     "name": "stdout",
     "output_type": "stream",
     "text": [
      "is_holiday         False         True \n",
      "type                                  \n",
      "A           20008.746759  21297.517824\n",
      "B           12248.741339  13478.844240\n",
      "C            9518.528116   9532.963131\n"
     ]
    }
   ],
   "source": [
    "# Pivot for mean weekly_sales by store type and holiday \n",
    "mean_sales_by_type_holiday = sales.pivot_table(values='weekly_sales',index=\"type\",columns=\"is_holiday\")\n",
    "\n",
    "# Print mean_sales_by_type_holiday\n",
    "print(mean_sales_by_type_holiday)"
   ]
  },
  {
   "cell_type": "code",
   "execution_count": 97,
   "metadata": {},
   "outputs": [
    {
     "name": "stdout",
     "output_type": "stream",
     "text": [
      "type                   A             B             C\n",
      "department                                          \n",
      "1           22956.887886  17990.876158   8951.733462\n",
      "2           51994.674873  43051.996919  14424.851713\n",
      "3           13881.033137  12965.414311    820.276818\n",
      "4           32973.814075  21259.895804  13669.370396\n",
      "5           26803.448045  21184.602916    767.600774\n",
      "...                  ...           ...           ...\n",
      "95          97094.026043  40580.306862  50641.564872\n",
      "96          19900.943552   4752.674874  15766.025431\n",
      "97          22093.807101   3543.243304  13419.542809\n",
      "98          10979.816195    299.951644   5479.758054\n",
      "99            431.443064     25.716667      8.330952\n",
      "\n",
      "[81 rows x 3 columns]\n"
     ]
    }
   ],
   "source": [
    "# Print mean weekly_sales by department and type; fill missing values with 0\n",
    "print(sales.pivot_table(values='weekly_sales',index='department',columns='type', fill_value=0))"
   ]
  },
  {
   "cell_type": "code",
   "execution_count": 98,
   "metadata": {},
   "outputs": [
    {
     "data": {
      "text/html": [
       "<div>\n",
       "<style scoped>\n",
       "    .dataframe tbody tr th:only-of-type {\n",
       "        vertical-align: middle;\n",
       "    }\n",
       "\n",
       "    .dataframe tbody tr th {\n",
       "        vertical-align: top;\n",
       "    }\n",
       "\n",
       "    .dataframe thead th {\n",
       "        text-align: right;\n",
       "    }\n",
       "</style>\n",
       "<table border=\"1\" class=\"dataframe\">\n",
       "  <thead>\n",
       "    <tr style=\"text-align: right;\">\n",
       "      <th>type</th>\n",
       "      <th>A</th>\n",
       "      <th>B</th>\n",
       "      <th>C</th>\n",
       "      <th>All</th>\n",
       "    </tr>\n",
       "    <tr>\n",
       "      <th>department</th>\n",
       "      <th></th>\n",
       "      <th></th>\n",
       "      <th></th>\n",
       "      <th></th>\n",
       "    </tr>\n",
       "  </thead>\n",
       "  <tbody>\n",
       "    <tr>\n",
       "      <th>1</th>\n",
       "      <td>22956.887886</td>\n",
       "      <td>17990.876158</td>\n",
       "      <td>8951.733462</td>\n",
       "      <td>19213.485088</td>\n",
       "    </tr>\n",
       "    <tr>\n",
       "      <th>2</th>\n",
       "      <td>51994.674873</td>\n",
       "      <td>43051.996919</td>\n",
       "      <td>14424.851713</td>\n",
       "      <td>43607.020113</td>\n",
       "    </tr>\n",
       "    <tr>\n",
       "      <th>3</th>\n",
       "      <td>13881.033137</td>\n",
       "      <td>12965.414311</td>\n",
       "      <td>820.276818</td>\n",
       "      <td>11793.698516</td>\n",
       "    </tr>\n",
       "    <tr>\n",
       "      <th>4</th>\n",
       "      <td>32973.814075</td>\n",
       "      <td>21259.895804</td>\n",
       "      <td>13669.370396</td>\n",
       "      <td>25974.630238</td>\n",
       "    </tr>\n",
       "    <tr>\n",
       "      <th>5</th>\n",
       "      <td>26803.448045</td>\n",
       "      <td>21184.602916</td>\n",
       "      <td>767.600774</td>\n",
       "      <td>21365.583515</td>\n",
       "    </tr>\n",
       "    <tr>\n",
       "      <th>...</th>\n",
       "      <td>...</td>\n",
       "      <td>...</td>\n",
       "      <td>...</td>\n",
       "      <td>...</td>\n",
       "    </tr>\n",
       "    <tr>\n",
       "      <th>96</th>\n",
       "      <td>19900.943552</td>\n",
       "      <td>4752.674874</td>\n",
       "      <td>15766.025431</td>\n",
       "      <td>15217.211505</td>\n",
       "    </tr>\n",
       "    <tr>\n",
       "      <th>97</th>\n",
       "      <td>22093.807101</td>\n",
       "      <td>3543.243304</td>\n",
       "      <td>13419.542809</td>\n",
       "      <td>14437.120839</td>\n",
       "    </tr>\n",
       "    <tr>\n",
       "      <th>98</th>\n",
       "      <td>10979.816195</td>\n",
       "      <td>299.951644</td>\n",
       "      <td>5479.758054</td>\n",
       "      <td>6973.013875</td>\n",
       "    </tr>\n",
       "    <tr>\n",
       "      <th>99</th>\n",
       "      <td>431.443064</td>\n",
       "      <td>25.716667</td>\n",
       "      <td>8.330952</td>\n",
       "      <td>415.487065</td>\n",
       "    </tr>\n",
       "    <tr>\n",
       "      <th>All</th>\n",
       "      <td>20099.568043</td>\n",
       "      <td>12335.331875</td>\n",
       "      <td>9519.532538</td>\n",
       "      <td>16094.726811</td>\n",
       "    </tr>\n",
       "  </tbody>\n",
       "</table>\n",
       "<p>82 rows × 4 columns</p>\n",
       "</div>"
      ],
      "text/plain": [
       "type                   A             B             C           All\n",
       "department                                                        \n",
       "1           22956.887886  17990.876158   8951.733462  19213.485088\n",
       "2           51994.674873  43051.996919  14424.851713  43607.020113\n",
       "3           13881.033137  12965.414311    820.276818  11793.698516\n",
       "4           32973.814075  21259.895804  13669.370396  25974.630238\n",
       "5           26803.448045  21184.602916    767.600774  21365.583515\n",
       "...                  ...           ...           ...           ...\n",
       "96          19900.943552   4752.674874  15766.025431  15217.211505\n",
       "97          22093.807101   3543.243304  13419.542809  14437.120839\n",
       "98          10979.816195    299.951644   5479.758054   6973.013875\n",
       "99            431.443064     25.716667      8.330952    415.487065\n",
       "All         20099.568043  12335.331875   9519.532538  16094.726811\n",
       "\n",
       "[82 rows x 4 columns]"
      ]
     },
     "execution_count": 98,
     "metadata": {},
     "output_type": "execute_result"
    }
   ],
   "source": [
    "# Print the mean weekly_sales by department and type; fill missing values with 0s; sum all rows and cols\n",
    "sales.pivot_table(values=\"weekly_sales\", index=\"department\", columns=\"type\",fill_value=0,margins=True)"
   ]
  },
  {
   "cell_type": "markdown",
   "metadata": {},
   "source": [
    "# Slicing and indexing"
   ]
  },
  {
   "cell_type": "code",
   "execution_count": null,
   "metadata": {},
   "outputs": [],
   "source": [
    "# explicit indices"
   ]
  },
  {
   "cell_type": "code",
   "execution_count": 129,
   "metadata": {},
   "outputs": [
    {
     "data": {
      "text/html": [
       "<div>\n",
       "<style scoped>\n",
       "    .dataframe tbody tr th:only-of-type {\n",
       "        vertical-align: middle;\n",
       "    }\n",
       "\n",
       "    .dataframe tbody tr th {\n",
       "        vertical-align: top;\n",
       "    }\n",
       "\n",
       "    .dataframe thead th {\n",
       "        text-align: right;\n",
       "    }\n",
       "</style>\n",
       "<table border=\"1\" class=\"dataframe\">\n",
       "  <thead>\n",
       "    <tr style=\"text-align: right;\">\n",
       "      <th></th>\n",
       "      <th>date</th>\n",
       "      <th>city</th>\n",
       "      <th>country</th>\n",
       "      <th>avg_temp_c</th>\n",
       "    </tr>\n",
       "  </thead>\n",
       "  <tbody>\n",
       "    <tr>\n",
       "      <th>0</th>\n",
       "      <td>1995-01-01</td>\n",
       "      <td>Calgary</td>\n",
       "      <td>Canada</td>\n",
       "      <td>12.6</td>\n",
       "    </tr>\n",
       "    <tr>\n",
       "      <th>1</th>\n",
       "      <td>1995-01-02</td>\n",
       "      <td>Calgary</td>\n",
       "      <td>Canada</td>\n",
       "      <td>4.5</td>\n",
       "    </tr>\n",
       "    <tr>\n",
       "      <th>2</th>\n",
       "      <td>1995-01-03</td>\n",
       "      <td>Calgary</td>\n",
       "      <td>Canada</td>\n",
       "      <td>2.5</td>\n",
       "    </tr>\n",
       "    <tr>\n",
       "      <th>3</th>\n",
       "      <td>1995-01-04</td>\n",
       "      <td>Calgary</td>\n",
       "      <td>Canada</td>\n",
       "      <td>11.4</td>\n",
       "    </tr>\n",
       "    <tr>\n",
       "      <th>4</th>\n",
       "      <td>1995-01-05</td>\n",
       "      <td>Calgary</td>\n",
       "      <td>Canada</td>\n",
       "      <td>11.3</td>\n",
       "    </tr>\n",
       "  </tbody>\n",
       "</table>\n",
       "</div>"
      ],
      "text/plain": [
       "         date     city country  avg_temp_c\n",
       "0  1995-01-01  Calgary  Canada        12.6\n",
       "1  1995-01-02  Calgary  Canada         4.5\n",
       "2  1995-01-03  Calgary  Canada         2.5\n",
       "3  1995-01-04  Calgary  Canada        11.4\n",
       "4  1995-01-05  Calgary  Canada        11.3"
      ]
     },
     "execution_count": 129,
     "metadata": {},
     "output_type": "execute_result"
    }
   ],
   "source": [
    "import pandas as pd\n",
    "temperatures = pd.read_csv(\"temperatures.csv\")\n",
    "temperatures.head()"
   ]
  },
  {
   "cell_type": "code",
   "execution_count": 131,
   "metadata": {},
   "outputs": [
    {
     "data": {
      "text/html": [
       "<div>\n",
       "<style scoped>\n",
       "    .dataframe tbody tr th:only-of-type {\n",
       "        vertical-align: middle;\n",
       "    }\n",
       "\n",
       "    .dataframe tbody tr th {\n",
       "        vertical-align: top;\n",
       "    }\n",
       "\n",
       "    .dataframe thead th {\n",
       "        text-align: right;\n",
       "    }\n",
       "</style>\n",
       "<table border=\"1\" class=\"dataframe\">\n",
       "  <thead>\n",
       "    <tr style=\"text-align: right;\">\n",
       "      <th></th>\n",
       "      <th>date</th>\n",
       "      <th>country</th>\n",
       "      <th>avg_temp_c</th>\n",
       "    </tr>\n",
       "    <tr>\n",
       "      <th>city</th>\n",
       "      <th></th>\n",
       "      <th></th>\n",
       "      <th></th>\n",
       "    </tr>\n",
       "  </thead>\n",
       "  <tbody>\n",
       "    <tr>\n",
       "      <th>Calgary</th>\n",
       "      <td>1995-01-01</td>\n",
       "      <td>Canada</td>\n",
       "      <td>12.6</td>\n",
       "    </tr>\n",
       "    <tr>\n",
       "      <th>Calgary</th>\n",
       "      <td>1995-01-02</td>\n",
       "      <td>Canada</td>\n",
       "      <td>4.5</td>\n",
       "    </tr>\n",
       "    <tr>\n",
       "      <th>Calgary</th>\n",
       "      <td>1995-01-03</td>\n",
       "      <td>Canada</td>\n",
       "      <td>2.5</td>\n",
       "    </tr>\n",
       "    <tr>\n",
       "      <th>Calgary</th>\n",
       "      <td>1995-01-04</td>\n",
       "      <td>Canada</td>\n",
       "      <td>11.4</td>\n",
       "    </tr>\n",
       "    <tr>\n",
       "      <th>Calgary</th>\n",
       "      <td>1995-01-05</td>\n",
       "      <td>Canada</td>\n",
       "      <td>11.3</td>\n",
       "    </tr>\n",
       "  </tbody>\n",
       "</table>\n",
       "</div>"
      ],
      "text/plain": [
       "               date country  avg_temp_c\n",
       "city                                   \n",
       "Calgary  1995-01-01  Canada        12.6\n",
       "Calgary  1995-01-02  Canada         4.5\n",
       "Calgary  1995-01-03  Canada         2.5\n",
       "Calgary  1995-01-04  Canada        11.4\n",
       "Calgary  1995-01-05  Canada        11.3"
      ]
     },
     "execution_count": 131,
     "metadata": {},
     "output_type": "execute_result"
    }
   ],
   "source": [
    "# Index temperatures by city\n",
    "temperatures_ind = temperatures.set_index(\"city\")\n",
    "temperatures_ind.head()"
   ]
  },
  {
   "cell_type": "code",
   "execution_count": 133,
   "metadata": {},
   "outputs": [
    {
     "data": {
      "text/html": [
       "<div>\n",
       "<style scoped>\n",
       "    .dataframe tbody tr th:only-of-type {\n",
       "        vertical-align: middle;\n",
       "    }\n",
       "\n",
       "    .dataframe tbody tr th {\n",
       "        vertical-align: top;\n",
       "    }\n",
       "\n",
       "    .dataframe thead th {\n",
       "        text-align: right;\n",
       "    }\n",
       "</style>\n",
       "<table border=\"1\" class=\"dataframe\">\n",
       "  <thead>\n",
       "    <tr style=\"text-align: right;\">\n",
       "      <th></th>\n",
       "      <th>city</th>\n",
       "      <th>date</th>\n",
       "      <th>country</th>\n",
       "      <th>avg_temp_c</th>\n",
       "    </tr>\n",
       "  </thead>\n",
       "  <tbody>\n",
       "    <tr>\n",
       "      <th>0</th>\n",
       "      <td>Calgary</td>\n",
       "      <td>1995-01-01</td>\n",
       "      <td>Canada</td>\n",
       "      <td>12.6</td>\n",
       "    </tr>\n",
       "    <tr>\n",
       "      <th>1</th>\n",
       "      <td>Calgary</td>\n",
       "      <td>1995-01-02</td>\n",
       "      <td>Canada</td>\n",
       "      <td>4.5</td>\n",
       "    </tr>\n",
       "    <tr>\n",
       "      <th>2</th>\n",
       "      <td>Calgary</td>\n",
       "      <td>1995-01-03</td>\n",
       "      <td>Canada</td>\n",
       "      <td>2.5</td>\n",
       "    </tr>\n",
       "    <tr>\n",
       "      <th>3</th>\n",
       "      <td>Calgary</td>\n",
       "      <td>1995-01-04</td>\n",
       "      <td>Canada</td>\n",
       "      <td>11.4</td>\n",
       "    </tr>\n",
       "    <tr>\n",
       "      <th>4</th>\n",
       "      <td>Calgary</td>\n",
       "      <td>1995-01-05</td>\n",
       "      <td>Canada</td>\n",
       "      <td>11.3</td>\n",
       "    </tr>\n",
       "    <tr>\n",
       "      <th>...</th>\n",
       "      <td>...</td>\n",
       "      <td>...</td>\n",
       "      <td>...</td>\n",
       "      <td>...</td>\n",
       "    </tr>\n",
       "    <tr>\n",
       "      <th>1048570</th>\n",
       "      <td>Toledo</td>\n",
       "      <td>2006-01-25</td>\n",
       "      <td>US</td>\n",
       "      <td>31.9</td>\n",
       "    </tr>\n",
       "    <tr>\n",
       "      <th>1048571</th>\n",
       "      <td>Toledo</td>\n",
       "      <td>2006-01-26</td>\n",
       "      <td>US</td>\n",
       "      <td>29.6</td>\n",
       "    </tr>\n",
       "    <tr>\n",
       "      <th>1048572</th>\n",
       "      <td>Toledo</td>\n",
       "      <td>2006-01-27</td>\n",
       "      <td>US</td>\n",
       "      <td>33.0</td>\n",
       "    </tr>\n",
       "    <tr>\n",
       "      <th>1048573</th>\n",
       "      <td>Toledo</td>\n",
       "      <td>2006-01-28</td>\n",
       "      <td>US</td>\n",
       "      <td>44.1</td>\n",
       "    </tr>\n",
       "    <tr>\n",
       "      <th>1048574</th>\n",
       "      <td>Toledo</td>\n",
       "      <td>2006-01-29</td>\n",
       "      <td>US</td>\n",
       "      <td>47.8</td>\n",
       "    </tr>\n",
       "  </tbody>\n",
       "</table>\n",
       "<p>1048575 rows × 4 columns</p>\n",
       "</div>"
      ],
      "text/plain": [
       "            city        date country  avg_temp_c\n",
       "0        Calgary  1995-01-01  Canada        12.6\n",
       "1        Calgary  1995-01-02  Canada         4.5\n",
       "2        Calgary  1995-01-03  Canada         2.5\n",
       "3        Calgary  1995-01-04  Canada        11.4\n",
       "4        Calgary  1995-01-05  Canada        11.3\n",
       "...          ...         ...     ...         ...\n",
       "1048570   Toledo  2006-01-25      US        31.9\n",
       "1048571   Toledo  2006-01-26      US        29.6\n",
       "1048572   Toledo  2006-01-27      US        33.0\n",
       "1048573   Toledo  2006-01-28      US        44.1\n",
       "1048574   Toledo  2006-01-29      US        47.8\n",
       "\n",
       "[1048575 rows x 4 columns]"
      ]
     },
     "execution_count": 133,
     "metadata": {},
     "output_type": "execute_result"
    }
   ],
   "source": [
    "# Reset the index, keeping its contents\n",
    "temperatures_ind.reset_index()"
   ]
  },
  {
   "cell_type": "code",
   "execution_count": 134,
   "metadata": {},
   "outputs": [
    {
     "data": {
      "text/html": [
       "<div>\n",
       "<style scoped>\n",
       "    .dataframe tbody tr th:only-of-type {\n",
       "        vertical-align: middle;\n",
       "    }\n",
       "\n",
       "    .dataframe tbody tr th {\n",
       "        vertical-align: top;\n",
       "    }\n",
       "\n",
       "    .dataframe thead th {\n",
       "        text-align: right;\n",
       "    }\n",
       "</style>\n",
       "<table border=\"1\" class=\"dataframe\">\n",
       "  <thead>\n",
       "    <tr style=\"text-align: right;\">\n",
       "      <th></th>\n",
       "      <th>date</th>\n",
       "      <th>country</th>\n",
       "      <th>avg_temp_c</th>\n",
       "    </tr>\n",
       "  </thead>\n",
       "  <tbody>\n",
       "    <tr>\n",
       "      <th>0</th>\n",
       "      <td>1995-01-01</td>\n",
       "      <td>Canada</td>\n",
       "      <td>12.6</td>\n",
       "    </tr>\n",
       "    <tr>\n",
       "      <th>1</th>\n",
       "      <td>1995-01-02</td>\n",
       "      <td>Canada</td>\n",
       "      <td>4.5</td>\n",
       "    </tr>\n",
       "    <tr>\n",
       "      <th>2</th>\n",
       "      <td>1995-01-03</td>\n",
       "      <td>Canada</td>\n",
       "      <td>2.5</td>\n",
       "    </tr>\n",
       "    <tr>\n",
       "      <th>3</th>\n",
       "      <td>1995-01-04</td>\n",
       "      <td>Canada</td>\n",
       "      <td>11.4</td>\n",
       "    </tr>\n",
       "    <tr>\n",
       "      <th>4</th>\n",
       "      <td>1995-01-05</td>\n",
       "      <td>Canada</td>\n",
       "      <td>11.3</td>\n",
       "    </tr>\n",
       "    <tr>\n",
       "      <th>...</th>\n",
       "      <td>...</td>\n",
       "      <td>...</td>\n",
       "      <td>...</td>\n",
       "    </tr>\n",
       "    <tr>\n",
       "      <th>1048570</th>\n",
       "      <td>2006-01-25</td>\n",
       "      <td>US</td>\n",
       "      <td>31.9</td>\n",
       "    </tr>\n",
       "    <tr>\n",
       "      <th>1048571</th>\n",
       "      <td>2006-01-26</td>\n",
       "      <td>US</td>\n",
       "      <td>29.6</td>\n",
       "    </tr>\n",
       "    <tr>\n",
       "      <th>1048572</th>\n",
       "      <td>2006-01-27</td>\n",
       "      <td>US</td>\n",
       "      <td>33.0</td>\n",
       "    </tr>\n",
       "    <tr>\n",
       "      <th>1048573</th>\n",
       "      <td>2006-01-28</td>\n",
       "      <td>US</td>\n",
       "      <td>44.1</td>\n",
       "    </tr>\n",
       "    <tr>\n",
       "      <th>1048574</th>\n",
       "      <td>2006-01-29</td>\n",
       "      <td>US</td>\n",
       "      <td>47.8</td>\n",
       "    </tr>\n",
       "  </tbody>\n",
       "</table>\n",
       "<p>1048575 rows × 3 columns</p>\n",
       "</div>"
      ],
      "text/plain": [
       "               date country  avg_temp_c\n",
       "0        1995-01-01  Canada        12.6\n",
       "1        1995-01-02  Canada         4.5\n",
       "2        1995-01-03  Canada         2.5\n",
       "3        1995-01-04  Canada        11.4\n",
       "4        1995-01-05  Canada        11.3\n",
       "...             ...     ...         ...\n",
       "1048570  2006-01-25      US        31.9\n",
       "1048571  2006-01-26      US        29.6\n",
       "1048572  2006-01-27      US        33.0\n",
       "1048573  2006-01-28      US        44.1\n",
       "1048574  2006-01-29      US        47.8\n",
       "\n",
       "[1048575 rows x 3 columns]"
      ]
     },
     "execution_count": 134,
     "metadata": {},
     "output_type": "execute_result"
    }
   ],
   "source": [
    "# Reset the index, dropping its contents\n",
    "temperatures_ind.reset_index(drop=True)"
   ]
  },
  {
   "cell_type": "code",
   "execution_count": 136,
   "metadata": {
    "scrolled": true
   },
   "outputs": [
    {
     "data": {
      "text/html": [
       "<div>\n",
       "<style scoped>\n",
       "    .dataframe tbody tr th:only-of-type {\n",
       "        vertical-align: middle;\n",
       "    }\n",
       "\n",
       "    .dataframe tbody tr th {\n",
       "        vertical-align: top;\n",
       "    }\n",
       "\n",
       "    .dataframe thead th {\n",
       "        text-align: right;\n",
       "    }\n",
       "</style>\n",
       "<table border=\"1\" class=\"dataframe\">\n",
       "  <thead>\n",
       "    <tr style=\"text-align: right;\">\n",
       "      <th></th>\n",
       "      <th>date</th>\n",
       "      <th>city</th>\n",
       "      <th>country</th>\n",
       "      <th>avg_temp_c</th>\n",
       "    </tr>\n",
       "  </thead>\n",
       "  <tbody>\n",
       "    <tr>\n",
       "      <th>0</th>\n",
       "      <td>1995-01-01</td>\n",
       "      <td>Calgary</td>\n",
       "      <td>Canada</td>\n",
       "      <td>12.6</td>\n",
       "    </tr>\n",
       "    <tr>\n",
       "      <th>1</th>\n",
       "      <td>1995-01-02</td>\n",
       "      <td>Calgary</td>\n",
       "      <td>Canada</td>\n",
       "      <td>4.5</td>\n",
       "    </tr>\n",
       "    <tr>\n",
       "      <th>2</th>\n",
       "      <td>1995-01-03</td>\n",
       "      <td>Calgary</td>\n",
       "      <td>Canada</td>\n",
       "      <td>2.5</td>\n",
       "    </tr>\n",
       "    <tr>\n",
       "      <th>3</th>\n",
       "      <td>1995-01-04</td>\n",
       "      <td>Calgary</td>\n",
       "      <td>Canada</td>\n",
       "      <td>11.4</td>\n",
       "    </tr>\n",
       "    <tr>\n",
       "      <th>4</th>\n",
       "      <td>1995-01-05</td>\n",
       "      <td>Calgary</td>\n",
       "      <td>Canada</td>\n",
       "      <td>11.3</td>\n",
       "    </tr>\n",
       "    <tr>\n",
       "      <th>...</th>\n",
       "      <td>...</td>\n",
       "      <td>...</td>\n",
       "      <td>...</td>\n",
       "      <td>...</td>\n",
       "    </tr>\n",
       "    <tr>\n",
       "      <th>362381</th>\n",
       "      <td>2020-05-09</td>\n",
       "      <td>Orlando</td>\n",
       "      <td>US</td>\n",
       "      <td>75.1</td>\n",
       "    </tr>\n",
       "    <tr>\n",
       "      <th>362382</th>\n",
       "      <td>2020-05-10</td>\n",
       "      <td>Orlando</td>\n",
       "      <td>US</td>\n",
       "      <td>73.9</td>\n",
       "    </tr>\n",
       "    <tr>\n",
       "      <th>362383</th>\n",
       "      <td>2020-05-11</td>\n",
       "      <td>Orlando</td>\n",
       "      <td>US</td>\n",
       "      <td>74.6</td>\n",
       "    </tr>\n",
       "    <tr>\n",
       "      <th>362384</th>\n",
       "      <td>2020-05-12</td>\n",
       "      <td>Orlando</td>\n",
       "      <td>US</td>\n",
       "      <td>74.2</td>\n",
       "    </tr>\n",
       "    <tr>\n",
       "      <th>362385</th>\n",
       "      <td>2020-05-13</td>\n",
       "      <td>Orlando</td>\n",
       "      <td>US</td>\n",
       "      <td>69.1</td>\n",
       "    </tr>\n",
       "  </tbody>\n",
       "</table>\n",
       "<p>16365 rows × 4 columns</p>\n",
       "</div>"
      ],
      "text/plain": [
       "              date     city country  avg_temp_c\n",
       "0       1995-01-01  Calgary  Canada        12.6\n",
       "1       1995-01-02  Calgary  Canada         4.5\n",
       "2       1995-01-03  Calgary  Canada         2.5\n",
       "3       1995-01-04  Calgary  Canada        11.4\n",
       "4       1995-01-05  Calgary  Canada        11.3\n",
       "...            ...      ...     ...         ...\n",
       "362381  2020-05-09  Orlando      US        75.1\n",
       "362382  2020-05-10  Orlando      US        73.9\n",
       "362383  2020-05-11  Orlando      US        74.6\n",
       "362384  2020-05-12  Orlando      US        74.2\n",
       "362385  2020-05-13  Orlando      US        69.1\n",
       "\n",
       "[16365 rows x 4 columns]"
      ]
     },
     "execution_count": 136,
     "metadata": {},
     "output_type": "execute_result"
    }
   ],
   "source": [
    "#subsetting using .loc[]\n",
    "\n",
    "# Make a list of cities to subs\n",
    "cities = ['Calgary','Orlando']\n",
    "\n",
    "# Subset temperatures using square brackets\n",
    "temperatures[temperatures['city'].isin(cities)]\n"
   ]
  },
  {
   "cell_type": "code",
   "execution_count": 137,
   "metadata": {},
   "outputs": [
    {
     "data": {
      "text/html": [
       "<div>\n",
       "<style scoped>\n",
       "    .dataframe tbody tr th:only-of-type {\n",
       "        vertical-align: middle;\n",
       "    }\n",
       "\n",
       "    .dataframe tbody tr th {\n",
       "        vertical-align: top;\n",
       "    }\n",
       "\n",
       "    .dataframe thead th {\n",
       "        text-align: right;\n",
       "    }\n",
       "</style>\n",
       "<table border=\"1\" class=\"dataframe\">\n",
       "  <thead>\n",
       "    <tr style=\"text-align: right;\">\n",
       "      <th></th>\n",
       "      <th>date</th>\n",
       "      <th>country</th>\n",
       "      <th>avg_temp_c</th>\n",
       "    </tr>\n",
       "    <tr>\n",
       "      <th>city</th>\n",
       "      <th></th>\n",
       "      <th></th>\n",
       "      <th></th>\n",
       "    </tr>\n",
       "  </thead>\n",
       "  <tbody>\n",
       "    <tr>\n",
       "      <th>Calgary</th>\n",
       "      <td>1995-01-01</td>\n",
       "      <td>Canada</td>\n",
       "      <td>12.6</td>\n",
       "    </tr>\n",
       "    <tr>\n",
       "      <th>Calgary</th>\n",
       "      <td>1995-01-02</td>\n",
       "      <td>Canada</td>\n",
       "      <td>4.5</td>\n",
       "    </tr>\n",
       "    <tr>\n",
       "      <th>Calgary</th>\n",
       "      <td>1995-01-03</td>\n",
       "      <td>Canada</td>\n",
       "      <td>2.5</td>\n",
       "    </tr>\n",
       "    <tr>\n",
       "      <th>Calgary</th>\n",
       "      <td>1995-01-04</td>\n",
       "      <td>Canada</td>\n",
       "      <td>11.4</td>\n",
       "    </tr>\n",
       "    <tr>\n",
       "      <th>Calgary</th>\n",
       "      <td>1995-01-05</td>\n",
       "      <td>Canada</td>\n",
       "      <td>11.3</td>\n",
       "    </tr>\n",
       "    <tr>\n",
       "      <th>...</th>\n",
       "      <td>...</td>\n",
       "      <td>...</td>\n",
       "      <td>...</td>\n",
       "    </tr>\n",
       "    <tr>\n",
       "      <th>Orlando</th>\n",
       "      <td>2020-05-09</td>\n",
       "      <td>US</td>\n",
       "      <td>75.1</td>\n",
       "    </tr>\n",
       "    <tr>\n",
       "      <th>Orlando</th>\n",
       "      <td>2020-05-10</td>\n",
       "      <td>US</td>\n",
       "      <td>73.9</td>\n",
       "    </tr>\n",
       "    <tr>\n",
       "      <th>Orlando</th>\n",
       "      <td>2020-05-11</td>\n",
       "      <td>US</td>\n",
       "      <td>74.6</td>\n",
       "    </tr>\n",
       "    <tr>\n",
       "      <th>Orlando</th>\n",
       "      <td>2020-05-12</td>\n",
       "      <td>US</td>\n",
       "      <td>74.2</td>\n",
       "    </tr>\n",
       "    <tr>\n",
       "      <th>Orlando</th>\n",
       "      <td>2020-05-13</td>\n",
       "      <td>US</td>\n",
       "      <td>69.1</td>\n",
       "    </tr>\n",
       "  </tbody>\n",
       "</table>\n",
       "<p>16365 rows × 3 columns</p>\n",
       "</div>"
      ],
      "text/plain": [
       "               date country  avg_temp_c\n",
       "city                                   \n",
       "Calgary  1995-01-01  Canada        12.6\n",
       "Calgary  1995-01-02  Canada         4.5\n",
       "Calgary  1995-01-03  Canada         2.5\n",
       "Calgary  1995-01-04  Canada        11.4\n",
       "Calgary  1995-01-05  Canada        11.3\n",
       "...             ...     ...         ...\n",
       "Orlando  2020-05-09      US        75.1\n",
       "Orlando  2020-05-10      US        73.9\n",
       "Orlando  2020-05-11      US        74.6\n",
       "Orlando  2020-05-12      US        74.2\n",
       "Orlando  2020-05-13      US        69.1\n",
       "\n",
       "[16365 rows x 3 columns]"
      ]
     },
     "execution_count": 137,
     "metadata": {},
     "output_type": "execute_result"
    }
   ],
   "source": [
    "# Subset temperatures_ind using .loc[]\n",
    "temperatures_ind.loc[cities]"
   ]
  },
  {
   "cell_type": "code",
   "execution_count": 140,
   "metadata": {},
   "outputs": [
    {
     "data": {
      "text/html": [
       "<div>\n",
       "<style scoped>\n",
       "    .dataframe tbody tr th:only-of-type {\n",
       "        vertical-align: middle;\n",
       "    }\n",
       "\n",
       "    .dataframe tbody tr th {\n",
       "        vertical-align: top;\n",
       "    }\n",
       "\n",
       "    .dataframe thead th {\n",
       "        text-align: right;\n",
       "    }\n",
       "</style>\n",
       "<table border=\"1\" class=\"dataframe\">\n",
       "  <thead>\n",
       "    <tr style=\"text-align: right;\">\n",
       "      <th></th>\n",
       "      <th></th>\n",
       "      <th>date</th>\n",
       "      <th>avg_temp_c</th>\n",
       "    </tr>\n",
       "    <tr>\n",
       "      <th>country</th>\n",
       "      <th>city</th>\n",
       "      <th></th>\n",
       "      <th></th>\n",
       "    </tr>\n",
       "  </thead>\n",
       "  <tbody>\n",
       "    <tr>\n",
       "      <th rowspan=\"5\" valign=\"top\">Canada</th>\n",
       "      <th>Calgary</th>\n",
       "      <td>1995-01-01</td>\n",
       "      <td>12.6</td>\n",
       "    </tr>\n",
       "    <tr>\n",
       "      <th>Calgary</th>\n",
       "      <td>1995-01-02</td>\n",
       "      <td>4.5</td>\n",
       "    </tr>\n",
       "    <tr>\n",
       "      <th>Calgary</th>\n",
       "      <td>1995-01-03</td>\n",
       "      <td>2.5</td>\n",
       "    </tr>\n",
       "    <tr>\n",
       "      <th>Calgary</th>\n",
       "      <td>1995-01-04</td>\n",
       "      <td>11.4</td>\n",
       "    </tr>\n",
       "    <tr>\n",
       "      <th>Calgary</th>\n",
       "      <td>1995-01-05</td>\n",
       "      <td>11.3</td>\n",
       "    </tr>\n",
       "  </tbody>\n",
       "</table>\n",
       "</div>"
      ],
      "text/plain": [
       "                       date  avg_temp_c\n",
       "country city                           \n",
       "Canada  Calgary  1995-01-01        12.6\n",
       "        Calgary  1995-01-02         4.5\n",
       "        Calgary  1995-01-03         2.5\n",
       "        Calgary  1995-01-04        11.4\n",
       "        Calgary  1995-01-05        11.3"
      ]
     },
     "execution_count": 140,
     "metadata": {},
     "output_type": "execute_result"
    }
   ],
   "source": [
    "# setting multilevel indices\n",
    "\n",
    "# Index temperatures by country & city\n",
    "temperatures_ind = temperatures.set_index(['country','city'])\n",
    "temperatures_ind.head()"
   ]
  },
  {
   "cell_type": "code",
   "execution_count": 142,
   "metadata": {},
   "outputs": [
    {
     "name": "stdout",
     "output_type": "stream",
     "text": [
      "                       date  avg_temp_c\n",
      "country city                           \n",
      "Canada  Calgary  1995-01-01        12.6\n",
      "        Calgary  1995-01-02         4.5\n",
      "        Calgary  1995-01-03         2.5\n",
      "        Calgary  1995-01-04        11.4\n",
      "        Calgary  1995-01-05        11.3\n",
      "...                     ...         ...\n",
      "US      Orlando  2020-05-09        75.1\n",
      "        Orlando  2020-05-10        73.9\n",
      "        Orlando  2020-05-11        74.6\n",
      "        Orlando  2020-05-12        74.2\n",
      "        Orlando  2020-05-13        69.1\n",
      "\n",
      "[16365 rows x 2 columns]\n"
     ]
    }
   ],
   "source": [
    "# List of tuples: Brazil, Rio De Janeiro & Pakistan, Lahore\n",
    "rows_to_keep = [(\"Canada\",\"Calgary\"),(\"US\",\"Orlando\")]\n",
    "\n",
    "# Subsetting inner levels with tuples\n",
    "print(temperatures_ind.loc[rows_to_keep])"
   ]
  },
  {
   "cell_type": "code",
   "execution_count": 144,
   "metadata": {},
   "outputs": [
    {
     "data": {
      "text/html": [
       "<div>\n",
       "<style scoped>\n",
       "    .dataframe tbody tr th:only-of-type {\n",
       "        vertical-align: middle;\n",
       "    }\n",
       "\n",
       "    .dataframe tbody tr th {\n",
       "        vertical-align: top;\n",
       "    }\n",
       "\n",
       "    .dataframe thead th {\n",
       "        text-align: right;\n",
       "    }\n",
       "</style>\n",
       "<table border=\"1\" class=\"dataframe\">\n",
       "  <thead>\n",
       "    <tr style=\"text-align: right;\">\n",
       "      <th></th>\n",
       "      <th></th>\n",
       "      <th>date</th>\n",
       "      <th>avg_temp_c</th>\n",
       "    </tr>\n",
       "    <tr>\n",
       "      <th>country</th>\n",
       "      <th>city</th>\n",
       "      <th></th>\n",
       "      <th></th>\n",
       "    </tr>\n",
       "  </thead>\n",
       "  <tbody>\n",
       "    <tr>\n",
       "      <th rowspan=\"5\" valign=\"top\">Canada</th>\n",
       "      <th>Calgary</th>\n",
       "      <td>1995-01-01</td>\n",
       "      <td>12.6</td>\n",
       "    </tr>\n",
       "    <tr>\n",
       "      <th>Calgary</th>\n",
       "      <td>1995-01-02</td>\n",
       "      <td>4.5</td>\n",
       "    </tr>\n",
       "    <tr>\n",
       "      <th>Calgary</th>\n",
       "      <td>1995-01-03</td>\n",
       "      <td>2.5</td>\n",
       "    </tr>\n",
       "    <tr>\n",
       "      <th>Calgary</th>\n",
       "      <td>1995-01-04</td>\n",
       "      <td>11.4</td>\n",
       "    </tr>\n",
       "    <tr>\n",
       "      <th>Calgary</th>\n",
       "      <td>1995-01-05</td>\n",
       "      <td>11.3</td>\n",
       "    </tr>\n",
       "    <tr>\n",
       "      <th>...</th>\n",
       "      <th>...</th>\n",
       "      <td>...</td>\n",
       "      <td>...</td>\n",
       "    </tr>\n",
       "    <tr>\n",
       "      <th rowspan=\"5\" valign=\"top\">US</th>\n",
       "      <th>Yuma</th>\n",
       "      <td>2006-12-24</td>\n",
       "      <td>-99.0</td>\n",
       "    </tr>\n",
       "    <tr>\n",
       "      <th>Yuma</th>\n",
       "      <td>2006-12-25</td>\n",
       "      <td>-99.0</td>\n",
       "    </tr>\n",
       "    <tr>\n",
       "      <th>Yuma</th>\n",
       "      <td>2006-12-26</td>\n",
       "      <td>58.3</td>\n",
       "    </tr>\n",
       "    <tr>\n",
       "      <th>Yuma</th>\n",
       "      <td>2006-12-27</td>\n",
       "      <td>61.2</td>\n",
       "    </tr>\n",
       "    <tr>\n",
       "      <th>Yuma</th>\n",
       "      <td>2006-12-28</td>\n",
       "      <td>55.7</td>\n",
       "    </tr>\n",
       "  </tbody>\n",
       "</table>\n",
       "<p>1048575 rows × 2 columns</p>\n",
       "</div>"
      ],
      "text/plain": [
       "                       date  avg_temp_c\n",
       "country city                           \n",
       "Canada  Calgary  1995-01-01        12.6\n",
       "        Calgary  1995-01-02         4.5\n",
       "        Calgary  1995-01-03         2.5\n",
       "        Calgary  1995-01-04        11.4\n",
       "        Calgary  1995-01-05        11.3\n",
       "...                     ...         ...\n",
       "US      Yuma     2006-12-24       -99.0\n",
       "        Yuma     2006-12-25       -99.0\n",
       "        Yuma     2006-12-26        58.3\n",
       "        Yuma     2006-12-27        61.2\n",
       "        Yuma     2006-12-28        55.7\n",
       "\n",
       "[1048575 rows x 2 columns]"
      ]
     },
     "execution_count": 144,
     "metadata": {},
     "output_type": "execute_result"
    }
   ],
   "source": [
    "# Sorting by index values\n",
    "# Sort temperatures_ind by index values\n",
    "temperatures_ind.sort_index()"
   ]
  },
  {
   "cell_type": "code",
   "execution_count": 145,
   "metadata": {},
   "outputs": [
    {
     "data": {
      "text/html": [
       "<div>\n",
       "<style scoped>\n",
       "    .dataframe tbody tr th:only-of-type {\n",
       "        vertical-align: middle;\n",
       "    }\n",
       "\n",
       "    .dataframe tbody tr th {\n",
       "        vertical-align: top;\n",
       "    }\n",
       "\n",
       "    .dataframe thead th {\n",
       "        text-align: right;\n",
       "    }\n",
       "</style>\n",
       "<table border=\"1\" class=\"dataframe\">\n",
       "  <thead>\n",
       "    <tr style=\"text-align: right;\">\n",
       "      <th></th>\n",
       "      <th></th>\n",
       "      <th>date</th>\n",
       "      <th>avg_temp_c</th>\n",
       "    </tr>\n",
       "    <tr>\n",
       "      <th>country</th>\n",
       "      <th>city</th>\n",
       "      <th></th>\n",
       "      <th></th>\n",
       "    </tr>\n",
       "  </thead>\n",
       "  <tbody>\n",
       "    <tr>\n",
       "      <th rowspan=\"11\" valign=\"top\">US</th>\n",
       "      <th>Akron Canton</th>\n",
       "      <td>1995-01-01</td>\n",
       "      <td>40.3</td>\n",
       "    </tr>\n",
       "    <tr>\n",
       "      <th>Akron Canton</th>\n",
       "      <td>1995-01-02</td>\n",
       "      <td>21.2</td>\n",
       "    </tr>\n",
       "    <tr>\n",
       "      <th>Akron Canton</th>\n",
       "      <td>1995-01-03</td>\n",
       "      <td>19.4</td>\n",
       "    </tr>\n",
       "    <tr>\n",
       "      <th>Akron Canton</th>\n",
       "      <td>1995-01-04</td>\n",
       "      <td>13.1</td>\n",
       "    </tr>\n",
       "    <tr>\n",
       "      <th>Akron Canton</th>\n",
       "      <td>1995-01-05</td>\n",
       "      <td>7.7</td>\n",
       "    </tr>\n",
       "    <tr>\n",
       "      <th>...</th>\n",
       "      <td>...</td>\n",
       "      <td>...</td>\n",
       "    </tr>\n",
       "    <tr>\n",
       "      <th>Yuma</th>\n",
       "      <td>2006-12-24</td>\n",
       "      <td>-99.0</td>\n",
       "    </tr>\n",
       "    <tr>\n",
       "      <th>Yuma</th>\n",
       "      <td>2006-12-25</td>\n",
       "      <td>-99.0</td>\n",
       "    </tr>\n",
       "    <tr>\n",
       "      <th>Yuma</th>\n",
       "      <td>2006-12-26</td>\n",
       "      <td>58.3</td>\n",
       "    </tr>\n",
       "    <tr>\n",
       "      <th>Yuma</th>\n",
       "      <td>2006-12-27</td>\n",
       "      <td>61.2</td>\n",
       "    </tr>\n",
       "    <tr>\n",
       "      <th>Yuma</th>\n",
       "      <td>2006-12-28</td>\n",
       "      <td>55.7</td>\n",
       "    </tr>\n",
       "  </tbody>\n",
       "</table>\n",
       "<p>1048575 rows × 2 columns</p>\n",
       "</div>"
      ],
      "text/plain": [
       "                            date  avg_temp_c\n",
       "country city                                \n",
       "US      Akron Canton  1995-01-01        40.3\n",
       "        Akron Canton  1995-01-02        21.2\n",
       "        Akron Canton  1995-01-03        19.4\n",
       "        Akron Canton  1995-01-04        13.1\n",
       "        Akron Canton  1995-01-05         7.7\n",
       "...                          ...         ...\n",
       "        Yuma          2006-12-24       -99.0\n",
       "        Yuma          2006-12-25       -99.0\n",
       "        Yuma          2006-12-26        58.3\n",
       "        Yuma          2006-12-27        61.2\n",
       "        Yuma          2006-12-28        55.7\n",
       "\n",
       "[1048575 rows x 2 columns]"
      ]
     },
     "execution_count": 145,
     "metadata": {},
     "output_type": "execute_result"
    }
   ],
   "source": [
    "# Sort temperatures_ind by index values at the city level\n",
    "temperatures_ind.sort_index(level=[\"city\"])"
   ]
  },
  {
   "cell_type": "code",
   "execution_count": 146,
   "metadata": {},
   "outputs": [
    {
     "data": {
      "text/html": [
       "<div>\n",
       "<style scoped>\n",
       "    .dataframe tbody tr th:only-of-type {\n",
       "        vertical-align: middle;\n",
       "    }\n",
       "\n",
       "    .dataframe tbody tr th {\n",
       "        vertical-align: top;\n",
       "    }\n",
       "\n",
       "    .dataframe thead th {\n",
       "        text-align: right;\n",
       "    }\n",
       "</style>\n",
       "<table border=\"1\" class=\"dataframe\">\n",
       "  <thead>\n",
       "    <tr style=\"text-align: right;\">\n",
       "      <th></th>\n",
       "      <th></th>\n",
       "      <th>date</th>\n",
       "      <th>avg_temp_c</th>\n",
       "    </tr>\n",
       "    <tr>\n",
       "      <th>country</th>\n",
       "      <th>city</th>\n",
       "      <th></th>\n",
       "      <th></th>\n",
       "    </tr>\n",
       "  </thead>\n",
       "  <tbody>\n",
       "    <tr>\n",
       "      <th rowspan=\"5\" valign=\"top\">Canada</th>\n",
       "      <th>Winnipeg</th>\n",
       "      <td>1995-01-01</td>\n",
       "      <td>-11.2</td>\n",
       "    </tr>\n",
       "    <tr>\n",
       "      <th>Winnipeg</th>\n",
       "      <td>1995-01-02</td>\n",
       "      <td>3.3</td>\n",
       "    </tr>\n",
       "    <tr>\n",
       "      <th>Winnipeg</th>\n",
       "      <td>1995-01-03</td>\n",
       "      <td>-13.8</td>\n",
       "    </tr>\n",
       "    <tr>\n",
       "      <th>Winnipeg</th>\n",
       "      <td>1995-01-04</td>\n",
       "      <td>-11.9</td>\n",
       "    </tr>\n",
       "    <tr>\n",
       "      <th>Winnipeg</th>\n",
       "      <td>1995-01-05</td>\n",
       "      <td>5.2</td>\n",
       "    </tr>\n",
       "    <tr>\n",
       "      <th>...</th>\n",
       "      <th>...</th>\n",
       "      <td>...</td>\n",
       "      <td>...</td>\n",
       "    </tr>\n",
       "    <tr>\n",
       "      <th rowspan=\"5\" valign=\"top\">US</th>\n",
       "      <th>Akron Canton</th>\n",
       "      <td>2020-05-09</td>\n",
       "      <td>35.9</td>\n",
       "    </tr>\n",
       "    <tr>\n",
       "      <th>Akron Canton</th>\n",
       "      <td>2020-05-10</td>\n",
       "      <td>45.5</td>\n",
       "    </tr>\n",
       "    <tr>\n",
       "      <th>Akron Canton</th>\n",
       "      <td>2020-05-11</td>\n",
       "      <td>41.0</td>\n",
       "    </tr>\n",
       "    <tr>\n",
       "      <th>Akron Canton</th>\n",
       "      <td>2020-05-12</td>\n",
       "      <td>44.7</td>\n",
       "    </tr>\n",
       "    <tr>\n",
       "      <th>Akron Canton</th>\n",
       "      <td>2020-05-13</td>\n",
       "      <td>46.4</td>\n",
       "    </tr>\n",
       "  </tbody>\n",
       "</table>\n",
       "<p>1048575 rows × 2 columns</p>\n",
       "</div>"
      ],
      "text/plain": [
       "                            date  avg_temp_c\n",
       "country city                                \n",
       "Canada  Winnipeg      1995-01-01       -11.2\n",
       "        Winnipeg      1995-01-02         3.3\n",
       "        Winnipeg      1995-01-03       -13.8\n",
       "        Winnipeg      1995-01-04       -11.9\n",
       "        Winnipeg      1995-01-05         5.2\n",
       "...                          ...         ...\n",
       "US      Akron Canton  2020-05-09        35.9\n",
       "        Akron Canton  2020-05-10        45.5\n",
       "        Akron Canton  2020-05-11        41.0\n",
       "        Akron Canton  2020-05-12        44.7\n",
       "        Akron Canton  2020-05-13        46.4\n",
       "\n",
       "[1048575 rows x 2 columns]"
      ]
     },
     "execution_count": 146,
     "metadata": {},
     "output_type": "execute_result"
    }
   ],
   "source": [
    "# Sort temperatures_ind by country then descending city\n",
    "temperatures_ind.sort_index(level=[\"country\",\"city\"], ascending=[True,False])"
   ]
  },
  {
   "cell_type": "code",
   "execution_count": 148,
   "metadata": {},
   "outputs": [
    {
     "data": {
      "text/html": [
       "<div>\n",
       "<style scoped>\n",
       "    .dataframe tbody tr th:only-of-type {\n",
       "        vertical-align: middle;\n",
       "    }\n",
       "\n",
       "    .dataframe tbody tr th {\n",
       "        vertical-align: top;\n",
       "    }\n",
       "\n",
       "    .dataframe thead th {\n",
       "        text-align: right;\n",
       "    }\n",
       "</style>\n",
       "<table border=\"1\" class=\"dataframe\">\n",
       "  <thead>\n",
       "    <tr style=\"text-align: right;\">\n",
       "      <th></th>\n",
       "      <th></th>\n",
       "      <th>date</th>\n",
       "      <th>avg_temp_c</th>\n",
       "    </tr>\n",
       "    <tr>\n",
       "      <th>country</th>\n",
       "      <th>city</th>\n",
       "      <th></th>\n",
       "      <th></th>\n",
       "    </tr>\n",
       "  </thead>\n",
       "  <tbody>\n",
       "    <tr>\n",
       "      <th rowspan=\"5\" valign=\"top\">Canada</th>\n",
       "      <th>Calgary</th>\n",
       "      <td>1995-01-01</td>\n",
       "      <td>12.6</td>\n",
       "    </tr>\n",
       "    <tr>\n",
       "      <th>Calgary</th>\n",
       "      <td>1995-01-02</td>\n",
       "      <td>4.5</td>\n",
       "    </tr>\n",
       "    <tr>\n",
       "      <th>Calgary</th>\n",
       "      <td>1995-01-03</td>\n",
       "      <td>2.5</td>\n",
       "    </tr>\n",
       "    <tr>\n",
       "      <th>Calgary</th>\n",
       "      <td>1995-01-04</td>\n",
       "      <td>11.4</td>\n",
       "    </tr>\n",
       "    <tr>\n",
       "      <th>Calgary</th>\n",
       "      <td>1995-01-05</td>\n",
       "      <td>11.3</td>\n",
       "    </tr>\n",
       "    <tr>\n",
       "      <th>...</th>\n",
       "      <th>...</th>\n",
       "      <td>...</td>\n",
       "      <td>...</td>\n",
       "    </tr>\n",
       "    <tr>\n",
       "      <th rowspan=\"5\" valign=\"top\">US</th>\n",
       "      <th>Yuma</th>\n",
       "      <td>2006-12-24</td>\n",
       "      <td>-99.0</td>\n",
       "    </tr>\n",
       "    <tr>\n",
       "      <th>Yuma</th>\n",
       "      <td>2006-12-25</td>\n",
       "      <td>-99.0</td>\n",
       "    </tr>\n",
       "    <tr>\n",
       "      <th>Yuma</th>\n",
       "      <td>2006-12-26</td>\n",
       "      <td>58.3</td>\n",
       "    </tr>\n",
       "    <tr>\n",
       "      <th>Yuma</th>\n",
       "      <td>2006-12-27</td>\n",
       "      <td>61.2</td>\n",
       "    </tr>\n",
       "    <tr>\n",
       "      <th>Yuma</th>\n",
       "      <td>2006-12-28</td>\n",
       "      <td>55.7</td>\n",
       "    </tr>\n",
       "  </tbody>\n",
       "</table>\n",
       "<p>1048575 rows × 2 columns</p>\n",
       "</div>"
      ],
      "text/plain": [
       "                       date  avg_temp_c\n",
       "country city                           \n",
       "Canada  Calgary  1995-01-01        12.6\n",
       "        Calgary  1995-01-02         4.5\n",
       "        Calgary  1995-01-03         2.5\n",
       "        Calgary  1995-01-04        11.4\n",
       "        Calgary  1995-01-05        11.3\n",
       "...                     ...         ...\n",
       "US      Yuma     2006-12-24       -99.0\n",
       "        Yuma     2006-12-25       -99.0\n",
       "        Yuma     2006-12-26        58.3\n",
       "        Yuma     2006-12-27        61.2\n",
       "        Yuma     2006-12-28        55.7\n",
       "\n",
       "[1048575 rows x 2 columns]"
      ]
     },
     "execution_count": 148,
     "metadata": {},
     "output_type": "execute_result"
    }
   ],
   "source": [
    "# slicing and subsetting using loc and iloc\n",
    "# Sort the index of temperatures_ind\n",
    "temperatures_srt = temperatures_ind.sort_index()\n",
    "temperatures_srt"
   ]
  },
  {
   "cell_type": "code",
   "execution_count": 149,
   "metadata": {},
   "outputs": [
    {
     "data": {
      "text/html": [
       "<div>\n",
       "<style scoped>\n",
       "    .dataframe tbody tr th:only-of-type {\n",
       "        vertical-align: middle;\n",
       "    }\n",
       "\n",
       "    .dataframe tbody tr th {\n",
       "        vertical-align: top;\n",
       "    }\n",
       "\n",
       "    .dataframe thead th {\n",
       "        text-align: right;\n",
       "    }\n",
       "</style>\n",
       "<table border=\"1\" class=\"dataframe\">\n",
       "  <thead>\n",
       "    <tr style=\"text-align: right;\">\n",
       "      <th></th>\n",
       "      <th></th>\n",
       "      <th>date</th>\n",
       "      <th>avg_temp_c</th>\n",
       "    </tr>\n",
       "    <tr>\n",
       "      <th>country</th>\n",
       "      <th>city</th>\n",
       "      <th></th>\n",
       "      <th></th>\n",
       "    </tr>\n",
       "  </thead>\n",
       "  <tbody>\n",
       "    <tr>\n",
       "      <th rowspan=\"5\" valign=\"top\">Canada</th>\n",
       "      <th>Calgary</th>\n",
       "      <td>1995-01-01</td>\n",
       "      <td>12.6</td>\n",
       "    </tr>\n",
       "    <tr>\n",
       "      <th>Calgary</th>\n",
       "      <td>1995-01-02</td>\n",
       "      <td>4.5</td>\n",
       "    </tr>\n",
       "    <tr>\n",
       "      <th>Calgary</th>\n",
       "      <td>1995-01-03</td>\n",
       "      <td>2.5</td>\n",
       "    </tr>\n",
       "    <tr>\n",
       "      <th>Calgary</th>\n",
       "      <td>1995-01-04</td>\n",
       "      <td>11.4</td>\n",
       "    </tr>\n",
       "    <tr>\n",
       "      <th>Calgary</th>\n",
       "      <td>1995-01-05</td>\n",
       "      <td>11.3</td>\n",
       "    </tr>\n",
       "    <tr>\n",
       "      <th>...</th>\n",
       "      <th>...</th>\n",
       "      <td>...</td>\n",
       "      <td>...</td>\n",
       "    </tr>\n",
       "    <tr>\n",
       "      <th rowspan=\"5\" valign=\"top\">US</th>\n",
       "      <th>Yuma</th>\n",
       "      <td>2006-12-24</td>\n",
       "      <td>-99.0</td>\n",
       "    </tr>\n",
       "    <tr>\n",
       "      <th>Yuma</th>\n",
       "      <td>2006-12-25</td>\n",
       "      <td>-99.0</td>\n",
       "    </tr>\n",
       "    <tr>\n",
       "      <th>Yuma</th>\n",
       "      <td>2006-12-26</td>\n",
       "      <td>58.3</td>\n",
       "    </tr>\n",
       "    <tr>\n",
       "      <th>Yuma</th>\n",
       "      <td>2006-12-27</td>\n",
       "      <td>61.2</td>\n",
       "    </tr>\n",
       "    <tr>\n",
       "      <th>Yuma</th>\n",
       "      <td>2006-12-28</td>\n",
       "      <td>55.7</td>\n",
       "    </tr>\n",
       "  </tbody>\n",
       "</table>\n",
       "<p>1048575 rows × 2 columns</p>\n",
       "</div>"
      ],
      "text/plain": [
       "                       date  avg_temp_c\n",
       "country city                           \n",
       "Canada  Calgary  1995-01-01        12.6\n",
       "        Calgary  1995-01-02         4.5\n",
       "        Calgary  1995-01-03         2.5\n",
       "        Calgary  1995-01-04        11.4\n",
       "        Calgary  1995-01-05        11.3\n",
       "...                     ...         ...\n",
       "US      Yuma     2006-12-24       -99.0\n",
       "        Yuma     2006-12-25       -99.0\n",
       "        Yuma     2006-12-26        58.3\n",
       "        Yuma     2006-12-27        61.2\n",
       "        Yuma     2006-12-28        55.7\n",
       "\n",
       "[1048575 rows x 2 columns]"
      ]
     },
     "execution_count": 149,
     "metadata": {},
     "output_type": "execute_result"
    }
   ],
   "source": [
    "# Subset rows from Canada to US\n",
    "temperatures_srt.loc[\"Canada\":\"US\"]"
   ]
  },
  {
   "cell_type": "code",
   "execution_count": 150,
   "metadata": {},
   "outputs": [
    {
     "name": "stdout",
     "output_type": "stream",
     "text": [
      "                        date  avg_temp_c\n",
      "country city                            \n",
      "Canada  Calgary   1995-01-01        12.6\n",
      "        Calgary   1995-01-02         4.5\n",
      "        Calgary   1995-01-03         2.5\n",
      "        Calgary   1995-01-04        11.4\n",
      "        Calgary   1995-01-05        11.3\n",
      "...                      ...         ...\n",
      "        Winnipeg  2014-06-06        61.9\n",
      "        Winnipeg  2014-06-07        56.0\n",
      "        Winnipeg  2014-06-08        57.9\n",
      "        Winnipeg  2014-06-09        57.6\n",
      "        Winnipeg  2014-06-10        67.8\n",
      "\n",
      "[74245 rows x 2 columns]\n"
     ]
    }
   ],
   "source": [
    "# Try to subset rows from Calgary to Orlando\n",
    "print(temperatures_srt.loc[\"Calgary\":\"Orlando\"])   # this will return nonsense"
   ]
  },
  {
   "cell_type": "code",
   "execution_count": 153,
   "metadata": {},
   "outputs": [
    {
     "data": {
      "text/html": [
       "<div>\n",
       "<style scoped>\n",
       "    .dataframe tbody tr th:only-of-type {\n",
       "        vertical-align: middle;\n",
       "    }\n",
       "\n",
       "    .dataframe tbody tr th {\n",
       "        vertical-align: top;\n",
       "    }\n",
       "\n",
       "    .dataframe thead th {\n",
       "        text-align: right;\n",
       "    }\n",
       "</style>\n",
       "<table border=\"1\" class=\"dataframe\">\n",
       "  <thead>\n",
       "    <tr style=\"text-align: right;\">\n",
       "      <th></th>\n",
       "      <th></th>\n",
       "      <th>date</th>\n",
       "      <th>avg_temp_c</th>\n",
       "    </tr>\n",
       "    <tr>\n",
       "      <th>country</th>\n",
       "      <th>city</th>\n",
       "      <th></th>\n",
       "      <th></th>\n",
       "    </tr>\n",
       "  </thead>\n",
       "  <tbody>\n",
       "    <tr>\n",
       "      <th rowspan=\"5\" valign=\"top\">Canada</th>\n",
       "      <th>Calgary</th>\n",
       "      <td>1995-01-01</td>\n",
       "      <td>12.6</td>\n",
       "    </tr>\n",
       "    <tr>\n",
       "      <th>Calgary</th>\n",
       "      <td>1995-01-02</td>\n",
       "      <td>4.5</td>\n",
       "    </tr>\n",
       "    <tr>\n",
       "      <th>Calgary</th>\n",
       "      <td>1995-01-03</td>\n",
       "      <td>2.5</td>\n",
       "    </tr>\n",
       "    <tr>\n",
       "      <th>Calgary</th>\n",
       "      <td>1995-01-04</td>\n",
       "      <td>11.4</td>\n",
       "    </tr>\n",
       "    <tr>\n",
       "      <th>Calgary</th>\n",
       "      <td>1995-01-05</td>\n",
       "      <td>11.3</td>\n",
       "    </tr>\n",
       "    <tr>\n",
       "      <th>...</th>\n",
       "      <th>...</th>\n",
       "      <td>...</td>\n",
       "      <td>...</td>\n",
       "    </tr>\n",
       "    <tr>\n",
       "      <th rowspan=\"5\" valign=\"top\">US</th>\n",
       "      <th>Orlando</th>\n",
       "      <td>2020-05-09</td>\n",
       "      <td>75.1</td>\n",
       "    </tr>\n",
       "    <tr>\n",
       "      <th>Orlando</th>\n",
       "      <td>2020-05-10</td>\n",
       "      <td>73.9</td>\n",
       "    </tr>\n",
       "    <tr>\n",
       "      <th>Orlando</th>\n",
       "      <td>2020-05-11</td>\n",
       "      <td>74.6</td>\n",
       "    </tr>\n",
       "    <tr>\n",
       "      <th>Orlando</th>\n",
       "      <td>2020-05-12</td>\n",
       "      <td>74.2</td>\n",
       "    </tr>\n",
       "    <tr>\n",
       "      <th>Orlando</th>\n",
       "      <td>2020-05-13</td>\n",
       "      <td>69.1</td>\n",
       "    </tr>\n",
       "  </tbody>\n",
       "</table>\n",
       "<p>728652 rows × 2 columns</p>\n",
       "</div>"
      ],
      "text/plain": [
       "                       date  avg_temp_c\n",
       "country city                           \n",
       "Canada  Calgary  1995-01-01        12.6\n",
       "        Calgary  1995-01-02         4.5\n",
       "        Calgary  1995-01-03         2.5\n",
       "        Calgary  1995-01-04        11.4\n",
       "        Calgary  1995-01-05        11.3\n",
       "...                     ...         ...\n",
       "US      Orlando  2020-05-09        75.1\n",
       "        Orlando  2020-05-10        73.9\n",
       "        Orlando  2020-05-11        74.6\n",
       "        Orlando  2020-05-12        74.2\n",
       "        Orlando  2020-05-13        69.1\n",
       "\n",
       "[728652 rows x 2 columns]"
      ]
     },
     "execution_count": 153,
     "metadata": {},
     "output_type": "execute_result"
    }
   ],
   "source": [
    "# Subset rows from Canada, Calgary to US, Orlando\n",
    "temperatures_srt.loc[(\"Canada\",\"Calgary\"):(\"US\",\"Orlando\")]"
   ]
  },
  {
   "cell_type": "code",
   "execution_count": 155,
   "metadata": {},
   "outputs": [
    {
     "name": "stdout",
     "output_type": "stream",
     "text": [
      "                        date  avg_temp_c\n",
      "country city                            \n",
      "Canada  Calgary   1995-01-01        12.6\n",
      "        Calgary   1995-01-02         4.5\n",
      "        Calgary   1995-01-03         2.5\n",
      "        Calgary   1995-01-04        11.4\n",
      "        Calgary   1995-01-05        11.3\n",
      "...                      ...         ...\n",
      "        Winnipeg  2014-06-06        61.9\n",
      "        Winnipeg  2014-06-07        56.0\n",
      "        Winnipeg  2014-06-08        57.9\n",
      "        Winnipeg  2014-06-09        57.6\n",
      "        Winnipeg  2014-06-10        67.8\n",
      "\n",
      "[74245 rows x 2 columns]\n"
     ]
    }
   ],
   "source": [
    "# Slicing in both directions\n",
    "# Subset rows from  Canada , Calgary to India, Hyderabad\n",
    "print(temperatures_srt.loc[(\"Canada\",\"Calgary\"):(\"India\",\"Hyderabad\")])"
   ]
  },
  {
   "cell_type": "code",
   "execution_count": 156,
   "metadata": {},
   "outputs": [
    {
     "name": "stdout",
     "output_type": "stream",
     "text": [
      "                       date  avg_temp_c\n",
      "country city                           \n",
      "Canada  Calgary  1995-01-01        12.6\n",
      "        Calgary  1995-01-02         4.5\n",
      "        Calgary  1995-01-03         2.5\n",
      "        Calgary  1995-01-04        11.4\n",
      "        Calgary  1995-01-05        11.3\n",
      "...                     ...         ...\n",
      "US      Yuma     2006-12-24       -99.0\n",
      "        Yuma     2006-12-25       -99.0\n",
      "        Yuma     2006-12-26        58.3\n",
      "        Yuma     2006-12-27        61.2\n",
      "        Yuma     2006-12-28        55.7\n",
      "\n",
      "[1048575 rows x 2 columns]\n"
     ]
    }
   ],
   "source": [
    "# Subset columns from date to avg_temp_c\n",
    "print(temperatures_srt.loc[:,\"date\":\"avg_temp_c\"])"
   ]
  },
  {
   "cell_type": "code",
   "execution_count": 157,
   "metadata": {},
   "outputs": [
    {
     "name": "stdout",
     "output_type": "stream",
     "text": [
      "                        date  avg_temp_c\n",
      "country city                            \n",
      "Canada  Calgary   1995-01-01        12.6\n",
      "        Calgary   1995-01-02         4.5\n",
      "        Calgary   1995-01-03         2.5\n",
      "        Calgary   1995-01-04        11.4\n",
      "        Calgary   1995-01-05        11.3\n",
      "...                      ...         ...\n",
      "        Winnipeg  2014-06-06        61.9\n",
      "        Winnipeg  2014-06-07        56.0\n",
      "        Winnipeg  2014-06-08        57.9\n",
      "        Winnipeg  2014-06-09        57.6\n",
      "        Winnipeg  2014-06-10        67.8\n",
      "\n",
      "[74245 rows x 2 columns]\n"
     ]
    }
   ],
   "source": [
    "# Subset in both directions at once\n",
    "print(temperatures_srt.loc[(\"Canada\",\"Calgary\"):(\"India\",\"Hyderabad\"),\"date\":\"avg_temp_c\"])"
   ]
  },
  {
   "cell_type": "code",
   "execution_count": 158,
   "metadata": {},
   "outputs": [
    {
     "name": "stdout",
     "output_type": "stream",
     "text": [
      "               date     city country  avg_temp_c\n",
      "5479     2010-01-01  Calgary  Canada        -4.3\n",
      "5480     2010-01-02  Calgary  Canada         8.3\n",
      "5481     2010-01-03  Calgary  Canada         8.9\n",
      "5482     2010-01-04  Calgary  Canada        15.9\n",
      "5483     2010-01-05  Calgary  Canada         7.6\n",
      "...             ...      ...     ...         ...\n",
      "1041467  2011-12-27   Dayton      US        34.2\n",
      "1041468  2011-12-28   Dayton      US        30.5\n",
      "1041469  2011-12-29   Dayton      US        35.3\n",
      "1041470  2011-12-30   Dayton      US        43.3\n",
      "1041471  2011-12-31   Dayton      US        39.7\n",
      "\n",
      "[82127 rows x 4 columns]\n"
     ]
    }
   ],
   "source": [
    "# slicing on dates\n",
    "# Use Boolean conditions to subset temperatures for rows in 2010 and 2011\"\"\n",
    "temperatures_bool = temperatures.loc[(temperatures[\"date\"] >= '2010-01-01') & (temperatures[\"date\"] <='2011-12-31' )]\n",
    "print(temperatures_bool)"
   ]
  },
  {
   "cell_type": "code",
   "execution_count": 163,
   "metadata": {},
   "outputs": [
    {
     "data": {
      "text/html": [
       "<div>\n",
       "<style scoped>\n",
       "    .dataframe tbody tr th:only-of-type {\n",
       "        vertical-align: middle;\n",
       "    }\n",
       "\n",
       "    .dataframe tbody tr th {\n",
       "        vertical-align: top;\n",
       "    }\n",
       "\n",
       "    .dataframe thead th {\n",
       "        text-align: right;\n",
       "    }\n",
       "</style>\n",
       "<table border=\"1\" class=\"dataframe\">\n",
       "  <thead>\n",
       "    <tr style=\"text-align: right;\">\n",
       "      <th></th>\n",
       "      <th>city</th>\n",
       "      <th>country</th>\n",
       "      <th>avg_temp_c</th>\n",
       "    </tr>\n",
       "    <tr>\n",
       "      <th>date</th>\n",
       "      <th></th>\n",
       "      <th></th>\n",
       "      <th></th>\n",
       "    </tr>\n",
       "  </thead>\n",
       "  <tbody>\n",
       "    <tr>\n",
       "      <th>1995-01-01</th>\n",
       "      <td>Calgary</td>\n",
       "      <td>Canada</td>\n",
       "      <td>12.6</td>\n",
       "    </tr>\n",
       "    <tr>\n",
       "      <th>1995-01-01</th>\n",
       "      <td>Duluth</td>\n",
       "      <td>US</td>\n",
       "      <td>8.2</td>\n",
       "    </tr>\n",
       "    <tr>\n",
       "      <th>1995-01-01</th>\n",
       "      <td>Hartford Springfield</td>\n",
       "      <td>US</td>\n",
       "      <td>36.4</td>\n",
       "    </tr>\n",
       "    <tr>\n",
       "      <th>1995-01-01</th>\n",
       "      <td>Minneapolis St. Paul</td>\n",
       "      <td>US</td>\n",
       "      <td>9.7</td>\n",
       "    </tr>\n",
       "    <tr>\n",
       "      <th>1995-01-01</th>\n",
       "      <td>Akron Canton</td>\n",
       "      <td>US</td>\n",
       "      <td>40.3</td>\n",
       "    </tr>\n",
       "    <tr>\n",
       "      <th>...</th>\n",
       "      <td>...</td>\n",
       "      <td>...</td>\n",
       "      <td>...</td>\n",
       "    </tr>\n",
       "    <tr>\n",
       "      <th>2020-05-13</th>\n",
       "      <td>Fresno</td>\n",
       "      <td>US</td>\n",
       "      <td>69.1</td>\n",
       "    </tr>\n",
       "    <tr>\n",
       "      <th>2020-05-13</th>\n",
       "      <td>North Platte</td>\n",
       "      <td>US</td>\n",
       "      <td>47.0</td>\n",
       "    </tr>\n",
       "    <tr>\n",
       "      <th>2020-05-13</th>\n",
       "      <td>New York City</td>\n",
       "      <td>US</td>\n",
       "      <td>51.8</td>\n",
       "    </tr>\n",
       "    <tr>\n",
       "      <th>2020-05-13</th>\n",
       "      <td>Washington DC</td>\n",
       "      <td>US</td>\n",
       "      <td>53.4</td>\n",
       "    </tr>\n",
       "    <tr>\n",
       "      <th>2020-05-13</th>\n",
       "      <td>Shreveport</td>\n",
       "      <td>US</td>\n",
       "      <td>72.2</td>\n",
       "    </tr>\n",
       "  </tbody>\n",
       "</table>\n",
       "<p>1048575 rows × 3 columns</p>\n",
       "</div>"
      ],
      "text/plain": [
       "                            city country  avg_temp_c\n",
       "date                                                \n",
       "1995-01-01               Calgary  Canada        12.6\n",
       "1995-01-01                Duluth      US         8.2\n",
       "1995-01-01  Hartford Springfield      US        36.4\n",
       "1995-01-01  Minneapolis St. Paul      US         9.7\n",
       "1995-01-01          Akron Canton      US        40.3\n",
       "...                          ...     ...         ...\n",
       "2020-05-13                Fresno      US        69.1\n",
       "2020-05-13          North Platte      US        47.0\n",
       "2020-05-13         New York City      US        51.8\n",
       "2020-05-13         Washington DC      US        53.4\n",
       "2020-05-13            Shreveport      US        72.2\n",
       "\n",
       "[1048575 rows x 3 columns]"
      ]
     },
     "execution_count": 163,
     "metadata": {},
     "output_type": "execute_result"
    }
   ],
   "source": [
    "# Set date as an index\n",
    "temperatures_ind = temperatures.set_index(\"date\").sort_index()\n",
    "temperatures_ind"
   ]
  },
  {
   "cell_type": "code",
   "execution_count": 164,
   "metadata": {},
   "outputs": [
    {
     "name": "stdout",
     "output_type": "stream",
     "text": [
      "                        city country  avg_temp_c\n",
      "date                                            \n",
      "2010-01-01            Tucson      US        53.2\n",
      "2010-01-01            Ottawa  Canada        25.6\n",
      "2010-01-01  Colorado Springs      US        25.6\n",
      "2010-01-01           Concord      US        24.6\n",
      "2010-01-01     New York City      US        35.1\n",
      "...                      ...     ...         ...\n",
      "2010-12-31              Reno      US        20.7\n",
      "2010-12-31         Baltimore      US        35.2\n",
      "2010-12-31             Macon      US        56.4\n",
      "2010-12-31             Fargo      US        -0.6\n",
      "2010-12-31           Orlando      US        61.7\n",
      "\n",
      "[41612 rows x 3 columns]\n"
     ]
    }
   ],
   "source": [
    "print(temperatures_ind.loc[\"2010\":\"2011\"])"
   ]
  },
  {
   "cell_type": "code",
   "execution_count": 165,
   "metadata": {},
   "outputs": [
    {
     "name": "stdout",
     "output_type": "stream",
     "text": [
      "                   city country  avg_temp_c\n",
      "date                                       \n",
      "2010-08-01      Concord      US        64.8\n",
      "2010-08-01   Louisville      US        81.1\n",
      "2010-08-01    Charlotte      US        72.2\n",
      "2010-08-01  Los Angeles      US        64.2\n",
      "2010-08-01   Shreveport      US        87.9\n",
      "...                 ...     ...         ...\n",
      "2011-02-28    Anchorage      US        19.4\n",
      "2011-02-28       Helena      US        30.0\n",
      "2011-02-28    Baltimore      US        51.0\n",
      "2011-02-28    Charlotte      US        67.7\n",
      "2011-02-28        Flint      US        32.9\n",
      "\n",
      "[23781 rows x 3 columns]\n"
     ]
    }
   ],
   "source": [
    "# Use .loc[] to subset temperatures_ind for rows from Aug 2010 to Feb 2011\n",
    "print(temperatures_ind.loc[\"2010-08-01\":\"2011-02-28\"])"
   ]
  },
  {
   "cell_type": "code",
   "execution_count": 166,
   "metadata": {},
   "outputs": [
    {
     "data": {
      "text/html": [
       "<div>\n",
       "<style scoped>\n",
       "    .dataframe tbody tr th:only-of-type {\n",
       "        vertical-align: middle;\n",
       "    }\n",
       "\n",
       "    .dataframe tbody tr th {\n",
       "        vertical-align: top;\n",
       "    }\n",
       "\n",
       "    .dataframe thead th {\n",
       "        text-align: right;\n",
       "    }\n",
       "</style>\n",
       "<table border=\"1\" class=\"dataframe\">\n",
       "  <thead>\n",
       "    <tr style=\"text-align: right;\">\n",
       "      <th></th>\n",
       "      <th>date</th>\n",
       "      <th>city</th>\n",
       "      <th>country</th>\n",
       "      <th>avg_temp_c</th>\n",
       "    </tr>\n",
       "  </thead>\n",
       "  <tbody>\n",
       "  </tbody>\n",
       "</table>\n",
       "</div>"
      ],
      "text/plain": [
       "Empty DataFrame\n",
       "Columns: [date, city, country, avg_temp_c]\n",
       "Index: []"
      ]
     },
     "execution_count": 166,
     "metadata": {},
     "output_type": "execute_result"
    }
   ],
   "source": [
    "#iloc\n",
    "# Get 23rd row, 2nd column (index 22, 1)\n",
    "temperatures.iloc[22:1]"
   ]
  },
  {
   "cell_type": "code",
   "execution_count": 167,
   "metadata": {},
   "outputs": [
    {
     "name": "stdout",
     "output_type": "stream",
     "text": [
      "         date     city country  avg_temp_c\n",
      "0  1995-01-01  Calgary  Canada        12.6\n",
      "1  1995-01-02  Calgary  Canada         4.5\n",
      "2  1995-01-03  Calgary  Canada         2.5\n",
      "3  1995-01-04  Calgary  Canada        11.4\n",
      "4  1995-01-05  Calgary  Canada        11.3\n"
     ]
    }
   ],
   "source": [
    "# Use slicing to get the first 5 rows\n",
    "print(temperatures.iloc[0:5,:])"
   ]
  },
  {
   "cell_type": "code",
   "execution_count": 168,
   "metadata": {},
   "outputs": [
    {
     "name": "stdout",
     "output_type": "stream",
     "text": [
      "        country  avg_temp_c\n",
      "0        Canada        12.6\n",
      "1        Canada         4.5\n",
      "2        Canada         2.5\n",
      "3        Canada        11.4\n",
      "4        Canada        11.3\n",
      "...         ...         ...\n",
      "1048570      US        31.9\n",
      "1048571      US        29.6\n",
      "1048572      US        33.0\n",
      "1048573      US        44.1\n",
      "1048574      US        47.8\n",
      "\n",
      "[1048575 rows x 2 columns]\n"
     ]
    }
   ],
   "source": [
    "# Use slicing to get columns 3 to 4\n",
    "print(temperatures.iloc[:,2:4])"
   ]
  },
  {
   "cell_type": "code",
   "execution_count": 169,
   "metadata": {},
   "outputs": [
    {
     "name": "stdout",
     "output_type": "stream",
     "text": [
      "  country  avg_temp_c\n",
      "0  Canada        12.6\n",
      "1  Canada         4.5\n",
      "2  Canada         2.5\n",
      "3  Canada        11.4\n",
      "4  Canada        11.3\n"
     ]
    }
   ],
   "source": [
    "# Use slicing in both directions at once\n",
    "print(temperatures.iloc[0:5,2:4])"
   ]
  },
  {
   "cell_type": "code",
   "execution_count": 170,
   "metadata": {},
   "outputs": [
    {
     "name": "stdout",
     "output_type": "stream",
     "text": [
      "year                          1995       1996       1997       1998  \\\n",
      "country city                                                          \n",
      "Canada  Calgary          38.199726  35.246995  39.988767  39.310959   \n",
      "        Edmonton         37.784110  34.690984  40.118082  39.949589   \n",
      "        Halifax          43.641096  43.462022  42.523836  44.062192   \n",
      "        Montreal         44.592055  44.254918  43.328767  46.594521   \n",
      "        Ottawa           43.580548  43.127049  42.275890  45.893425   \n",
      "...                            ...        ...        ...        ...   \n",
      "US      Washington DC    57.559452  56.696721  57.750685  58.416986   \n",
      "        West Palm Beach  74.837260  74.457923  75.423014  74.306301   \n",
      "        Wichita          55.655342  54.147268  55.572603  57.376986   \n",
      "        Wilmington       53.643836  52.324590  53.622192  56.040274   \n",
      "        Yuma             76.338356  75.323224  74.933151  72.451233   \n",
      "\n",
      "year                          1999       2000       2001       2002  \\\n",
      "country city                                                          \n",
      "Canada  Calgary          41.081370  38.777322  41.389315  37.354795   \n",
      "        Edmonton         40.523288  38.570492  41.544658  35.079178   \n",
      "        Halifax          46.524384  44.317486  45.297534  42.390959   \n",
      "        Montreal         47.022740  43.726503  47.103288  44.377808   \n",
      "        Ottawa           45.780822  42.629508  45.932055  43.057260   \n",
      "...                            ...        ...        ...        ...   \n",
      "US      Washington DC    58.373151  56.770492  58.330137  56.852329   \n",
      "        West Palm Beach  74.558630  74.788525  75.055616  73.867123   \n",
      "        Wichita          57.472603  57.356284  58.343562  54.376712   \n",
      "        Wilmington       55.362740  53.798087  55.398630  53.677808   \n",
      "        Yuma             73.154247  75.102459  75.901096  72.778904   \n",
      "\n",
      "year                          2003       2004  ...       2011       2012  \\\n",
      "country city                                   ...                         \n",
      "Canada  Calgary          39.964658  40.861475  ...  40.001096  40.940548   \n",
      "        Edmonton         38.001370  39.724044  ...  39.693699  40.073224   \n",
      "        Halifax          44.439178  42.954918  ...  44.726849  46.166120   \n",
      "        Montreal         43.740274  43.889891  ...        NaN        NaN   \n",
      "        Ottawa           42.800822  42.688798  ...  45.861096  46.354372   \n",
      "...                            ...        ...  ...        ...        ...   \n",
      "US      Washington DC    55.457808  57.771858  ...  59.566849  61.107377   \n",
      "        West Palm Beach  75.689315  75.182514  ...  77.240822  75.735246   \n",
      "        Wichita          56.094521  57.283607  ...  58.442192  61.331148   \n",
      "        Wilmington       53.031781  54.387705  ...        NaN        NaN   \n",
      "        Yuma             74.270411  41.579235  ...        NaN        NaN   \n",
      "\n",
      "year                          2013       2014       2015       2016  \\\n",
      "country city                                                          \n",
      "Canada  Calgary          40.800548  30.157143        NaN        NaN   \n",
      "        Edmonton         39.594521  38.975342  23.514286        NaN   \n",
      "        Halifax          43.788219  33.555901        NaN        NaN   \n",
      "        Montreal               NaN        NaN        NaN        NaN   \n",
      "        Ottawa           43.556438  31.720497        NaN        NaN   \n",
      "...                            ...        ...        ...        ...   \n",
      "US      Washington DC    58.488493  58.230411  59.881370  59.921311   \n",
      "        West Palm Beach  76.596986  75.931233  77.578082  76.901639   \n",
      "        Wichita          55.949589  56.728767  58.999178  60.068306   \n",
      "        Wilmington             NaN        NaN        NaN        NaN   \n",
      "        Yuma                   NaN        NaN        NaN        NaN   \n",
      "\n",
      "year                          2017       2018       2019       2020  \n",
      "country city                                                         \n",
      "Canada  Calgary                NaN        NaN        NaN        NaN  \n",
      "        Edmonton               NaN        NaN        NaN        NaN  \n",
      "        Halifax                NaN        NaN        NaN        NaN  \n",
      "        Montreal               NaN        NaN        NaN        NaN  \n",
      "        Ottawa                 NaN        NaN        NaN        NaN  \n",
      "...                            ...        ...        ...        ...  \n",
      "US      Washington DC    60.448493  59.243562  60.058904  49.163433  \n",
      "        West Palm Beach  76.742740  75.872055  77.057534  74.800746  \n",
      "        Wichita          59.116712  57.694521  56.959178  46.396269  \n",
      "        Wilmington             NaN        NaN        NaN        NaN  \n",
      "        Yuma                   NaN        NaN        NaN        NaN  \n",
      "\n",
      "[114 rows x 26 columns]\n"
     ]
    }
   ],
   "source": [
    "# working with pivot tables\n",
    "# Add a year column to temperatures\n",
    "import pandas as pd\n",
    "temperatures[\"year\"]=pd.DatetimeIndex(temperatures['date']).year\n",
    "\n",
    "# Pivot avg_temp_c by country and city vs year\n",
    "temp_by_country_city_vs_year = temperatures.pivot_table(\"avg_temp_c\",index=[\"country\",\"city\"],columns=\"year\")\n",
    "\n",
    "# See the result\n",
    "temp_by_country_city_vs_year\n",
    "print(temp_by_country_city_vs_year)"
   ]
  },
  {
   "cell_type": "code",
   "execution_count": 171,
   "metadata": {},
   "outputs": [
    {
     "data": {
      "text/html": [
       "<div>\n",
       "<style scoped>\n",
       "    .dataframe tbody tr th:only-of-type {\n",
       "        vertical-align: middle;\n",
       "    }\n",
       "\n",
       "    .dataframe tbody tr th {\n",
       "        vertical-align: top;\n",
       "    }\n",
       "\n",
       "    .dataframe thead th {\n",
       "        text-align: right;\n",
       "    }\n",
       "</style>\n",
       "<table border=\"1\" class=\"dataframe\">\n",
       "  <thead>\n",
       "    <tr style=\"text-align: right;\">\n",
       "      <th></th>\n",
       "      <th>year</th>\n",
       "      <th>2005</th>\n",
       "      <th>2006</th>\n",
       "      <th>2007</th>\n",
       "      <th>2008</th>\n",
       "      <th>2009</th>\n",
       "      <th>2010</th>\n",
       "    </tr>\n",
       "    <tr>\n",
       "      <th>country</th>\n",
       "      <th>city</th>\n",
       "      <th></th>\n",
       "      <th></th>\n",
       "      <th></th>\n",
       "      <th></th>\n",
       "      <th></th>\n",
       "      <th></th>\n",
       "    </tr>\n",
       "  </thead>\n",
       "  <tbody>\n",
       "    <tr>\n",
       "      <th rowspan=\"10\" valign=\"top\">Canada</th>\n",
       "      <th>Calgary</th>\n",
       "      <td>41.090411</td>\n",
       "      <td>41.842740</td>\n",
       "      <td>40.505479</td>\n",
       "      <td>35.937432</td>\n",
       "      <td>38.962466</td>\n",
       "      <td>40.126027</td>\n",
       "    </tr>\n",
       "    <tr>\n",
       "      <th>Edmonton</th>\n",
       "      <td>41.083288</td>\n",
       "      <td>41.521644</td>\n",
       "      <td>39.781918</td>\n",
       "      <td>35.019672</td>\n",
       "      <td>37.952329</td>\n",
       "      <td>39.753151</td>\n",
       "    </tr>\n",
       "    <tr>\n",
       "      <th>Halifax</th>\n",
       "      <td>44.470411</td>\n",
       "      <td>45.524932</td>\n",
       "      <td>41.944384</td>\n",
       "      <td>42.687432</td>\n",
       "      <td>42.344110</td>\n",
       "      <td>45.950137</td>\n",
       "    </tr>\n",
       "    <tr>\n",
       "      <th>Montreal</th>\n",
       "      <td>46.050137</td>\n",
       "      <td>47.257534</td>\n",
       "      <td>44.583562</td>\n",
       "      <td>44.750820</td>\n",
       "      <td>44.184932</td>\n",
       "      <td>49.678205</td>\n",
       "    </tr>\n",
       "    <tr>\n",
       "      <th>Ottawa</th>\n",
       "      <td>44.846849</td>\n",
       "      <td>45.977260</td>\n",
       "      <td>43.648219</td>\n",
       "      <td>42.842350</td>\n",
       "      <td>42.913425</td>\n",
       "      <td>46.545479</td>\n",
       "    </tr>\n",
       "    <tr>\n",
       "      <th>Quebec</th>\n",
       "      <td>30.070685</td>\n",
       "      <td>43.286301</td>\n",
       "      <td>39.718904</td>\n",
       "      <td>40.290437</td>\n",
       "      <td>39.940548</td>\n",
       "      <td>44.377808</td>\n",
       "    </tr>\n",
       "    <tr>\n",
       "      <th>Regina</th>\n",
       "      <td>37.727671</td>\n",
       "      <td>39.926849</td>\n",
       "      <td>37.755342</td>\n",
       "      <td>32.007104</td>\n",
       "      <td>34.198630</td>\n",
       "      <td>37.617534</td>\n",
       "    </tr>\n",
       "    <tr>\n",
       "      <th>Toronto</th>\n",
       "      <td>48.606575</td>\n",
       "      <td>49.773973</td>\n",
       "      <td>48.130685</td>\n",
       "      <td>46.264481</td>\n",
       "      <td>46.484932</td>\n",
       "      <td>49.563836</td>\n",
       "    </tr>\n",
       "    <tr>\n",
       "      <th>Vancouver</th>\n",
       "      <td>51.544110</td>\n",
       "      <td>51.379178</td>\n",
       "      <td>50.013151</td>\n",
       "      <td>44.583333</td>\n",
       "      <td>50.146849</td>\n",
       "      <td>51.667123</td>\n",
       "    </tr>\n",
       "    <tr>\n",
       "      <th>Winnipeg</th>\n",
       "      <td>39.038356</td>\n",
       "      <td>41.395342</td>\n",
       "      <td>37.757534</td>\n",
       "      <td>35.369399</td>\n",
       "      <td>36.408493</td>\n",
       "      <td>40.578082</td>\n",
       "    </tr>\n",
       "  </tbody>\n",
       "</table>\n",
       "</div>"
      ],
      "text/plain": [
       "year                    2005       2006       2007       2008       2009  \\\n",
       "country city                                                               \n",
       "Canada  Calgary    41.090411  41.842740  40.505479  35.937432  38.962466   \n",
       "        Edmonton   41.083288  41.521644  39.781918  35.019672  37.952329   \n",
       "        Halifax    44.470411  45.524932  41.944384  42.687432  42.344110   \n",
       "        Montreal   46.050137  47.257534  44.583562  44.750820  44.184932   \n",
       "        Ottawa     44.846849  45.977260  43.648219  42.842350  42.913425   \n",
       "        Quebec     30.070685  43.286301  39.718904  40.290437  39.940548   \n",
       "        Regina     37.727671  39.926849  37.755342  32.007104  34.198630   \n",
       "        Toronto    48.606575  49.773973  48.130685  46.264481  46.484932   \n",
       "        Vancouver  51.544110  51.379178  50.013151  44.583333  50.146849   \n",
       "        Winnipeg   39.038356  41.395342  37.757534  35.369399  36.408493   \n",
       "\n",
       "year                    2010  \n",
       "country city                  \n",
       "Canada  Calgary    40.126027  \n",
       "        Edmonton   39.753151  \n",
       "        Halifax    45.950137  \n",
       "        Montreal   49.678205  \n",
       "        Ottawa     46.545479  \n",
       "        Quebec     44.377808  \n",
       "        Regina     37.617534  \n",
       "        Toronto    49.563836  \n",
       "        Vancouver  51.667123  \n",
       "        Winnipeg   40.578082  "
      ]
     },
     "execution_count": 171,
     "metadata": {},
     "output_type": "execute_result"
    }
   ],
   "source": [
    "# subsetting pivot table\n",
    "# Subset for Canada to India\n",
    "temp_by_country_city_vs_year.loc[\"Canada\":\"India\"]\n",
    "\n",
    "# Subset for Canada, Calgary to India, Delhi\n",
    "temp_by_country_city_vs_year.loc[(\"Canada\",\"Calgary\"):(\"India\",\"Delhi\")]\n",
    "\n",
    "# Subset in both directions at once\n",
    "temp_by_country_city_vs_year.loc[(\"Canada\",\"Calgary\"):(\"India\",\"Delhi\"),\"2005\":\"2010\"]"
   ]
  },
  {
   "cell_type": "code",
   "execution_count": 172,
   "metadata": {},
   "outputs": [
    {
     "name": "stdout",
     "output_type": "stream",
     "text": [
      "year\n",
      "2016    57.459914\n",
      "dtype: float64\n",
      "country  city     \n",
      "US       Fairbanks    27.802421\n",
      "dtype: float64\n"
     ]
    }
   ],
   "source": [
    "# calculating on pivot table\n",
    "# Get the worldwide mean temp by year\n",
    "mean_temp_by_year = temp_by_country_city_vs_year.mean(axis=\"index\")\n",
    "\n",
    "# Filter for the year that had the highest mean temp\n",
    "print(mean_temp_by_year[mean_temp_by_year==mean_temp_by_year.max()])\n",
    "\n",
    "# Get the mean temp by city\n",
    "mean_temp_by_city = temp_by_country_city_vs_year.mean(axis=\"columns\")\n",
    "\n",
    "# Filter for the city that had the lowest mean temp\n",
    "print(mean_temp_by_city[mean_temp_by_city==mean_temp_by_city.min()])"
   ]
  },
  {
   "cell_type": "markdown",
   "metadata": {},
   "source": [
    "# Visualizing data"
   ]
  },
  {
   "cell_type": "code",
   "execution_count": 1,
   "metadata": {},
   "outputs": [],
   "source": [
    "# unpickle avacado data\n",
    "import pickle\n",
    "filename = 'avoplotto.pkl'\n",
    "infile = open(filename,'rb')\n",
    "avocados = pickle.load(infile)\n",
    "infile.close()"
   ]
  },
  {
   "cell_type": "code",
   "execution_count": 2,
   "metadata": {
    "scrolled": true
   },
   "outputs": [
    {
     "data": {
      "text/html": [
       "<div>\n",
       "<style scoped>\n",
       "    .dataframe tbody tr th:only-of-type {\n",
       "        vertical-align: middle;\n",
       "    }\n",
       "\n",
       "    .dataframe tbody tr th {\n",
       "        vertical-align: top;\n",
       "    }\n",
       "\n",
       "    .dataframe thead th {\n",
       "        text-align: right;\n",
       "    }\n",
       "</style>\n",
       "<table border=\"1\" class=\"dataframe\">\n",
       "  <thead>\n",
       "    <tr style=\"text-align: right;\">\n",
       "      <th></th>\n",
       "      <th>date</th>\n",
       "      <th>type</th>\n",
       "      <th>year</th>\n",
       "      <th>avg_price</th>\n",
       "      <th>size</th>\n",
       "      <th>nb_sold</th>\n",
       "    </tr>\n",
       "  </thead>\n",
       "  <tbody>\n",
       "    <tr>\n",
       "      <th>0</th>\n",
       "      <td>2015-12-27</td>\n",
       "      <td>conventional</td>\n",
       "      <td>2015</td>\n",
       "      <td>0.95</td>\n",
       "      <td>small</td>\n",
       "      <td>9626901.09</td>\n",
       "    </tr>\n",
       "    <tr>\n",
       "      <th>1</th>\n",
       "      <td>2015-12-20</td>\n",
       "      <td>conventional</td>\n",
       "      <td>2015</td>\n",
       "      <td>0.98</td>\n",
       "      <td>small</td>\n",
       "      <td>8710021.76</td>\n",
       "    </tr>\n",
       "    <tr>\n",
       "      <th>2</th>\n",
       "      <td>2015-12-13</td>\n",
       "      <td>conventional</td>\n",
       "      <td>2015</td>\n",
       "      <td>0.93</td>\n",
       "      <td>small</td>\n",
       "      <td>9855053.66</td>\n",
       "    </tr>\n",
       "    <tr>\n",
       "      <th>3</th>\n",
       "      <td>2015-12-06</td>\n",
       "      <td>conventional</td>\n",
       "      <td>2015</td>\n",
       "      <td>0.89</td>\n",
       "      <td>small</td>\n",
       "      <td>9405464.36</td>\n",
       "    </tr>\n",
       "    <tr>\n",
       "      <th>4</th>\n",
       "      <td>2015-11-29</td>\n",
       "      <td>conventional</td>\n",
       "      <td>2015</td>\n",
       "      <td>0.99</td>\n",
       "      <td>small</td>\n",
       "      <td>8094803.56</td>\n",
       "    </tr>\n",
       "  </tbody>\n",
       "</table>\n",
       "</div>"
      ],
      "text/plain": [
       "         date          type  year  avg_price   size     nb_sold\n",
       "0  2015-12-27  conventional  2015       0.95  small  9626901.09\n",
       "1  2015-12-20  conventional  2015       0.98  small  8710021.76\n",
       "2  2015-12-13  conventional  2015       0.93  small  9855053.66\n",
       "3  2015-12-06  conventional  2015       0.89  small  9405464.36\n",
       "4  2015-11-29  conventional  2015       0.99  small  8094803.56"
      ]
     },
     "execution_count": 2,
     "metadata": {},
     "output_type": "execute_result"
    }
   ],
   "source": [
    "avocados.head()"
   ]
  },
  {
   "cell_type": "code",
   "execution_count": 3,
   "metadata": {},
   "outputs": [
    {
     "name": "stdout",
     "output_type": "stream",
     "text": [
      "         date          type  year  avg_price   size     nb_sold\n",
      "0  2015-12-27  conventional  2015       0.95  small  9626901.09\n",
      "1  2015-12-20  conventional  2015       0.98  small  8710021.76\n",
      "2  2015-12-13  conventional  2015       0.93  small  9855053.66\n",
      "3  2015-12-06  conventional  2015       0.89  small  9405464.36\n",
      "4  2015-11-29  conventional  2015       0.99  small  8094803.56\n"
     ]
    },
    {
     "data": {
      "image/png": "[encoded data removed]",
      "text/plain": [
       "<Figure size 432x288 with 1 Axes>"
      ]
     },
     "metadata": {
      "needs_background": "light"
     },
     "output_type": "display_data"
    }
   ],
   "source": [
    "# which avocado size is most popular?\n",
    "# Import matplotlib.pyplot with alias plt\n",
    "import matplotlib.pyplot as plt\n",
    "\n",
    "# Look at the first few rows of data\n",
    "print(avocados.head())\n",
    "\n",
    "# Get the total number of avocados sold of each size\n",
    "nb_sold_by_size = avocados.groupby(\"size\")[\"nb_sold\"].sum()\n",
    "\n",
    "# Create a bar plot of the number of avocados sold by size\n",
    "nb_sold_by_size.plot(kind=\"bar\")\n",
    "\n",
    "# Show the plot\n",
    "plt.show()"
   ]
  },
  {
   "cell_type": "raw",
   "metadata": {},
   "source": [
    "It looks like small avocados were the most-purchased size, but large avocados were a close second."
   ]
  },
  {
   "cell_type": "code",
   "execution_count": 4,
   "metadata": {},
   "outputs": [
    {
     "data": {
      "image/png": "[encoded data removed]",
      "text/plain": [
       "<Figure size 432x288 with 1 Axes>"
      ]
     },
     "metadata": {
      "needs_background": "light"
     },
     "output_type": "display_data"
    }
   ],
   "source": [
    "# Changes in sales over time\n",
    "\n",
    "# Import matplotlib.pyplot with alias plt\n",
    "import matplotlib.pyplot as plt\n",
    "\n",
    "# Get the total number of avocados sold on each date\n",
    "nb_sold_by_date = avocados.groupby(\"date\")[\"nb_sold\"].sum()\n",
    "\n",
    "# Create a line plot of the number of avocados sold by date\n",
    "nb_sold_by_date.plot(x=\"date\",y=\"nb_sold_by_date\",kind=\"line\")\n",
    "\n",
    "# Show the plot\n",
    "plt.show()"
   ]
  },
  {
   "cell_type": "raw",
   "metadata": {},
   "source": [
    "It looks like the number of avocados spikes around the same time each year."
   ]
  },
  {
   "cell_type": "code",
   "execution_count": 5,
   "metadata": {},
   "outputs": [
    {
     "data": {
      "image/png": "[encoded data removed]",
      "text/plain": [
       "<Figure size 432x288 with 1 Axes>"
      ]
     },
     "metadata": {
      "needs_background": "light"
     },
     "output_type": "display_data"
    }
   ],
   "source": [
    "# Avocado supply and demand\n",
    "\n",
    "# Scatter plot of nb_sold vs avg_price with title\n",
    "avocados.plot(x=\"nb_sold\",y=\"avg_price\",kind=\"scatter\",title=\"Number of avocados sold vs. average price\")\n",
    "\n",
    "# Show the plot\n",
    "plt.show()"
   ]
  },
  {
   "cell_type": "raw",
   "metadata": {},
   "source": [
    "It looks like when more avocados are sold, prices go down. However, this doesn't mean that fewer sales causes higher prices - we can only tell that they're correlated with each other."
   ]
  },
  {
   "cell_type": "code",
   "execution_count": 7,
   "metadata": {},
   "outputs": [
    {
     "data": {
      "image/png": "[encoded data removed]",
      "text/plain": [
       "<Figure size 432x288 with 1 Axes>"
      ]
     },
     "metadata": {
      "needs_background": "light"
     },
     "output_type": "display_data"
    }
   ],
   "source": [
    "# Price of conventional vs. organic avocados\n",
    "\n",
    "# Histogram of conventional avg_price \n",
    "avocados[avocados[\"type\"]==\"conventional\"][\"avg_price\"].hist(alpha=0.5, bins=20)\n",
    "\n",
    "# Histogram of organic avg_price\n",
    "avocados[avocados[\"type\"]==\"organic\"][\"avg_price\"].hist(alpha=0.5, bins=20)\n",
    "\n",
    "# Add a legend\n",
    "plt.legend([\"conventional\",\"organic\"])\n",
    "\n",
    "# Show the plot\n",
    "plt.show()"
   ]
  },
  {
   "cell_type": "raw",
   "metadata": {},
   "source": [
    "We can see that on average, organic avocados are more expensive than conventional ones, but their price distributions have some overlap"
   ]
  },
  {
   "cell_type": "markdown",
   "metadata": {},
   "source": [
    "# Missing values"
   ]
  },
  {
   "cell_type": "code",
   "execution_count": 8,
   "metadata": {},
   "outputs": [],
   "source": [
    "# find missing values\n",
    "\n",
    "avocados_2016=avocados[avocados[\"year\"]==2016]"
   ]
  },
  {
   "cell_type": "code",
   "execution_count": 9,
   "metadata": {},
   "outputs": [
    {
     "data": {
      "text/html": [
       "<div>\n",
       "<style scoped>\n",
       "    .dataframe tbody tr th:only-of-type {\n",
       "        vertical-align: middle;\n",
       "    }\n",
       "\n",
       "    .dataframe tbody tr th {\n",
       "        vertical-align: top;\n",
       "    }\n",
       "\n",
       "    .dataframe thead th {\n",
       "        text-align: right;\n",
       "    }\n",
       "</style>\n",
       "<table border=\"1\" class=\"dataframe\">\n",
       "  <thead>\n",
       "    <tr style=\"text-align: right;\">\n",
       "      <th></th>\n",
       "      <th>date</th>\n",
       "      <th>type</th>\n",
       "      <th>year</th>\n",
       "      <th>avg_price</th>\n",
       "      <th>size</th>\n",
       "      <th>nb_sold</th>\n",
       "    </tr>\n",
       "  </thead>\n",
       "  <tbody>\n",
       "    <tr>\n",
       "      <th>52</th>\n",
       "      <td>2016-12-25</td>\n",
       "      <td>conventional</td>\n",
       "      <td>2016</td>\n",
       "      <td>1.00</td>\n",
       "      <td>small</td>\n",
       "      <td>9255125.20</td>\n",
       "    </tr>\n",
       "    <tr>\n",
       "      <th>53</th>\n",
       "      <td>2016-12-18</td>\n",
       "      <td>conventional</td>\n",
       "      <td>2016</td>\n",
       "      <td>0.96</td>\n",
       "      <td>small</td>\n",
       "      <td>9394065.91</td>\n",
       "    </tr>\n",
       "    <tr>\n",
       "      <th>54</th>\n",
       "      <td>2016-12-11</td>\n",
       "      <td>conventional</td>\n",
       "      <td>2016</td>\n",
       "      <td>0.98</td>\n",
       "      <td>small</td>\n",
       "      <td>9009996.11</td>\n",
       "    </tr>\n",
       "    <tr>\n",
       "      <th>55</th>\n",
       "      <td>2016-12-04</td>\n",
       "      <td>conventional</td>\n",
       "      <td>2016</td>\n",
       "      <td>1.00</td>\n",
       "      <td>small</td>\n",
       "      <td>11043350.90</td>\n",
       "    </tr>\n",
       "    <tr>\n",
       "      <th>56</th>\n",
       "      <td>2016-11-27</td>\n",
       "      <td>conventional</td>\n",
       "      <td>2016</td>\n",
       "      <td>1.21</td>\n",
       "      <td>small</td>\n",
       "      <td>7891487.94</td>\n",
       "    </tr>\n",
       "  </tbody>\n",
       "</table>\n",
       "</div>"
      ],
      "text/plain": [
       "          date          type  year  avg_price   size      nb_sold\n",
       "52  2016-12-25  conventional  2016       1.00  small   9255125.20\n",
       "53  2016-12-18  conventional  2016       0.96  small   9394065.91\n",
       "54  2016-12-11  conventional  2016       0.98  small   9009996.11\n",
       "55  2016-12-04  conventional  2016       1.00  small  11043350.90\n",
       "56  2016-11-27  conventional  2016       1.21  small   7891487.94"
      ]
     },
     "execution_count": 9,
     "metadata": {},
     "output_type": "execute_result"
    }
   ],
   "source": [
    "avocados_2016.head()"
   ]
  },
  {
   "cell_type": "code",
   "execution_count": 11,
   "metadata": {},
   "outputs": [
    {
     "name": "stdout",
     "output_type": "stream",
     "text": [
      "      date   type   year  avg_price   size  nb_sold\n",
      "52   False  False  False      False  False    False\n",
      "53   False  False  False      False  False    False\n",
      "54   False  False  False      False  False    False\n",
      "55   False  False  False      False  False    False\n",
      "56   False  False  False      False  False    False\n",
      "..     ...    ...    ...        ...    ...      ...\n",
      "944  False  False  False      False  False    False\n",
      "945  False  False  False      False  False    False\n",
      "946  False  False  False      False  False    False\n",
      "947  False  False  False      False  False    False\n",
      "948  False  False  False      False  False    False\n",
      "\n",
      "[312 rows x 6 columns]\n"
     ]
    }
   ],
   "source": [
    "# Import matplotlib.pyplot with alias plt\n",
    "import matplotlib.pyplot as plt\n",
    "\n",
    "# Check individual values for missing values\n",
    "print(avocados_2016.isna())\n"
   ]
  },
  {
   "cell_type": "code",
   "execution_count": 12,
   "metadata": {},
   "outputs": [
    {
     "name": "stdout",
     "output_type": "stream",
     "text": [
      "date         False\n",
      "type         False\n",
      "year         False\n",
      "avg_price    False\n",
      "size         False\n",
      "nb_sold      False\n",
      "dtype: bool\n"
     ]
    }
   ],
   "source": [
    "# Check each column for missing values\n",
    "print(avocados_2016.isna().any())"
   ]
  },
  {
   "cell_type": "code",
   "execution_count": 13,
   "metadata": {},
   "outputs": [
    {
     "data": {
      "image/png": "[encoded data removed]",
      "text/plain": [
       "<Figure size 432x288 with 1 Axes>"
      ]
     },
     "metadata": {
      "needs_background": "light"
     },
     "output_type": "display_data"
    }
   ],
   "source": [
    "# Bar plot of missing values by variable\n",
    "avocados_2016.isna().sum().plot(kind=\"bar\")\n",
    "\n",
    "# Show plot\n",
    "plt.show()"
   ]
  },
  {
   "cell_type": "code",
   "execution_count": 14,
   "metadata": {},
   "outputs": [
    {
     "name": "stdout",
     "output_type": "stream",
     "text": [
      "date         False\n",
      "type         False\n",
      "year         False\n",
      "avg_price    False\n",
      "size         False\n",
      "nb_sold      False\n",
      "dtype: bool\n"
     ]
    }
   ],
   "source": [
    "# remove missing values\n",
    "# Remove rows with missing values\n",
    "avocados_complete = avocados_2016.dropna()\n",
    "\n",
    "# Check if any columns contain missing values\n",
    "print(avocados_complete.isna().any())"
   ]
  },
  {
   "cell_type": "code",
   "execution_count": 16,
   "metadata": {},
   "outputs": [
    {
     "data": {
      "text/html": [
       "<div>\n",
       "<style scoped>\n",
       "    .dataframe tbody tr th:only-of-type {\n",
       "        vertical-align: middle;\n",
       "    }\n",
       "\n",
       "    .dataframe tbody tr th {\n",
       "        vertical-align: top;\n",
       "    }\n",
       "\n",
       "    .dataframe thead th {\n",
       "        text-align: right;\n",
       "    }\n",
       "</style>\n",
       "<table border=\"1\" class=\"dataframe\">\n",
       "  <thead>\n",
       "    <tr style=\"text-align: right;\">\n",
       "      <th></th>\n",
       "      <th>date</th>\n",
       "      <th>type</th>\n",
       "      <th>year</th>\n",
       "      <th>avg_price</th>\n",
       "      <th>size</th>\n",
       "      <th>nb_sold</th>\n",
       "    </tr>\n",
       "  </thead>\n",
       "  <tbody>\n",
       "    <tr>\n",
       "      <th>52</th>\n",
       "      <td>2016-12-25</td>\n",
       "      <td>conventional</td>\n",
       "      <td>2016</td>\n",
       "      <td>1.00</td>\n",
       "      <td>small</td>\n",
       "      <td>9255125.20</td>\n",
       "    </tr>\n",
       "    <tr>\n",
       "      <th>53</th>\n",
       "      <td>2016-12-18</td>\n",
       "      <td>conventional</td>\n",
       "      <td>2016</td>\n",
       "      <td>0.96</td>\n",
       "      <td>small</td>\n",
       "      <td>9394065.91</td>\n",
       "    </tr>\n",
       "    <tr>\n",
       "      <th>54</th>\n",
       "      <td>2016-12-11</td>\n",
       "      <td>conventional</td>\n",
       "      <td>2016</td>\n",
       "      <td>0.98</td>\n",
       "      <td>small</td>\n",
       "      <td>9009996.11</td>\n",
       "    </tr>\n",
       "    <tr>\n",
       "      <th>55</th>\n",
       "      <td>2016-12-04</td>\n",
       "      <td>conventional</td>\n",
       "      <td>2016</td>\n",
       "      <td>1.00</td>\n",
       "      <td>small</td>\n",
       "      <td>11043350.90</td>\n",
       "    </tr>\n",
       "    <tr>\n",
       "      <th>56</th>\n",
       "      <td>2016-11-27</td>\n",
       "      <td>conventional</td>\n",
       "      <td>2016</td>\n",
       "      <td>1.21</td>\n",
       "      <td>small</td>\n",
       "      <td>7891487.94</td>\n",
       "    </tr>\n",
       "    <tr>\n",
       "      <th>...</th>\n",
       "      <td>...</td>\n",
       "      <td>...</td>\n",
       "      <td>...</td>\n",
       "      <td>...</td>\n",
       "      <td>...</td>\n",
       "      <td>...</td>\n",
       "    </tr>\n",
       "    <tr>\n",
       "      <th>944</th>\n",
       "      <td>2016-01-31</td>\n",
       "      <td>organic</td>\n",
       "      <td>2016</td>\n",
       "      <td>1.43</td>\n",
       "      <td>extra_large</td>\n",
       "      <td>5515.91</td>\n",
       "    </tr>\n",
       "    <tr>\n",
       "      <th>945</th>\n",
       "      <td>2016-01-24</td>\n",
       "      <td>organic</td>\n",
       "      <td>2016</td>\n",
       "      <td>1.41</td>\n",
       "      <td>extra_large</td>\n",
       "      <td>12933.97</td>\n",
       "    </tr>\n",
       "    <tr>\n",
       "      <th>946</th>\n",
       "      <td>2016-01-17</td>\n",
       "      <td>organic</td>\n",
       "      <td>2016</td>\n",
       "      <td>1.44</td>\n",
       "      <td>extra_large</td>\n",
       "      <td>13106.29</td>\n",
       "    </tr>\n",
       "    <tr>\n",
       "      <th>947</th>\n",
       "      <td>2016-01-10</td>\n",
       "      <td>organic</td>\n",
       "      <td>2016</td>\n",
       "      <td>1.35</td>\n",
       "      <td>extra_large</td>\n",
       "      <td>8771.79</td>\n",
       "    </tr>\n",
       "    <tr>\n",
       "      <th>948</th>\n",
       "      <td>2016-01-03</td>\n",
       "      <td>organic</td>\n",
       "      <td>2016</td>\n",
       "      <td>1.43</td>\n",
       "      <td>extra_large</td>\n",
       "      <td>7749.40</td>\n",
       "    </tr>\n",
       "  </tbody>\n",
       "</table>\n",
       "<p>312 rows × 6 columns</p>\n",
       "</div>"
      ],
      "text/plain": [
       "           date          type  year  avg_price         size      nb_sold\n",
       "52   2016-12-25  conventional  2016       1.00        small   9255125.20\n",
       "53   2016-12-18  conventional  2016       0.96        small   9394065.91\n",
       "54   2016-12-11  conventional  2016       0.98        small   9009996.11\n",
       "55   2016-12-04  conventional  2016       1.00        small  11043350.90\n",
       "56   2016-11-27  conventional  2016       1.21        small   7891487.94\n",
       "..          ...           ...   ...        ...          ...          ...\n",
       "944  2016-01-31       organic  2016       1.43  extra_large      5515.91\n",
       "945  2016-01-24       organic  2016       1.41  extra_large     12933.97\n",
       "946  2016-01-17       organic  2016       1.44  extra_large     13106.29\n",
       "947  2016-01-10       organic  2016       1.35  extra_large      8771.79\n",
       "948  2016-01-03       organic  2016       1.43  extra_large      7749.40\n",
       "\n",
       "[312 rows x 6 columns]"
      ]
     },
     "execution_count": 16,
     "metadata": {},
     "output_type": "execute_result"
    }
   ],
   "source": [
    "# replace missing values\n",
    "avocados_2016.fillna(0)"
   ]
  },
  {
   "cell_type": "code",
   "execution_count": 23,
   "metadata": {},
   "outputs": [
    {
     "data": {
      "image/png": "[encoded data removed]",
      "text/plain": [
       "<Figure size 432x288 with 2 Axes>"
      ]
     },
     "metadata": {
      "needs_background": "light"
     },
     "output_type": "display_data"
    }
   ],
   "source": [
    "# multiple histograms\n",
    "avocados_2016[[\"avg_price\",\"nb_sold\"]].hist()\n",
    "plt.show()"
   ]
  },
  {
   "cell_type": "code",
   "execution_count": 25,
   "metadata": {},
   "outputs": [
    {
     "name": "stdout",
     "output_type": "stream",
     "text": [
      "         date  small_sold  large_sold\n",
      "0  2019-11-03    10376832     7835071\n",
      "1  2019-11-10    10717154     8561348\n"
     ]
    }
   ],
   "source": [
    "# creating dataframes\n",
    "\n",
    "# from a list of dictionaries - by row\n",
    "# from a dictionary of lists - by column\n",
    "\n",
    "import pandas as pd\n",
    "# Create a list of dictionaries with new data\n",
    "avocados_list = [\n",
    "    {\"date\": \"2019-11-03\", \"small_sold\": 10376832, \"large_sold\": 7835071\n",
    "},\n",
    "    {\"date\": \"2019-11-10\", \"small_sold\": 10717154, \"large_sold\": 8561348},\n",
    "]\n",
    "\n",
    "# Convert list into DataFrame\n",
    "avocados_2019 = pd.DataFrame(avocados_list)\n",
    "\n",
    "# Print the new DataFrame\n",
    "print(avocados_2019)"
   ]
  },
  {
   "cell_type": "code",
   "execution_count": 26,
   "metadata": {},
   "outputs": [
    {
     "name": "stdout",
     "output_type": "stream",
     "text": [
      "         date  small_sold  large_sold\n",
      "0  2019-11-17    10859987     7674135\n",
      "1  2019-12-01     9291631     6238096\n"
     ]
    }
   ],
   "source": [
    "# Create a dictionary of lists with new data\n",
    "avocados_dict = {\n",
    "  \"date\": [\"2019-11-17\",\"2019-12-01\"],\n",
    "  \"small_sold\": [10859987,9291631],\n",
    "  \"large_sold\": [7674135,6238096\n",
    "]\n",
    "}\n",
    "\n",
    "# Convert dictionary into DataFrame\n",
    "avocados_2019 = pd.DataFrame(avocados_dict)\n",
    "\n",
    "# Print the new DataFrame\n",
    "print(avocados_2019)"
   ]
  }
 ],
 "metadata": {
  "kernelspec": {
   "display_name": "Python 3",
   "language": "python",
   "name": "python3"
  },
  "language_info": {
   "codemirror_mode": {
    "name": "ipython",
    "version": 3
   },
   "file_extension": ".py",
   "mimetype": "text/x-python",
   "name": "python",
   "nbconvert_exporter": "python",
   "pygments_lexer": "ipython3",
   "version": "3.7.6"
  }
 },
 "nbformat": 4,
 "nbformat_minor": 4
}
