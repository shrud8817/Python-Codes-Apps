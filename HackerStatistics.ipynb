{
  "nbformat": 4,
  "nbformat_minor": 0,
  "metadata": {
    "colab": {
      "name": "HackerStatistics",
      "provenance": [],
      "collapsed_sections": [],
      "authorship_tag": "ABX9TyMJjBc2H4T6S09RUhF4TIvP",
      "include_colab_link": true
    },
    "kernelspec": {
      "name": "python3",
      "display_name": "Python 3"
    }
  },
  "cells": [
    {
      "cell_type": "markdown",
      "metadata": {
        "id": "view-in-github",
        "colab_type": "text"
      },
      "source": [
        "<a href=\"https://colab.research.google.com/github/shrud8817/Python-Codes-Apps/blob/master/HackerStatistics.ipynb\" target=\"_parent\"><img src=\"https://colab.research.google.com/assets/colab-badge.svg\" alt=\"Open In Colab\"/></a>"
      ]
    },
    {
      "cell_type": "markdown",
      "metadata": {
        "id": "1BCM0l992M8t",
        "colab_type": "text"
      },
      "source": [
        "# Hacker statistics to calculate chances of winning a bet\n"
      ]
    },
    {
      "cell_type": "markdown",
      "metadata": {
        "id": "-PsQNTLg61HC",
        "colab_type": "text"
      },
      "source": [
        "You are walking up the utility building to OfficeX headquarters and you are playing a game with a friend.\n",
        "You throw a die 100 times. If it's 1 or 2 you'll go one step down. if it's 3,4 or 5 you will go one step up. If you throw a 6, you'll throw the die again and walk up the resulting number of steps. You cannot go lower than step number 0. And also you admit that you are a bit clumsy and have a chance of 0.1% of falling down the stairs when you make a move. Falling down means that you have to start again from step 0.With all this in mind you bet with your friend that you will reach 60 steps high. What is the chance that you will win this bet?\n",
        "\n",
        "How to solve?\n",
        "1. calculate the chance analytically using equations.\n",
        "2. simulate this process thousands of times and see in what fraction of the simulations that you will reach 60 steps. (hacker statistics) - we opt for this approach"
      ]
    },
    {
      "cell_type": "markdown",
      "metadata": {
        "id": "Vaz0cFW-63zu",
        "colab_type": "text"
      },
      "source": [
        "# Die simulation\n",
        "The first thing we will need are random generators so we can simulate the die. We import numpy and inside numpy there is a random package. Inside that package we use the \"rand\" function. "
      ]
    },
    {
      "cell_type": "code",
      "metadata": {
        "id": "qqNiVdJL68A4",
        "colab_type": "code",
        "colab": {
          "base_uri": "https://localhost:8080/",
          "height": 52
        },
        "outputId": "eabda7d8-9317-4c7c-d67c-89d2959eac8f"
      },
      "source": [
        "# Import numpy and set seed\n",
        "import numpy as np\n",
        "np.random.seed(123)\n",
        "\n",
        "# Use randint() to simulate a dice\n",
        "print(np.random.randint(1,7))\n",
        "\n",
        "# Use randint() again\n",
        "print(np.random.randint(1,7))"
      ],
      "execution_count": null,
      "outputs": [
        {
          "output_type": "stream",
          "text": [
            "6\n",
            "3\n"
          ],
          "name": "stdout"
        }
      ]
    },
    {
      "cell_type": "markdown",
      "metadata": {
        "id": "hTw-ROG09iXs",
        "colab_type": "text"
      },
      "source": [
        "# Determine your next move - next step based on previous step\n",
        "Assume you are at step 50. use if-elif-else to determine next move"
      ]
    },
    {
      "cell_type": "code",
      "metadata": {
        "id": "ps9BlGPb9jhq",
        "colab_type": "code",
        "colab": {
          "base_uri": "https://localhost:8080/",
          "height": 52
        },
        "outputId": "938ec3e4-40d0-49e1-913e-739f4ac0d21e"
      },
      "source": [
        "# Starting step\n",
        "step = 50\n",
        "\n",
        "# Roll the dice\n",
        "dice=np.random.randint(1,7)\n",
        "\n",
        "# Finish the control construct\n",
        "if dice <= 2 :\n",
        "    step = step - 1\n",
        "elif 3<=dice<6 :\n",
        "    step = step +1\n",
        "else:\n",
        "    step = step + np.random.randint(1,7)\n",
        "\n",
        "# Print out dice and step\n",
        "print(dice)\n",
        "print(step)"
      ],
      "execution_count": null,
      "outputs": [
        {
          "output_type": "stream",
          "text": [
            "5\n",
            "51\n"
          ],
          "name": "stdout"
        }
      ]
    },
    {
      "cell_type": "markdown",
      "metadata": {
        "id": "Ao6qpRZr_APi",
        "colab_type": "text"
      },
      "source": [
        "\n",
        "# How long can you go?\n",
        "Random Walk Simulation"
      ]
    },
    {
      "cell_type": "code",
      "metadata": {
        "id": "aoYBWumeB6gH",
        "colab_type": "code",
        "colab": {
          "base_uri": "https://localhost:8080/",
          "height": 55
        },
        "outputId": "63104887-f9da-4891-f510-073e988e400f"
      },
      "source": [
        "\n",
        "\n",
        "# Initialize random_walk\n",
        "random_walk=[0]\n",
        "\n",
        "for x in range(100) :\n",
        "    # Set step: last element in random_walk\n",
        "    step=random_walk[-1]\n",
        "\n",
        "    # Roll the dice\n",
        "    dice = np.random.randint(1,7)\n",
        "\n",
        "    # Determine next step\n",
        "    if dice <= 2:\n",
        "        step = max(0,step - 1)   #use max to make sure step can't go below 0\n",
        "    elif dice <= 5:\n",
        "        step = step + 1\n",
        "    else:\n",
        "        step = step + np.random.randint(1,7)\n",
        "\n",
        "    # append next_step to random_walk\n",
        "    random_walk.append(step)\n",
        "\n",
        "# Print random_walk\n",
        "print(random_walk)"
      ],
      "execution_count": null,
      "outputs": [
        {
          "output_type": "stream",
          "text": [
            "[0, 1, 0, 1, 2, 3, 2, 1, 0, 0, 0, 0, 0, 0, 1, 6, 5, 4, 5, 4, 5, 6, 7, 8, 9, 8, 9, 8, 9, 10, 11, 12, 11, 15, 16, 15, 16, 15, 16, 17, 18, 19, 20, 21, 22, 25, 26, 27, 28, 33, 34, 38, 39, 38, 39, 40, 39, 40, 41, 43, 44, 45, 44, 43, 44, 45, 44, 43, 44, 45, 47, 46, 45, 46, 45, 46, 47, 48, 50, 49, 50, 51, 52, 53, 54, 53, 52, 53, 52, 53, 54, 53, 56, 57, 58, 59, 58, 59, 60, 64, 63]\n"
          ],
          "name": "stdout"
        }
      ]
    },
    {
      "cell_type": "markdown",
      "metadata": {
        "id": "wPo1P1d8Gsps",
        "colab_type": "text"
      },
      "source": [
        "# Visualize random walk"
      ]
    },
    {
      "cell_type": "code",
      "metadata": {
        "id": "1Q7xcixEHfJ8",
        "colab_type": "code",
        "colab": {
          "base_uri": "https://localhost:8080/",
          "height": 265
        },
        "outputId": "76e35744-ae77-4562-d370-35e16954012f"
      },
      "source": [
        "# Import matplotlib.pyplot as plt\n",
        "import matplotlib.pyplot as plt\n",
        "\n",
        "# Plot random_walk\n",
        "plt.plot(random_walk)\n",
        "\n",
        "# Show the plot\n",
        "plt.show()"
      ],
      "execution_count": null,
      "outputs": [
        {
          "output_type": "display_data",
          "data": {
            "image/png": "[encoded data removed]",
            "text/plain": [
              "<Figure size 432x288 with 1 Axes>"
            ]
          },
          "metadata": {
            "tags": [],
            "needs_background": "light"
          }
        }
      ]
    },
    {
      "cell_type": "markdown",
      "metadata": {
        "id": "jUqw-IfVH9yZ",
        "colab_type": "text"
      },
      "source": [
        ""
      ]
    },
    {
      "cell_type": "code",
      "metadata": {
        "id": "W76-NhckVJ3x",
        "colab_type": "code",
        "colab": {}
      },
      "source": [
        ""
      ],
      "execution_count": null,
      "outputs": []
    }
  ]
}