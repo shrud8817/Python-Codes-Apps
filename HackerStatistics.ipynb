{
  "nbformat": 4,
  "nbformat_minor": 0,
  "metadata": {
    "colab": {
      "name": "HackerStatistics.ipynb",
      "provenance": [],
      "authorship_tag": "ABX9TyNBAwOwVOUOmdL7ftF7SBIi",
      "include_colab_link": true
    },
    "kernelspec": {
      "name": "python3",
      "display_name": "Python 3"
    }
  },
  "cells": [
    {
      "cell_type": "markdown",
      "metadata": {
        "id": "view-in-github",
        "colab_type": "text"
      },
      "source": [
        "<a href=\"https://colab.research.google.com/github/shrud8817/Python-Codes-Apps/blob/master/HackerStatistics.ipynb\" target=\"_parent\"><img src=\"https://colab.research.google.com/assets/colab-badge.svg\" alt=\"Open In Colab\"/></a>"
      ]
    },
    {
      "cell_type": "markdown",
      "metadata": {
        "id": "1BCM0l992M8t",
        "colab_type": "text"
      },
      "source": [
        "# Hacker statistics to calculate chances of winning a bet\n"
      ]
    },
    {
      "cell_type": "markdown",
      "metadata": {
        "id": "-PsQNTLg61HC",
        "colab_type": "text"
      },
      "source": [
        "You are walking up the utility building to OfficeX headquarters and you are playing a game with a friend.\n",
        "You throw a die 100 times. If it's 1 or 2 you'll go one step down. if it's 3,4 or 5 you will go one step up. If you throw a 6, you'll throw the die again and walk up the resulting number of steps. You cannot go lower than step number 0. And also you admit that you are a bit clumsy and have a chance of 0.1% of falling down the stairs when you make a move. Falling down means that you have to start again from step 0.With all this in mind you bet with your friend that you will reach 60 steps high. What is the chance that you will win this bet?\n",
        "\n",
        "How to solve?\n",
        "1. calculate the chance analytically using equations.\n",
        "2. simulate this process thousands of times and see in what fraction of the simulations that you will reach 60 steps. (hacker statistics) - we opt for this approach"
      ]
    },
    {
      "cell_type": "markdown",
      "metadata": {
        "id": "Vaz0cFW-63zu",
        "colab_type": "text"
      },
      "source": [
        "# Die simulation\n",
        "The first thing we will need are random generators so we can simulate the die. You need to import numpy and inside numpy there is a random package. Inside that package we use the \"rand\" function. "
      ]
    },
    {
      "cell_type": "code",
      "metadata": {
        "id": "qqNiVdJL68A4",
        "colab_type": "code",
        "colab": {}
      },
      "source": [
        "# Import numpy and set seed\n",
        "import numpy as np\n",
        "np.random.seed(123)\n",
        "\n",
        "# Use randint() to simulate a dice\n",
        "print(np.random.randint(1,7))\n",
        "\n",
        "# Use randint() again\n",
        "print(np.random.randint(1,7))"
      ],
      "execution_count": null,
      "outputs": []
    },
    {
      "cell_type": "markdown",
      "metadata": {
        "id": "hTw-ROG09iXs",
        "colab_type": "text"
      },
      "source": [
        "# Determine your next move\n",
        "Assume you are at step 50. use if-elif-else to determine next move"
      ]
    },
    {
      "cell_type": "code",
      "metadata": {
        "id": "ps9BlGPb9jhq",
        "colab_type": "code",
        "colab": {}
      },
      "source": [
        "# Starting step\n",
        "step = 50\n",
        "\n",
        "# Roll the dice\n",
        "dice=np.random.randint(1,7)\n",
        "\n",
        "# Finish the control construct\n",
        "if dice <= 2 :\n",
        "    step = step - 1\n",
        "elif 3<=dice<6 :\n",
        "    step = step +1\n",
        "else:\n",
        "    step = step + np.random.randint(1,7)\n",
        "\n",
        "# Print out dice and step\n",
        "print(dice)\n",
        "print(step)"
      ],
      "execution_count": null,
      "outputs": []
    },
    {
      "cell_type": "markdown",
      "metadata": {
        "id": "Ao6qpRZr_APi",
        "colab_type": "text"
      },
      "source": [
        ""
      ]
    }
  ]
}