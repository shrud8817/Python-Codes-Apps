{
  "nbformat": 4,
  "nbformat_minor": 0,
  "metadata": {
    "colab": {
      "name": "english_thesaurus.ipynb",
      "provenance": [],
      "include_colab_link": true
    },
    "kernelspec": {
      "name": "python3",
      "display_name": "Python 3"
    }
  },
  "cells": [
    {
      "cell_type": "markdown",
      "metadata": {
        "id": "view-in-github",
        "colab_type": "text"
      },
      "source": [
        "<a href=\"https://colab.research.google.com/github/shrud8817/Python_Simple_Apps/blob/main/English%20Thesaurus/english_thesaurus.ipynb\" target=\"_parent\"><img src=\"https://colab.research.google.com/assets/colab-badge.svg\" alt=\"Open In Colab\"/></a>"
      ]
    },
    {
      "cell_type": "code",
      "metadata": {
        "colab": {
          "base_uri": "https://localhost:8080/"
        },
        "id": "wfFL17fBL_AA",
        "outputId": "4ef04ccc-5da4-4f7c-9f2b-d6d92f9d2d40"
      },
      "source": [
        "import json\n",
        "from difflib import get_close_matches\n",
        "data = json.load(open(\"data.json\"))\n",
        "def translate(w):\n",
        "    w = w.lower()\n",
        "    if w in data:\n",
        "        return data[w]\n",
        "    elif w.title() in data:\n",
        "        return data[w.title()]\n",
        "    elif w.upper() in data: #in case user enters words like USA or NATO\n",
        "        return data[w.upper()]\n",
        "    elif len(get_close_matches(w, data.keys())) > 0:\n",
        "        yn = input(\"Did you mean %s instead? Enter Y if yes, or N if no: \" % get_close_matches(w, data.keys())[0])\n",
        "        if yn == \"Y\":\n",
        "            return data[get_close_matches(w, data.keys())[0]]\n",
        "        elif yn == \"N\":\n",
        "            return \"The word doesn't exist. Please double check it.\"\n",
        "        else:\n",
        "            return \"We didn't understand your entry.\"\n",
        "    else:\n",
        "        return \"The word doesn't exist. Please double check it.\"\n",
        "word = input(\"Enter word: \")\n",
        "output = translate(word)\n",
        "if type(output) == list:\n",
        "    for item in output:\n",
        "        print(item)\n",
        "else:\n",
        "    print(output)"
      ],
      "execution_count": 14,
      "outputs": [
        {
          "output_type": "stream",
          "text": [
            "Enter word: dolll\n",
            "Did you mean doll instead? Enter Y if yes, or N if no: Y\n",
            "A woman that is considered sexually attractive by a man, or many men.\n",
            "A model of a human, a humanoid, an animal or a fictional character, usually made of cloth or plastic.\n"
          ],
          "name": "stdout"
        }
      ]
    },
    {
      "cell_type": "code",
      "metadata": {
        "colab": {
          "base_uri": "https://localhost:8080/"
        },
        "id": "XC9XebvCQJVA",
        "outputId": "de507605-9259-4304-87dd-46f561000e90"
      },
      "source": [
        "# similarity ratio between two words\n",
        "from difflib import SequenceMatcher\n",
        "SequenceMatcher(None,\"rainn\",\"rain\").ratio()"
      ],
      "execution_count": 16,
      "outputs": [
        {
          "output_type": "execute_result",
          "data": {
            "text/plain": [
              "0.8888888888888888"
            ]
          },
          "metadata": {
            "tags": []
          },
          "execution_count": 16
        }
      ]
    },
    {
      "cell_type": "code",
      "metadata": {
        "colab": {
          "base_uri": "https://localhost:8080/"
        },
        "id": "KRSaa5fpQs3J",
        "outputId": "b9fef6e5-49e3-4d52-f764-22602778a01e"
      },
      "source": [
        "help(get_close_matches)"
      ],
      "execution_count": null,
      "outputs": [
        {
          "output_type": "stream",
          "text": [
            "Help on function get_close_matches in module difflib:\n",
            "\n",
            "get_close_matches(word, possibilities, n=3, cutoff=0.6)\n",
            "    Use SequenceMatcher to return list of the best \"good enough\" matches.\n",
            "    \n",
            "    word is a sequence for which close matches are desired (typically a\n",
            "    string).\n",
            "    \n",
            "    possibilities is a list of sequences against which to match word\n",
            "    (typically a list of strings).\n",
            "    \n",
            "    Optional arg n (default 3) is the maximum number of close matches to\n",
            "    return.  n must be > 0.\n",
            "    \n",
            "    Optional arg cutoff (default 0.6) is a float in [0, 1].  Possibilities\n",
            "    that don't score at least that similar to word are ignored.\n",
            "    \n",
            "    The best (no more than n) matches among the possibilities are returned\n",
            "    in a list, sorted by similarity score, most similar first.\n",
            "    \n",
            "    >>> get_close_matches(\"appel\", [\"ape\", \"apple\", \"peach\", \"puppy\"])\n",
            "    ['apple', 'ape']\n",
            "    >>> import keyword as _keyword\n",
            "    >>> get_close_matches(\"wheel\", _keyword.kwlist)\n",
            "    ['while']\n",
            "    >>> get_close_matches(\"Apple\", _keyword.kwlist)\n",
            "    []\n",
            "    >>> get_close_matches(\"accept\", _keyword.kwlist)\n",
            "    ['except']\n",
            "\n"
          ],
          "name": "stdout"
        }
      ]
    },
    {
      "cell_type": "code",
      "metadata": {
        "colab": {
          "base_uri": "https://localhost:8080/"
        },
        "id": "1Dr_ur6_Rssd",
        "outputId": "77367fdf-6434-439a-dd77-ffd9a2acc9b0"
      },
      "source": [
        "get_close_matches(\"rainn\", data.keys())"
      ],
      "execution_count": null,
      "outputs": [
        {
          "output_type": "execute_result",
          "data": {
            "text/plain": [
              "['rain', 'train', 'rainy']"
            ]
          },
          "metadata": {
            "tags": []
          },
          "execution_count": 10
        }
      ]
    }
  ]
}