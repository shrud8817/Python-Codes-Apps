{
  "nbformat": 4,
  "nbformat_minor": 0,
  "metadata": {
    "colab": {
      "name": "multiple_linear_regression.ipynb",
      "provenance": [],
      "authorship_tag": "ABX9TyP5jXygCkHYpRuEp8DZMzcf",
      "include_colab_link": true
    },
    "kernelspec": {
      "name": "python3",
      "display_name": "Python 3"
    }
  },
  "cells": [
    {
      "cell_type": "markdown",
      "metadata": {
        "id": "view-in-github",
        "colab_type": "text"
      },
      "source": [
        "<a href=\"https://colab.research.google.com/github/shrud8817/Python-Codes-Apps/blob/master/multiple_linear_regression.ipynb\" target=\"_parent\"><img src=\"https://colab.research.google.com/assets/colab-badge.svg\" alt=\"Open In Colab\"/></a>"
      ]
    },
    {
      "cell_type": "markdown",
      "metadata": {
        "id": "6ynr799X9agF",
        "colab_type": "text"
      },
      "source": [
        "#Multiple linear regression using scikit learn\n",
        "To predict sales revenue based on advertising spending through media such as TV, radio, and newspaper. \n",
        "\n",
        "- Build univariate and multivariate linear regression models using scikit-learn\n",
        "- Perform Exploratory Data Analysis (EDA) and data visualization with seaborn\n",
        "- Evaluate model fit and accuracy using numerical measures such as R² and RMSE\n",
        "- Model interaction effects in regression using basic feature engineering techniques"
      ]
    },
    {
      "cell_type": "code",
      "metadata": {
        "id": "cO90Rwlc8ZXv",
        "colab_type": "code",
        "colab": {}
      },
      "source": [
        ""
      ],
      "execution_count": null,
      "outputs": []
    }
  ]
}