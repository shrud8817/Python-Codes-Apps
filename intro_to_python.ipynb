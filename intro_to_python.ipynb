{
  "nbformat": 4,
  "nbformat_minor": 0,
  "metadata": {
    "colab": {
      "name": "intro_to_python.ipynb",
      "provenance": [],
      "collapsed_sections": [],
      "authorship_tag": "ABX9TyPtdvGV4DzMzDsC+UaAgUHx",
      "include_colab_link": true
    },
    "kernelspec": {
      "name": "python3",
      "display_name": "Python 3"
    }
  },
  "cells": [
    {
      "cell_type": "markdown",
      "metadata": {
        "id": "view-in-github",
        "colab_type": "text"
      },
      "source": [
        "<a href=\"https://colab.research.google.com/github/shrud8817/Python-Codes-Apps/blob/master/intro_to_python.ipynb\" target=\"_parent\"><img src=\"https://colab.research.google.com/assets/colab-badge.svg\" alt=\"Open In Colab\"/></a>"
      ]
    },
    {
      "cell_type": "code",
      "metadata": {
        "id": "MSZTE8fuBHPL",
        "outputId": "20629bd0-4185-4d25-e4c1-fe93cb8330da",
        "colab": {
          "base_uri": "https://localhost:8080/",
          "height": 52
        }
      },
      "source": [
        "# print statement -- comments\n",
        "print(5/8)\n",
        "print(7+10)"
      ],
      "execution_count": 2,
      "outputs": [
        {
          "output_type": "stream",
          "text": [
            "0.625\n",
            "17\n"
          ],
          "name": "stdout"
        }
      ]
    },
    {
      "cell_type": "code",
      "metadata": {
        "id": "uO4qvwuVBTQs",
        "outputId": "84346a1e-cd02-42da-b268-9152572bb880",
        "colab": {
          "base_uri": "https://localhost:8080/",
          "height": 139
        }
      },
      "source": [
        "# Addition, subtraction\n",
        "print(5 + 5)\n",
        "print(5 - 5)\n",
        "\n",
        "# Multiplication, division, modulo, and exponentiation\n",
        "print(3 * 5)\n",
        "print(10 / 2)\n",
        "print(18 % 7)\n",
        "print(4 ** 2)\n",
        "\n",
        "# How much is your $100 worth after 7 years with a 10% return?\n",
        "print(100*1.1**7) "
      ],
      "execution_count": 3,
      "outputs": [
        {
          "output_type": "stream",
          "text": [
            "10\n",
            "0\n",
            "15\n",
            "5.0\n",
            "4\n",
            "16\n",
            "194.87171000000012\n"
          ],
          "name": "stdout"
        }
      ]
    },
    {
      "cell_type": "code",
      "metadata": {
        "id": "-87iSrDvB2d6",
        "outputId": "cffc3ad3-2494-4955-bfe8-f60f7833b093",
        "colab": {
          "base_uri": "https://localhost:8080/",
          "height": 35
        }
      },
      "source": [
        "# variables\n",
        "# Create a variable savings - integer\n",
        "savings = 100\n",
        "\n",
        "# Create a variable growth_multiplier - float\n",
        "growth_multiplier=1.1\n",
        "\n",
        "# Calculate result\n",
        "result=savings*growth_multiplier**7\n",
        "\n",
        "# Print out result\n",
        "print(result)\n"
      ],
      "execution_count": 4,
      "outputs": [
        {
          "output_type": "stream",
          "text": [
            "194.87171000000012\n"
          ],
          "name": "stdout"
        }
      ]
    },
    {
      "cell_type": "code",
      "metadata": {
        "id": "F-9Ez-ZMCHs0"
      },
      "source": [
        "# variable types \n",
        "# int, float, str , bool (True, False)\n",
        "# Create a variable desc - str\n",
        "desc=\"compound interest\"\n",
        "\n",
        "# Create a variable profitable - bool\n",
        "profitable=True"
      ],
      "execution_count": 6,
      "outputs": []
    },
    {
      "cell_type": "code",
      "metadata": {
        "id": "ccSTvuuVCi_v",
        "outputId": "1855f651-2108-48b3-c51e-e95080287106",
        "colab": {
          "base_uri": "https://localhost:8080/",
          "height": 52
        }
      },
      "source": [
        "# type of a variable\n",
        "print(type(desc))\n",
        "print(type(result))"
      ],
      "execution_count": 8,
      "outputs": [
        {
          "output_type": "stream",
          "text": [
            "<class 'str'>\n",
            "<class 'float'>\n"
          ],
          "name": "stdout"
        }
      ]
    },
    {
      "cell_type": "code",
      "metadata": {
        "id": "7d77rrrqCyh_",
        "outputId": "d4d57ec2-3154-43e5-a1b1-82b2c1073a77",
        "colab": {
          "base_uri": "https://localhost:8080/",
          "height": 35
        }
      },
      "source": [
        "# operation on str variables\n",
        "doubledesc = desc+desc\n",
        "print(doubledesc)"
      ],
      "execution_count": 10,
      "outputs": [
        {
          "output_type": "stream",
          "text": [
            "compound interestcompound interest\n"
          ],
          "name": "stdout"
        }
      ]
    },
    {
      "cell_type": "code",
      "metadata": {
        "id": "XTok71tWDF1f",
        "outputId": "0dfca4a6-da9b-43b0-9ed2-524b7d4b8ff3",
        "colab": {
          "base_uri": "https://localhost:8080/",
          "height": 35
        }
      },
      "source": [
        "# type conversion\n",
        "# Fix the printout\n",
        "print(\"I started with $\" + str(savings) + \" and now have $\" + str(result) + \". Awesome!\")"
      ],
      "execution_count": 11,
      "outputs": [
        {
          "output_type": "stream",
          "text": [
            "I started with $100 and now have $194.87171000000012. Awesome!\n"
          ],
          "name": "stdout"
        }
      ]
    },
    {
      "cell_type": "code",
      "metadata": {
        "id": "T6FlXYs7DQEe"
      },
      "source": [
        "# python lists"
      ],
      "execution_count": null,
      "outputs": []
    }
  ]
}