{
  "nbformat": 4,
  "nbformat_minor": 0,
  "metadata": {
    "colab": {
      "name": "intro_to_python.ipynb",
      "provenance": [],
      "collapsed_sections": [],
      "authorship_tag": "ABX9TyOj3ZfzCq07UgQzhFsGgLkv",
      "include_colab_link": true
    },
    "kernelspec": {
      "name": "python3",
      "display_name": "Python 3"
    }
  },
  "cells": [
    {
      "cell_type": "markdown",
      "metadata": {
        "id": "view-in-github",
        "colab_type": "text"
      },
      "source": [
        "<a href=\"https://colab.research.google.com/github/shrud8817/Python-Codes-Apps/blob/master/intro_to_python.ipynb\" target=\"_parent\"><img src=\"https://colab.research.google.com/assets/colab-badge.svg\" alt=\"Open In Colab\"/></a>"
      ]
    },
    {
      "cell_type": "code",
      "metadata": {
        "id": "MSZTE8fuBHPL",
        "outputId": "20629bd0-4185-4d25-e4c1-fe93cb8330da",
        "colab": {
          "base_uri": "https://localhost:8080/",
          "height": 52
        }
      },
      "source": [
        "# print statement -- comments\n",
        "print(5/8)\n",
        "print(7+10)"
      ],
      "execution_count": null,
      "outputs": [
        {
          "output_type": "stream",
          "text": [
            "0.625\n",
            "17\n"
          ],
          "name": "stdout"
        }
      ]
    },
    {
      "cell_type": "code",
      "metadata": {
        "id": "uO4qvwuVBTQs",
        "outputId": "84346a1e-cd02-42da-b268-9152572bb880",
        "colab": {
          "base_uri": "https://localhost:8080/",
          "height": 139
        }
      },
      "source": [
        "# Addition, subtraction\n",
        "print(5 + 5)\n",
        "print(5 - 5)\n",
        "\n",
        "# Multiplication, division, modulo, and exponentiation\n",
        "print(3 * 5)\n",
        "print(10 / 2)\n",
        "print(18 % 7)\n",
        "print(4 ** 2)\n",
        "\n",
        "# How much is your $100 worth after 7 years with a 10% return?\n",
        "print(100*1.1**7) "
      ],
      "execution_count": null,
      "outputs": [
        {
          "output_type": "stream",
          "text": [
            "10\n",
            "0\n",
            "15\n",
            "5.0\n",
            "4\n",
            "16\n",
            "194.87171000000012\n"
          ],
          "name": "stdout"
        }
      ]
    },
    {
      "cell_type": "code",
      "metadata": {
        "id": "-87iSrDvB2d6",
        "outputId": "cffc3ad3-2494-4955-bfe8-f60f7833b093",
        "colab": {
          "base_uri": "https://localhost:8080/",
          "height": 35
        }
      },
      "source": [
        "# variables\n",
        "# Create a variable savings - integer\n",
        "savings = 100\n",
        "\n",
        "# Create a variable growth_multiplier - float\n",
        "growth_multiplier=1.1\n",
        "\n",
        "# Calculate result\n",
        "result=savings*growth_multiplier**7\n",
        "\n",
        "# Print out result\n",
        "print(result)\n"
      ],
      "execution_count": null,
      "outputs": [
        {
          "output_type": "stream",
          "text": [
            "194.87171000000012\n"
          ],
          "name": "stdout"
        }
      ]
    },
    {
      "cell_type": "code",
      "metadata": {
        "id": "F-9Ez-ZMCHs0"
      },
      "source": [
        "# variable types \n",
        "# int, float, str , bool (True, False)\n",
        "# Create a variable desc - str\n",
        "desc=\"compound interest\"\n",
        "\n",
        "# Create a variable profitable - bool\n",
        "profitable=True"
      ],
      "execution_count": null,
      "outputs": []
    },
    {
      "cell_type": "code",
      "metadata": {
        "id": "ccSTvuuVCi_v",
        "outputId": "1855f651-2108-48b3-c51e-e95080287106",
        "colab": {
          "base_uri": "https://localhost:8080/",
          "height": 52
        }
      },
      "source": [
        "# type of a variable\n",
        "print(type(desc))\n",
        "print(type(result))"
      ],
      "execution_count": null,
      "outputs": [
        {
          "output_type": "stream",
          "text": [
            "<class 'str'>\n",
            "<class 'float'>\n"
          ],
          "name": "stdout"
        }
      ]
    },
    {
      "cell_type": "code",
      "metadata": {
        "id": "7d77rrrqCyh_",
        "outputId": "d4d57ec2-3154-43e5-a1b1-82b2c1073a77",
        "colab": {
          "base_uri": "https://localhost:8080/",
          "height": 35
        }
      },
      "source": [
        "# operation on str variables\n",
        "doubledesc = desc+desc\n",
        "print(doubledesc)"
      ],
      "execution_count": null,
      "outputs": [
        {
          "output_type": "stream",
          "text": [
            "compound interestcompound interest\n"
          ],
          "name": "stdout"
        }
      ]
    },
    {
      "cell_type": "code",
      "metadata": {
        "id": "XTok71tWDF1f",
        "outputId": "0dfca4a6-da9b-43b0-9ed2-524b7d4b8ff3",
        "colab": {
          "base_uri": "https://localhost:8080/",
          "height": 35
        }
      },
      "source": [
        "# type conversion\n",
        "# Fix the printout\n",
        "print(\"I started with $\" + str(savings) + \" and now have $\" + str(result) + \". Awesome!\")"
      ],
      "execution_count": null,
      "outputs": [
        {
          "output_type": "stream",
          "text": [
            "I started with $100 and now have $194.87171000000012. Awesome!\n"
          ],
          "name": "stdout"
        }
      ]
    },
    {
      "cell_type": "code",
      "metadata": {
        "id": "T6FlXYs7DQEe",
        "outputId": "64b3e4f9-8caa-4e80-b624-f84a53b06e36",
        "colab": {
          "base_uri": "https://localhost:8080/",
          "height": 35
        }
      },
      "source": [
        "# python lists\n",
        "# area variables (in square meters)\n",
        "hall = 11.25\n",
        "kit = 18.0\n",
        "liv = 20.0\n",
        "bed = 10.75\n",
        "bath = 9.50\n",
        "\n",
        "# Adapt list areas\n",
        "areas = [\"hallway\",hall,\"kitchen\", kit, \"living room\", liv, \"bedroom\",bed, \"bathroom\", bath]\n",
        "\n",
        "# Print areas\n",
        "print(areas)"
      ],
      "execution_count": 1,
      "outputs": [
        {
          "output_type": "stream",
          "text": [
            "['hallway', 11.25, 'kitchen', 18.0, 'living room', 20.0, 'bedroom', 10.75, 'bathroom', 9.5]\n"
          ],
          "name": "stdout"
        }
      ]
    },
    {
      "cell_type": "code",
      "metadata": {
        "id": "foY_8CRJagJO",
        "outputId": "3dfbab42-8d92-4953-8d34-a31d8e95d922",
        "colab": {
          "base_uri": "https://localhost:8080/",
          "height": 52
        }
      },
      "source": [
        "# house information as list of lists\n",
        "house = [[\"hallway\", hall],\n",
        "         [\"kitchen\", kit],\n",
        "         [\"living room\", liv],\n",
        "         [\"bedroom\",bed],\n",
        "         [\"bathroom\",bath]]\n",
        "\n",
        "# Print out house\n",
        "\n",
        "print(house)\n",
        "# Print out the type of house\n",
        "print(type(house))"
      ],
      "execution_count": 2,
      "outputs": [
        {
          "output_type": "stream",
          "text": [
            "[['hallway', 11.25], ['kitchen', 18.0], ['living room', 20.0], ['bedroom', 10.75], ['bathroom', 9.5]]\n",
            "<class 'list'>\n"
          ],
          "name": "stdout"
        }
      ]
    },
    {
      "cell_type": "code",
      "metadata": {
        "id": "akggOnJ5aoen",
        "outputId": "88e41105-d6f6-45e1-cd1a-6f9c39799482",
        "colab": {
          "base_uri": "https://localhost:8080/",
          "height": 69
        }
      },
      "source": [
        "# subsetting lists\n",
        "# Create the areas list\n",
        "areas = [\"hallway\", 11.25, \"kitchen\", 18.0, \"living room\", 20.0, \"bedroom\", 10.75, \"bathroom\", 9.50]\n",
        "\n",
        "# Print out second element from areas\n",
        "print(areas[1])\n",
        "\n",
        "# Print out last element from areas\n",
        "print(areas[-1])\n",
        "\n",
        "# Print out the area of the living room\n",
        "print(areas[5])"
      ],
      "execution_count": 3,
      "outputs": [
        {
          "output_type": "stream",
          "text": [
            "11.25\n",
            "9.5\n",
            "20.0\n"
          ],
          "name": "stdout"
        }
      ]
    },
    {
      "cell_type": "code",
      "metadata": {
        "id": "pkonv3umawtt",
        "outputId": "10eda9a8-b8ba-465d-e2e7-3bcae55636d9",
        "colab": {
          "base_uri": "https://localhost:8080/",
          "height": 35
        }
      },
      "source": [
        "# Sum of kitchen and bedroom area: eat_sleep_area\n",
        "eat_sleep_area=areas[3]+areas[7]\n",
        "\n",
        "# Print the variable eat_sleep_area\n",
        "print(eat_sleep_area)"
      ],
      "execution_count": 4,
      "outputs": [
        {
          "output_type": "stream",
          "text": [
            "28.75\n"
          ],
          "name": "stdout"
        }
      ]
    },
    {
      "cell_type": "code",
      "metadata": {
        "id": "puOA34Zpa1PR",
        "outputId": "5b593979-8000-4ce5-a2e8-9c2482a7c0a4",
        "colab": {
          "base_uri": "https://localhost:8080/",
          "height": 52
        }
      },
      "source": [
        "#slicing and dicing\n",
        "# Use slicing to create downstairs\n",
        "downstairs=areas[0:6]\n",
        "\n",
        "# Use slicing to create upstairs\n",
        "upstairs=areas[6:]\n",
        "\n",
        "# Print out downstairs and upstairs\n",
        "print(downstairs)\n",
        "print(upstairs)"
      ],
      "execution_count": 5,
      "outputs": [
        {
          "output_type": "stream",
          "text": [
            "['hallway', 11.25, 'kitchen', 18.0, 'living room', 20.0]\n",
            "['bedroom', 10.75, 'bathroom', 9.5]\n"
          ],
          "name": "stdout"
        }
      ]
    },
    {
      "cell_type": "code",
      "metadata": {
        "id": "iuwAiS2ba-V-"
      },
      "source": [
        "# manipulating lists\n",
        "# Correct the bathroom area\n",
        "areas[-1]=10.50\n",
        "\n",
        "# Change \"living room\" to \"chill zone\"\n",
        "areas[4]=\"chill zone\""
      ],
      "execution_count": 6,
      "outputs": []
    },
    {
      "cell_type": "code",
      "metadata": {
        "id": "u9LMFTAUbVly"
      },
      "source": [
        "# Add poolhouse data to areas, new list is areas_1\n",
        "areas_1=areas+[\"poolhouse\",'24.5']\n",
        "\n",
        "# Add garage data to areas_1, new list is areas_2\n",
        "areas_2 = areas_1+[\"garage\",\"15.45\"]"
      ],
      "execution_count": 7,
      "outputs": []
    },
    {
      "cell_type": "code",
      "metadata": {
        "id": "WKPgQeLqbdCw",
        "outputId": "0a7ca507-e1e3-4a05-99e5-ff6104967126",
        "colab": {
          "base_uri": "https://localhost:8080/",
          "height": 52
        }
      },
      "source": [
        "# inner working of lists\n",
        "# Create list areas\n",
        "areas = [11.25, 18.0, 20.0, 10.75, 9.50]\n",
        "\n",
        "# Create areas_copy\n",
        "areas_copy = areas[:]\n",
        "\n",
        "# Change areas_copy\n",
        "areas_copy[0] = 5.0\n",
        "\n",
        "# Print areas\n",
        "print(areas)\n",
        "print(areas_copy)"
      ],
      "execution_count": 9,
      "outputs": [
        {
          "output_type": "stream",
          "text": [
            "[11.25, 18.0, 20.0, 10.75, 9.5]\n",
            "[5.0, 18.0, 20.0, 10.75, 9.5]\n"
          ],
          "name": "stdout"
        }
      ]
    },
    {
      "cell_type": "code",
      "metadata": {
        "id": "1bbcPr0Kb5d5"
      },
      "source": [
        "# functions\n"
      ],
      "execution_count": null,
      "outputs": []
    }
  ]
}